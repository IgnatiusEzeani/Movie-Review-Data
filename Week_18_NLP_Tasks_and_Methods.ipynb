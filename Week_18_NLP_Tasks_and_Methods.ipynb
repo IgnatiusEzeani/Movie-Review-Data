{
  "nbformat": 4,
  "nbformat_minor": 0,
  "metadata": {
    "colab": {
      "name": "Week 18 - NLP Tasks and Methods.ipynb",
      "provenance": [],
      "authorship_tag": "ABX9TyPuzngcWnAMdKdGN1qgbmeW",
      "include_colab_link": true
    },
    "kernelspec": {
      "name": "python3",
      "display_name": "Python 3"
    }
  },
  "cells": [
    {
      "cell_type": "markdown",
      "metadata": {
        "id": "view-in-github",
        "colab_type": "text"
      },
      "source": [
        "<a href=\"https://colab.research.google.com/github/IgnatiusEzeani/Movie-Review-Dataset/blob/main/Week_18_NLP_Tasks_and_Methods.ipynb\" target=\"_parent\"><img src=\"https://colab.research.google.com/assets/colab-badge.svg\" alt=\"Open In Colab\"/></a>"
      ]
    },
    {
      "cell_type": "markdown",
      "metadata": {
        "id": "UEvcqqYPD4ig"
      },
      "source": [
        "# Week 18 - Introduction to Text Classification\r\n",
        "\r\n",
        "This lab will take you through an introductory text classification task using the contents from the [AllenNLP Guide](https://guide.allennlp.org/). AllenNLP is an open source library for building deep learning models for natural language processing, developed by the Allen Institute for Artificial Intelligence.\r\n",
        "\r\n",
        "It is built on top of PyTorch and is designed to support researchers, engineers, students, etc., who wish to build high quality deep NLP models with ease. It provides high-level abstractions and APIs for common components and models in modern NLP. It also provides an extensible framework that makes it easy to run and manage NLP experiments."
      ]
    },
    {
      "cell_type": "code",
      "metadata": {
        "id": "uHw133awDdnO"
      },
      "source": [
        "# Uncomment below to install 'allennlp'\r\n",
        "# !pip install allennlp"
      ],
      "execution_count": null,
      "outputs": []
    },
    {
      "cell_type": "code",
      "metadata": {
        "id": "YkUmQPLFD2ya"
      },
      "source": [
        "from typing import Dict, Iterable, List\r\n",
        "from allennlp.data import DatasetReader, Instance\r\n",
        "from allennlp.data.fields import Field, LabelField, TextField\r\n",
        "from allennlp.data.token_indexers import TokenIndexer, SingleIdTokenIndexer\r\n",
        "from allennlp.data.tokenizers import Token, Tokenizer, WhitespaceTokenizer"
      ],
      "execution_count": null,
      "outputs": []
    }
  ]
}