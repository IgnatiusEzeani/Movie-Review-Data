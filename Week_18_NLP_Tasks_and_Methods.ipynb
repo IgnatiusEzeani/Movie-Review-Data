{
  "nbformat": 4,
  "nbformat_minor": 0,
  "metadata": {
    "colab": {
      "name": "Week 18 - NLP Tasks and Methods.ipynb",
      "provenance": [],
      "toc_visible": true,
      "authorship_tag": "ABX9TyOZ1OyR551/K7bbT28bwZHq",
      "include_colab_link": true
    },
    "kernelspec": {
      "name": "python3",
      "display_name": "Python 3"
    }
  },
  "cells": [
    {
      "cell_type": "markdown",
      "metadata": {
        "id": "view-in-github",
        "colab_type": "text"
      },
      "source": [
        "<a href=\"https://colab.research.google.com/github/IgnatiusEzeani/NLP-Lecture/blob/main/Week_18_NLP_Tasks_and_Methods.ipynb\" target=\"_parent\"><img src=\"https://colab.research.google.com/assets/colab-badge.svg\" alt=\"Open In Colab\"/></a>"
      ]
    },
    {
      "cell_type": "markdown",
      "metadata": {
        "id": "UEvcqqYPD4ig"
      },
      "source": [
        "# Week 18 - Introduction to Text Classification\r\n",
        "\r\n",
        "This lab will take you through an introductory text classification task using the contents from the [AllenNLP Guide](https://guide.allennlp.org/). AllenNLP is an open source library for building deep learning models for natural language processing, developed by the Allen Institute for Artificial Intelligence.\r\n",
        "\r\n",
        "It is built on top of PyTorch and is designed to support researchers, engineers, students, etc., who wish to build high quality deep NLP models with ease. It provides high-level abstractions and APIs for common components and models in modern NLP. It also provides an extensible framework that makes it easy to run and manage NLP experiments."
      ]
    },
    {
      "cell_type": "markdown",
      "metadata": {
        "id": "701DzDvbVo-_"
      },
      "source": [
        "# Section 1: Creating a classification model"
      ]
    },
    {
      "cell_type": "markdown",
      "metadata": {
        "id": "P1n_HZacUXOo"
      },
      "source": [
        "## What is text classification\r\n",
        "---\r\n",
        "Text classification is one of the simplest NLP tasks, where the model, given some input text, predicts a label for the text. See the figure below for an illustration.\r\n",
        "\r\n",
        "<figure>\r\n",
        "<center>\r\n",
        "<img src='https://github.com/IgnatiusEzeani/NLP-Lecture/blob/main/img/Artboard.png?raw=true' />\r\n",
        "<figcaption>A basic text classification pipeline</figcaption></center>\r\n",
        "</figure>\r\n",
        "\r\n",
        "\r\n",
        "There are a variety of applications of text classification, such as spam filtering, sentiment analysis, and topic detection. Some examples are shown in the table below.\r\n",
        "\r\n",
        "|Application | Description | Input | Output|\r\n",
        "| --- | --- | --- |--- |\r\n",
        "|Spam filtering |Detect and filter spam emails | Email |Spam / Not spam |\r\n",
        "|Sentiment analysis|Detect the polarity of text |Tweet, review|Positive / Negative|\r\n",
        "|Topic detection | Detect the topic of text | News article, blog post | Business / Tech / Sports|\r\n",
        "|Language indentification | Detect the language of text | Written text|Igbo / English / Russian|"
      ]
    },
    {
      "cell_type": "markdown",
      "metadata": {
        "id": "p7VC7UdxzgCp"
      },
      "source": [
        "## Defining input and output\r\n",
        "---\r\n",
        "The first step for building an NLP model is to define its input and output. In AllenNLP, each training example is represented by an Instance object. An Instance consists of one or more Fields, where each Field represents one piece of data used by your model, either as an input or an output. Fields will get converted to tensors and fed to your model. The Reading Data chapter provides more details on using Instances and Fields to represent textual data.\r\n",
        "For text classification, the input and the output are very simple. The model takes a `TextField` that represents the input text and predicts its label, which is represented by a `LabelField:`\r\n",
        "\r\n",
        "```\r\n",
        "# Input\r\n",
        "text: TextField\r\n",
        "\r\n",
        "# Output\r\n",
        "label: LabelField\r\n",
        "```"
      ]
    },
    {
      "cell_type": "markdown",
      "metadata": {
        "id": "XPYm6TDx0Tvy"
      },
      "source": [
        "## Reading data\r\n",
        "\r\n",
        "<figure>\r\n",
        "<center>\r\n",
        "<img src='https://github.com/IgnatiusEzeani/NLP-Lecture/blob/main/img/Slice.png?raw=true' />\r\n",
        "<figcaption>Reformating text files as instances of texts and labels</figcaption></center>\r\n",
        "</figure>\r\n",
        "\r\n",
        "The first step for building an NLP application is to read the dataset and represent it with some internal data structure.\r\n",
        "\r\n",
        "AllenNLP uses DatasetReaders to read the data, whose job it is to transform raw data files into Instances that match the input / output spec. Our spec for text classification is:\r\n",
        "```\r\n",
        "# Inputs\r\n",
        "text: TextField\r\n",
        "\r\n",
        "# Outputs\r\n",
        "label: LabelField\r\n",
        "```\r\n",
        "We’ll want one Field for the input and another for the output, and our model will use the inputs to predict the outputs.\r\n",
        "We assume the dataset has a simple data file format: `[text] [TAB] [label]`, for example:\r\n",
        "```\r\n",
        "I like this movie a lot! [TAB] positive\r\n",
        "This was a monstrous waste of time [TAB] negative\r\n",
        "AllenNLP is amazing [TAB] positive\r\n",
        "Why does this have to be so complicated? [TAB] negative\r\n",
        "This sentence expresses no sentiment [TAB] neutral\r\n",
        "```"
      ]
    },
    {
      "cell_type": "markdown",
      "metadata": {
        "id": "Jp8HG9V11Otj"
      },
      "source": [
        "## Making a DatasetReader\r\n",
        "---\r\n",
        "You can implement your own DatasetReader by inheriting from the DatasetReader class. At minimum, you need to override the _read() method, which reads the input dataset and yields Instances."
      ]
    },
    {
      "cell_type": "code",
      "metadata": {
        "id": "sMYwJiHUzbMZ"
      },
      "source": [
        "@DatasetReader.register('classification-tsv')\r\n",
        "class ClassificationTsvReader(DatasetReader):\r\n",
        "    def __init__(self):\r\n",
        "        self.tokenizer = SpacyTokenizer()\r\n",
        "        self.token_indexers = {'tokens': SingleIdTokenIndexer()}\r\n",
        "\r\n",
        "    def _read(self, file_path: str) -> Iterable[Instance]:\r\n",
        "        with open(file_path, 'r') as lines:\r\n",
        "            for line in lines:\r\n",
        "                text, label = line.strip().split('\\t')\r\n",
        "                text_field = TextField(self.tokenizer.tokenize(text),\r\n",
        "                                       self.token_indexers)\r\n",
        "                label_field = LabelField(label)\r\n",
        "                fields = {'text': text_field, 'label': label_field}\r\n",
        "                yield Instance(fields)\r\n"
      ],
      "execution_count": null,
      "outputs": []
    },
    {
      "cell_type": "markdown",
      "metadata": {
        "id": "FOEEuQYY2JFv"
      },
      "source": [
        "This is a minimal DatasetReader that will return a list of classification Instances when you call reader.read(file). This reader will take each line in the input file, split the text into words using a tokenizer (the SpacyTokenizer shown here relies on spaCy), and represent those words as tensors using a word id in a vocabulary we construct for you.\r\n",
        "Pay special attention to the text and label keys that are used in the fields dictionary passed to the Instance - these keys will be used as parameter names when passing tensors into your Model later.\r\n",
        "Ideally, the output label would be optional when we create the Instances, so that we can use the same code to make predictions on unlabeled data (say, in a demo), but for the rest of this chapter we’ll keep things simple and ignore that.\r\n",
        "\r\n",
        "There are lots of places where this could be made better for a more flexible and fully-featured reader; see the section on `DatasetReaders` for a deeper dive."
      ]
    },
    {
      "cell_type": "markdown",
      "metadata": {
        "id": "QIrmtkivwudj"
      },
      "source": [
        "## Designing your model\r\n",
        "---\r\n",
        "<figure>\r\n",
        "<center>\r\n",
        "<img src='https://github.com/IgnatiusEzeani/NLP-Lecture/blob/main/img/batch_model_loss.png?raw=true' />\r\n",
        "<figcaption>The Batch-Model-Loss structure</figcaption></center>\r\n",
        "</figure>\r\n",
        "\r\n",
        "The next thing we need is a Model that will take a batch of Instances, predict the outputs from the inputs, and compute a loss.\r\n",
        "Remember that our Instances have this input/output spec:\r\n",
        "```\r\n",
        "# Inputs\r\n",
        "text: TextField\r\n",
        "\r\n",
        "# Outputs\r\n",
        "label: LabelField\r\n",
        "```\r\n",
        "Also, remember that we used these names (text and label) for the fields in the DatasetReader. AllenNLP passes those fields by name to the model code, so we need to use the same names in our model.\r\n",
        "\r\n",
        "### What should our model do?\r\n",
        "\r\n",
        "<figure>\r\n",
        "<center>\r\n",
        "<img src='https://github.com/IgnatiusEzeani/NLP-Lecture/blob/main/img/text_model_labels.png?raw=true' />\r\n",
        "<figcaption>Expanded Batch-Model-Loss structure</figcaption></center>\r\n",
        "</figure>\r\n",
        "\r\n",
        "Conceptually, a generic model for classifying text does the following:\r\n",
        "  - Get some features corresponding to each word in your input\r\n",
        "  - Combine those word-level features into a document-level feature vector\r\n",
        "  - Classify that document-level feature vector into one of your labels.\r\n",
        "\r\n",
        "The `allennlp` library makes each of these conceptual steps into a generic abstraction that you can use in your code, so that you can have a very flexible model that can use different concrete components for each step.\r\n",
        "\r\n",
        "### Representing text with token IDs\r\n",
        "\r\n",
        "<figure>\r\n",
        "<center>\r\n",
        "<img src='https://github.com/IgnatiusEzeani/NLP-Lecture/blob/main/img/tokenIDs_models_labels.png?raw=true' />\r\n",
        "<figcaption>Token IDs are often used as initial inputs</figcaption></center>\r\n",
        "</figure>\r\n",
        "\r\n",
        "The first step is changing the strings in the input text into token ids. This is handled by the SingleIdTokenIndexer that we used previously, during part of our data processing pipeline that you don’t have to write code for\r\n",
        "\r\n",
        "### Embedding tokens\r\n",
        "\r\n",
        "<figure>\r\n",
        "<center>\r\n",
        "<img src='https://github.com/IgnatiusEzeani/NLP-Lecture/blob/main/img/embedding_tokens_labels.png?raw=true' />\r\n",
        "<figcaption>Token IDs are often used as initial inputs</figcaption></center>\r\n",
        "</figure>\r\n",
        "\r\n",
        "The first thing the `Model` does is apply an `Embedding` function that converts each token ID that we got as input into a vector. This gives us a vector for each input token, so we have a large tensor here.\r\n",
        "\r\n",
        "## Apply Seq2Vec encoder\r\n",
        "\r\n",
        "<figure>\r\n",
        "<center>\r\n",
        "<img src='https://github.com/IgnatiusEzeani/NLP-Lecture/blob/main/img/apply_seq2seq_encoder.png?raw=true' />\r\n",
        "<figcaption>Token IDs are often used as initial inputs</figcaption></center>\r\n",
        "</figure>\r\n",
        "\r\n",
        "Next we apply some function that takes the sequence of vectors for each input token and squashes it into a single vector. Before the days of pretrained language models like BERT, this was typically an LSTM or convolutional encoder. With BERT we might just take the embedding of the `[CLS]` token.\r\n",
        "\r\n",
        "### Computing distribution over labels\r\n",
        "\r\n",
        "<figure>\r\n",
        "<center>\r\n",
        "<img src='https://github.com/IgnatiusEzeani/NLP-Lecture/blob/main/img/compute_distributions_over_labels.png?raw=true' />\r\n",
        "<figcaption>Token IDs are often used as initial inputs</figcaption></center>\r\n",
        "</figure>\r\n",
        "\r\n",
        "Finally, we take that single feature vector (for each Instance in the batch), and classify it as a label, which will give us a categorical probability distribution over our label space.\r\n"
      ]
    },
    {
      "cell_type": "markdown",
      "metadata": {
        "id": "jLoz0S5NNBVS"
      },
      "source": [
        "\r\n",
        "## Implementing the model - the constructor\r\n",
        "---\r\n",
        "### AllenNLP Model basics\r\n",
        "<figure>\r\n",
        "<center>\r\n",
        "<img src= 'https://github.com/IgnatiusEzeani/NLP-Lecture/blob/main/img/allennlp_model_basic.png?raw=true' />\r\n",
        "<figcaption>Token IDs are often used as initial inputs</figcaption></center>\r\n",
        "</figure>\r\n",
        "\r\n",
        "Now that we know what our model is going to do, we need to implement it. First, we’ll say a few words about how `Models` work in `AllenNLP`:\r\n",
        " - An AllenNLP `Model` is just a PyTorch `Module`\r\n",
        " - It implements a `forward()` method, and requires the output to be a _dictionary_.\r\n",
        " - Its output contains a loss key during training, which is used to optimize the model\r\n",
        "\r\n",
        "Our training loop takes a batch of `Instances`, passes it through `Model.forward()`, grabs the loss `key` from the resulting dictionary, and uses backprop to compute gradients and update the model’s parameters. You don’t have to implement the training loop—all this will be taken care of by AllenNLP (though you can if you want to).\r\n",
        "\r\n",
        "### Constructing the Model\r\n",
        "\r\n",
        "In the `Model` constructor, we need to instantiate all of the parameters that we will want to train. It is often better to take most of these parameters as constructor _arguments_, so that we can configure the behavior of our model without changing the model code itself, and so that we can think at a higher level about what our model is doing. The constructor, `SimpleClassifier(Model)` for our text classification model looks like this:\r\n",
        "\r\n",
        "```python\r\n",
        "@Model.register('simple_classifier')\r\n",
        "class SimpleClassifier(Model):\r\n",
        "    def __init__(self,\r\n",
        "                 vocab: Vocabulary,\r\n",
        "                 embedder: TextFieldEmbedder,\r\n",
        "                 encoder: Seq2VecEncoder):\r\n",
        "        super().__init__(vocab)\r\n",
        "        self.embedder = embedder\r\n",
        "        self.encoder = encoder\r\n",
        "        num_labels = vocab.get_vocab_size(\"labels\")\r\n",
        "        self.classifier = torch.nn.Linear(encoder.get_output_dim(), num_labels)\r\n",
        "```\r\n",
        "Notice that type annotations are used a lot in AllenNLP code - this is both for code readability (it’s _way_ easier to understand what a method does if you know the types of its arguments, instead of just their names), and because we use these annotations to do some magic for you in some cases.\r\n",
        "\r\n",
        "One of those cases is constructor parameters, where we can automatically construct the embedder and encoder from a configuration file using these type annotations. See the chapter on configuration files for more information. That chapter will also tell you about the call to `@Model.register()`.\r\n",
        "\r\n",
        "The upshot is that if you’re using the allennlp train command with a configuration file (which we show how to do below), you won’t ever have to call this constructor, it all gets taken care of for you.\r\n",
        "\r\n",
        "### Passing the vocabulary\r\n",
        "`Vocabulary` manages mappings between vocabulary items (such as words and labels) and their integer IDs. In our prebuilt training loop, the vocabulary gets created by AllenNLP after reading your training data, then passed to the `Model` when it gets constructed. We’ll find all tokens and labels that you use and assign them all integer IDs in separate namespaces. The way that this happens is fully configurable.\r\n",
        "\r\n",
        "What we did in the DatasetReader will put the labels in the default “labels” namespace, and we grab the number of labels from the vocabulary on line 10.\r\n",
        "\r\n",
        "### Embedding words\r\n",
        "\r\n",
        "To get an initial word embedding, we use AllenNLP’s `TextFieldEmbedder`. This abstraction takes the tensors created by a `TextField` and embeds each one. This is our most complex abstraction, because there are a lot of ways to do this particular operation in NLP, and we want to be able to switch between these without changing our code. More details could be found from [Representing Text as Features](https://guide.allennlp.org/representing-text-as-features).\r\n",
        "\r\n",
        "All you need to know for now is that you apply this to the `text` parameter you get in `forward()`, and you get out a tensor that has a single embedding vector for each input token, with shape (`batch_size, num_tokens, embedding_dim`).\r\n",
        "\r\n",
        "### Applying a Seq2VecEncoder\r\n",
        "\r\n",
        "To squash our sequence of token vectors into a single vector, we use AllenNLP’s `Seq2VecEncoder` abstraction. As the name implies, this encapsulates an operation that takes a sequence of vectors and returns a single vector.\r\n",
        "\r\n",
        "Because all of our modules operate on batched input, this will take a tensor shaped like (`batch_size, num_tokens, embedding_dim`) and return a tensor shaped like (`batch_size, encoding_dim`).\r\n",
        "\r\n",
        "## Applying a classification layer\r\n",
        "The final parameters our `Model` needs is a classification layer, which can transform the output of our `Seq2VecEncoder` into logits, one value per possible label. These values will be converted to a probability distribution later and used for calculating the loss.\r\n",
        "\r\n",
        "We don’t need to take the `num_labels` as a constructor argument, because we’ll just use a simple linear layer, which has sizes that we can figure out inside the constructor - the `Seq2VecEncoder` knows its output dimension, and the `Vocabulary` knows how many labels there are."
      ]
    },
    {
      "cell_type": "markdown",
      "metadata": {
        "id": "N6NVZMtxMAIw"
      },
      "source": [
        "## Implementing the model — the forward method\r\n",
        "\r\n",
        "Next, we need to implement the forward() method of your model, which takes the input, produces the prediction, and computes the loss. Remember, our constructor and input/output spec look like:\r\n",
        "\r\n",
        "```python\r\n",
        "@Model.register('simple_classifier')\r\n",
        "class SimpleClassifier(Model):\r\n",
        "    def __init__(self,\r\n",
        "                 vocab: Vocabulary,\r\n",
        "                 embedder: TextFieldEmbedder,\r\n",
        "                 encoder: Seq2VecEncoder):\r\n",
        "        super().__init__(vocab)\r\n",
        "        self.embedder = embedder\r\n",
        "        self.encoder = encoder\r\n",
        "        num_labels = vocab.get_vocab_size(\"labels\")\r\n",
        "        self.classifier = torch.nn.Linear(encoder.get_output_dim(), num_labels)\r\n",
        "```\r\n",
        "```\r\n",
        "# Inputs:\r\n",
        "text: TextField\r\n",
        "\r\n",
        "# Outputs:\r\n",
        "label: LabelField\r\n",
        "```\r\n",
        "\r\n",
        "Here we’ll show how to use these parameters inside of `Model.forward()`, which will get arguments that match our input/output spec (because that’s how we coded the `DatasetReader`).\r\n",
        "\r\n",
        "## Model.forward()\r\n",
        "In `forward`, we use the parameters that we created in our constructor to transform the inputs into outputs. After we’ve predicted the outputs, we compute some loss function based on how close we got to the true outputs, and then return that loss (along with whatever else we want) so that we can use it to train the parameters.\r\n",
        "\r\n",
        "```python\r\n",
        "class SimpleClassifier(Model):\r\n",
        "    def forward(self,\r\n",
        "                text: TextFieldTensors,\r\n",
        "                label: torch.Tensor) -> Dict[str, torch.Tensor]:\r\n",
        "        # Shape: (batch_size, num_tokens, embedding_dim)\r\n",
        "        embedded_text = self.embedder(text)\r\n",
        "        # Shape: (batch_size, num_tokens)\r\n",
        "        mask = util.get_text_field_mask(text)\r\n",
        "        # Shape: (batch_size, encoding_dim)\r\n",
        "        encoded_text = self.encoder(embedded_text, mask)\r\n",
        "        # Shape: (batch_size, num_labels)\r\n",
        "        logits = self.classifier(encoded_text)\r\n",
        "        # Shape: (batch_size, num_labels)\r\n",
        "        probs = torch.nn.functional.softmax(logits)\r\n",
        "        # Shape: (1,)\r\n",
        "        loss = torch.nn.functional.cross_entropy(logits, label)\r\n",
        "        return {'loss': loss, 'probs': probs}\r\n",
        "```\r\n",
        "\r\n",
        "### Inputs to forward()\r\n",
        "The first thing to notice is the inputs to this function. The way the AllenNLP training loop works is that we will take the field names that you used in your `DatasetReader` and give you a batch of instances with _those same field names_ in `forward`. So, because we used `text` and `label` as our field names, we need to name our arguments to `forward` the same way.\r\n",
        "\r\n",
        "Second, notice the types of these arguments. Each type of `Field` knows how to convert itself into a `torch.Tensor`, then create a batched `torch.Tenso`r from all of the Fields with the same name from a batch of `Instances`. The types you see for `text` and `label` are the tensors produced by `TextField` and `LabelField` (again, see our chapter on using TextFields for more information about TextFieldTensors). The important part to know is that our `TextFieldEmbedder`, which we created in the constructor, expects this type of object as input and will return an embedded tensor as output.\r\n",
        "\r\n",
        "### Embedding the text\r\n",
        "\r\n",
        "The first actual modeling operation that we do is embed the text, getting a vector for each input token. Notice here that we’re not specifying anything about `how` that operation is done, just that a `TextFieldEmbedder` that we got in our constructor is going to do it. This lets us be very flexible later, changing between various kinds of embedding methods or pretrained representations (including ELMo and BERT) without changing our model code. More on this later.\r\n",
        "\r\n",
        "### Applying a Seq2VecEncoder\r\n",
        "\r\n",
        "After we have embedded our text, we next have to squash the sequence of vectors (one per token) into a single vector for the whole text. We do that using the `Seq2VecEncoder` that we got as a constructor argument. In order to behave properly when we’re batching pieces of text together that could have different lengths, we need to _mask_ elements in the `embedded_text` tensor that are only there due to padding. We use a utility function to get a mask from the `TextField` output, then pass that mask into the encoder.\r\n",
        "\r\n",
        "At the end of these lines, we have a single vector for each instance in the batch.\r\n",
        "\r\n",
        "### Making predictions\r\n",
        "\r\n",
        "The last step of our model is to take the vector for each instance in the batch and predict a label for it. Our `classifier` is a `torch.nn.Linear` layer that gives a score (commonly called a `logit`) for each possible label. We normalize those scores using a `softmax` operation to get a probability distribution over labels that we can return to a consumer of this model. For computing the loss, PyTorch has a built in function that computes the cross entropy between the logits that we predict and the true label distribution, and we use that as our loss function.\r\n",
        "\r\n",
        "And that’s it! This is all you need for a simple classifier. After you’ve written a `DatasetReader` and `Model`, AllenNLP takes care of the rest: connecting your input files to the dataset reader, intelligently batching together your instances and feeding them to the model, and optimizing the model’s parameters by using backprop on the loss. We go over this part in the next chapter.\r\n"
      ]
    },
    {
      "cell_type": "markdown",
      "metadata": {
        "id": "LdoLQUEdZ286"
      },
      "source": [
        "# Section 2: Training and prediction"
      ]
    },
    {
      "cell_type": "markdown",
      "metadata": {
        "id": "XmzFlYcSbHl_"
      },
      "source": [
        "The last section presented an overview of the steps involved in counstructing a classification model using a PyTorch library, `allennlp` by AllenNLP. We learned how to write your own dataset reader and construct model.\r\n",
        "\r\n",
        "In this chapter, we are going to train the text classification model and make predictions for new inputs. At this point, there are two ways to proceed: \r\n",
        "\r\n",
        "1. we can write your own script to construct the dataset reader and model and run the training loop,\r\n",
        "2. or we can write a configuration file and use the `allennlp` train command. \r\n",
        "\r\n",
        "We will explore both ways."
      ]
    },
    {
      "cell_type": "markdown",
      "metadata": {
        "id": "ab3RlTYJc2GM"
      },
      "source": [
        "## Training the model with your own script\r\n",
        "---\r\n",
        "In this section we’ll put together a simple example of reading in data, feeding it to the model, and training the model, using your own python script instead of `allennlp train`. While we recommend using `allennlp train` for most use cases, it’s easier to understand the introduction to the training loop in this section. Once you get a handle on this, switching to using our built in command should be easy, if you want to.\r\n",
        "\r\n",
        "### The Dataset\r\n",
        "Before proceeding, here are a few words about the dataset we will use throughout this chapter. The dataset is derived from the [Movie Review Data](http://www.cs.cornell.edu/people/pabo/movie-review-data/), collections of movie reviews on IMDb along with their polarity. The labels are binary (positive and negative), and our task is to predict the label from the review text.\r\n",
        "\r\n",
        "This section is going to give a series of executable examples, that you can run yourself in your browser and see what they output. They will build on each other, with code from previous examples ending up in the `Setup` block in subsequent examples.\r\n",
        "\r\n",
        "### Testing your dataset reader\r\n",
        "In the first example, we’ll simply instantiate the dataset reader, read the movie review dataset using it, and inspect the AllenNLP Instances produced by the dataset reader. Below we have code that you can run (and modify if you want)."
      ]
    },
    {
      "cell_type": "markdown",
      "metadata": {
        "id": "eNTZUvKkaj0B"
      },
      "source": [
        "Uncomment below to install `allennlp`"
      ]
    },
    {
      "cell_type": "code",
      "metadata": {
        "id": "uHw133awDdnO"
      },
      "source": [
        "# !pip install allennlp"
      ],
      "execution_count": null,
      "outputs": []
    },
    {
      "cell_type": "markdown",
      "metadata": {
        "id": "C9gO5ByTewoF"
      },
      "source": [
        "### Setup"
      ]
    },
    {
      "cell_type": "code",
      "metadata": {
        "id": "YkUmQPLFD2ya"
      },
      "source": [
        "from typing import Dict, Iterable, List\r\n",
        "from allennlp.data import DatasetReader, Instance\r\n",
        "from allennlp.data.fields import Field, LabelField, TextField\r\n",
        "from allennlp.data.token_indexers import TokenIndexer, SingleIdTokenIndexer\r\n",
        "from allennlp.data.tokenizers import Token, Tokenizer, WhitespaceTokenizer"
      ],
      "execution_count": null,
      "outputs": []
    },
    {
      "cell_type": "markdown",
      "metadata": {
        "id": "MnNGzrwke956"
      },
      "source": [
        "### The `ClassificationTsvReader`"
      ]
    },
    {
      "cell_type": "code",
      "metadata": {
        "id": "A6Jf_jvyfX_B"
      },
      "source": [
        "class ClassificationTsvReader(DatasetReader):\r\n",
        "    def __init__(\r\n",
        "        self,\r\n",
        "        tokenizer: Tokenizer = None,\r\n",
        "        token_indexers: Dict[str, TokenIndexer] = None,\r\n",
        "        max_tokens: int = None,\r\n",
        "        **kwargs\r\n",
        "    ):\r\n",
        "        super().__init__(**kwargs)\r\n",
        "        self.tokenizer = tokenizer or WhitespaceTokenizer()\r\n",
        "        self.token_indexers = token_indexers or {\"tokens\": SingleIdTokenIndexer()}\r\n",
        "        self.max_tokens = max_tokens\r\n",
        "\r\n",
        "    def _read(self, file_path: str) -> Iterable[Instance]:\r\n",
        "        with open(file_path, \"r\") as lines:\r\n",
        "            for line in lines:\r\n",
        "                text, sentiment = line.strip().split(\"\\t\")\r\n",
        "                tokens = self.tokenizer.tokenize(text)\r\n",
        "                if self.max_tokens:\r\n",
        "                    tokens = tokens[: self.max_tokens]\r\n",
        "                text_field = TextField(tokens, self.token_indexers)\r\n",
        "                label_field = LabelField(sentiment)\r\n",
        "                fields: Dict[str, Field] = {\"text\": text_field, \"label\": label_field}\r\n",
        "                yield Instance(fields)\r\n",
        "\r\n",
        "\r\n",
        "dataset_reader = ClassificationTsvReader(max_tokens=64)\r\n",
        "instances = list(dataset_reader.read(\"quick_start/data/movie_review/train.tsv\"))\r\n",
        "\r\n",
        "for instance in instances[:10]:\r\n",
        "    print(instance)"
      ],
      "execution_count": null,
      "outputs": []
    },
    {
      "cell_type": "markdown",
      "metadata": {
        "id": "PKV0BcuAfyZc"
      },
      "source": [
        "When you run the code snippet above, you should see the dumps of the first ten instances and their content, including their text and label fields. (Note that we are only showing the first 64 tokens per instance by specifying max_tokens=64).\r\n",
        "\r\n",
        "This is one way to check if your dataset reader is working as expected. We strongly recommend writing some simple tests for your data processing code, to be sure it’s actually doing what you want it to."
      ]
    }
  ]
}