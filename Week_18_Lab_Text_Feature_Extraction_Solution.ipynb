{
 "cells": [
  {
   "cell_type": "markdown",
   "metadata": {
    "colab_type": "text",
    "id": "view-in-github"
   },
   "source": [
    "<a href=\"https://colab.research.google.com/github/IgnatiusEzeani/NLP-Lecture/blob/main/Week_18_Lab_Text_Feature_Extraction.ipynb\" target=\"_parent\"><img src=\"https://colab.research.google.com/assets/colab-badge.svg\" alt=\"Open In Colab\"/></a>"
   ]
  },
  {
   "cell_type": "markdown",
   "metadata": {
    "id": "Np4jeQ0vhZvk"
   },
   "source": [
    "**Credit**: The example code below was taken from [Chapters 6 of the NLTK book](https://www.nltk.org/book/ch06.html)."
   ]
  },
  {
   "cell_type": "markdown",
   "metadata": {
    "id": "YPb1uVLUGpU4"
   },
   "source": [
    "# **Section 1**"
   ]
  },
  {
   "cell_type": "markdown",
   "metadata": {
    "id": "fKQmUn2SI24p"
   },
   "source": [
    "## Gender Identification\n",
    "\n",
    "NLTK has a wordlist corpus, `Names`, containing 8,000 first names categorized by gender. The male and female names are stored in separate files. Let's find names which appear in both files, i.e. names that are ambiguous for gender:"
   ]
  },
  {
   "cell_type": "markdown",
   "metadata": {
    "id": "L6-fTmlcsxy5"
   },
   "source": [
    "### **Import `nltk` and download the `name` corpus**"
   ]
  },
  {
   "cell_type": "code",
   "execution_count": 1,
   "metadata": {
    "id": "jdIPt9_3KaTm"
   },
   "outputs": [
    {
     "name": "stdout",
     "output_type": "stream",
     "text": [
      "Requirement already satisfied: nltk in /home/andrew/miniconda/envs/NLP-Lecture/lib/python3.7/site-packages (3.5)\n",
      "Requirement already satisfied: matplotlib in /home/andrew/miniconda/envs/NLP-Lecture/lib/python3.7/site-packages (3.3.4)\n",
      "Requirement already satisfied: pillow>=6.2.0 in /home/andrew/miniconda/envs/NLP-Lecture/lib/python3.7/site-packages (from matplotlib) (8.1.1)\n",
      "Requirement already satisfied: kiwisolver>=1.0.1 in /home/andrew/miniconda/envs/NLP-Lecture/lib/python3.7/site-packages (from matplotlib) (1.3.1)\n",
      "Requirement already satisfied: pyparsing!=2.0.4,!=2.1.2,!=2.1.6,>=2.0.3 in /home/andrew/miniconda/envs/NLP-Lecture/lib/python3.7/site-packages (from matplotlib) (2.4.7)\n",
      "Requirement already satisfied: python-dateutil>=2.1 in /home/andrew/miniconda/envs/NLP-Lecture/lib/python3.7/site-packages (from matplotlib) (2.8.1)\n",
      "Requirement already satisfied: cycler>=0.10 in /home/andrew/miniconda/envs/NLP-Lecture/lib/python3.7/site-packages (from matplotlib) (0.10.0)\n",
      "Requirement already satisfied: numpy>=1.15 in /home/andrew/miniconda/envs/NLP-Lecture/lib/python3.7/site-packages (from matplotlib) (1.20.1)\n",
      "Requirement already satisfied: six in /home/andrew/miniconda/envs/NLP-Lecture/lib/python3.7/site-packages (from cycler>=0.10->matplotlib) (1.15.0)\n",
      "Requirement already satisfied: joblib in /home/andrew/miniconda/envs/NLP-Lecture/lib/python3.7/site-packages (from nltk) (1.0.1)\n",
      "Requirement already satisfied: tqdm in /home/andrew/miniconda/envs/NLP-Lecture/lib/python3.7/site-packages (from nltk) (4.58.0)\n",
      "Requirement already satisfied: regex in /home/andrew/miniconda/envs/NLP-Lecture/lib/python3.7/site-packages (from nltk) (2020.11.13)\n",
      "Requirement already satisfied: click in /home/andrew/miniconda/envs/NLP-Lecture/lib/python3.7/site-packages (from nltk) (7.1.2)\n"
     ]
    },
    {
     "name": "stderr",
     "output_type": "stream",
     "text": [
      "[nltk_data] Downloading package names to /home/andrew/nltk_data...\n",
      "[nltk_data]   Package names is already up-to-date!\n"
     ]
    }
   ],
   "source": [
    "!pip install nltk matplotlib\n",
    "import nltk\n",
    "import random\n",
    "nltk.download('names')\n",
    "names = nltk.corpus.names "
   ]
  },
  {
   "cell_type": "markdown",
   "metadata": {
    "id": "-oxQp3aktOUa"
   },
   "source": [
    "### **Names in both male and female list**"
   ]
  },
  {
   "cell_type": "code",
   "execution_count": 2,
   "metadata": {
    "id": "L-PEqqK-P1U0"
   },
   "outputs": [
    {
     "name": "stdout",
     "output_type": "stream",
     "text": [
      "['female.txt', 'male.txt']\n",
      "365\n",
      "Abbey\n",
      "Abbie\n",
      "Abby\n",
      "Addie\n",
      "Adrian\n",
      "Adrien\n",
      "Ajay\n",
      "Alex\n",
      "Alexis\n",
      "Alfie\n",
      "Ali\n",
      "Alix\n",
      "Allie\n",
      "Allyn\n",
      "Andie\n",
      "Andrea\n",
      "Andy\n",
      "Angel\n",
      "Angie\n",
      "Ariel\n"
     ]
    }
   ],
   "source": [
    "print(names.fileids())\n",
    "male_names = names.words('male.txt')\n",
    "female_names = names.words('female.txt')\n",
    "male_female = [w for w in male_names if w in female_names]\n",
    "print(len(male_female))\n",
    "for name in male_female[:20]:\n",
    "  print(name)"
   ]
  },
  {
   "cell_type": "markdown",
   "metadata": {
    "id": "WlXanISitogQ"
   },
   "source": [
    "\n",
    "### **Distribution of last letters**\n",
    "According to [NLTK](https://www.nltk.org/book/ch02.html#sec-lexical-resources) suggests that male and female names have some distinctive characteristics. Names ending in `a`, `e` and `i` are likely to be female, while names ending in `k`, `o`, `r`, `s` and `t` are likely to be male. Let's see..."
   ]
  },
  {
   "cell_type": "code",
   "execution_count": 3,
   "metadata": {
    "id": "IJxOj6IAiCwV"
   },
   "outputs": [
    {
     "data": {
      "image/png": "[encoded data removed]",
      "text/plain": [
       "<Figure size 432x288 with 1 Axes>"
      ]
     },
     "metadata": {
      "needs_background": "light"
     },
     "output_type": "display_data"
    },
    {
     "data": {
      "text/plain": [
       "<AxesSubplot:xlabel='Samples', ylabel='Counts'>"
      ]
     },
     "execution_count": 3,
     "metadata": {},
     "output_type": "execute_result"
    }
   ],
   "source": [
    "cfd = nltk.ConditionalFreqDist(\n",
    "    (fileid, name[-1])\n",
    "    for fileid in names.fileids()\n",
    "    for name in names.words(fileid))\n",
    "cfd.plot()"
   ]
  },
  {
   "cell_type": "markdown",
   "metadata": {
    "id": "GKTCnXVtulTM"
   },
   "source": [
    "### **Feature extractor functions**\n",
    "Let's build a classifier to model these differences more precisely. The first step in creating a classifier is deciding what features of the input are relevant, and how to encode those features. For this example, we'll start by just looking at the final letter of a given name.\n",
    "\n",
    "The following feature extractors function builds a dictionary containing relevant information about a given name"
   ]
  },
  {
   "cell_type": "code",
   "execution_count": 24,
   "metadata": {
    "id": "XkqwZA97-kco"
   },
   "outputs": [],
   "source": [
    "from typing import Dict, Any\n",
    "# feature extractor 1\n",
    "def gender_features(word: str) -> Dict[str, Any]:\n",
    "  return {'last_letter': word[-1]}\n",
    "\n",
    "# feature extractor 2\n",
    "def gender_features2(name: str) -> Dict[str, Any]:\n",
    "    features = {}\n",
    "    features[\"first_letter\"] = name[0].lower()\n",
    "    features[\"last_letter\"] = name[-1].lower()\n",
    "    for letter in 'abcdefghijklmnopqrstuvwxyz':\n",
    "        features[\"count({})\".format(letter)] = name.lower().count(letter)\n",
    "        features[\"has({})\".format(letter)] = (letter in name.lower())\n",
    "    return features\n",
    "\n",
    "# feature extractor 3\n",
    "def gender_features3(word: str) -> Dict[str, Any]:\n",
    "  return {'suffix1': word[-1:], 'suffix2': word[-2:]}"
   ]
  },
  {
   "cell_type": "markdown",
   "metadata": {
    "id": "mG4qDaRuLg04"
   },
   "source": [
    "### **Compiling the training instances**"
   ]
  },
  {
   "cell_type": "code",
   "execution_count": 5,
   "metadata": {
    "id": "tkva_riO-kZh"
   },
   "outputs": [],
   "source": [
    "# Building the training instances\n",
    "labeled_names = ([(name, 'male') for name in names.words('male.txt')] \n",
    "                 + [(name, 'female') for name in names.words('female.txt')])\n",
    "random.shuffle(labeled_names)\n",
    "# len(labeled_names)"
   ]
  },
  {
   "cell_type": "markdown",
   "metadata": {
    "id": "o6O8QNZlKnLl"
   },
   "source": [
    "### **Train-DevTest-Test Split**"
   ]
  },
  {
   "cell_type": "code",
   "execution_count": 6,
   "metadata": {
    "id": "M51A2vI48Mj3"
   },
   "outputs": [
    {
     "name": "stdout",
     "output_type": "stream",
     "text": [
      "6444 1000 500\n"
     ]
    }
   ],
   "source": [
    "# train-devtest-test split\n",
    "train_names = labeled_names[1500:]\n",
    "devtest_names = labeled_names[500:1500]\n",
    "test_names = labeled_names[:500]\n",
    "print(len(train_names), len(devtest_names), len(test_names))"
   ]
  },
  {
   "cell_type": "markdown",
   "metadata": {
    "id": "JLRZLY_mKbcB"
   },
   "source": [
    "### **Extracting the features**"
   ]
  },
  {
   "cell_type": "code",
   "execution_count": 7,
   "metadata": {
    "id": "_CxljUFP9LgE"
   },
   "outputs": [],
   "source": [
    "# Extracting the features\n",
    "train_set = [(gender_features(n), gender) for (n, gender) in train_names]\n",
    "devtest_set = [(gender_features(n), gender) for (n, gender) in devtest_names]\n",
    "test_set = [(gender_features(n), gender) for (n, gender) in test_names]"
   ]
  },
  {
   "cell_type": "markdown",
   "metadata": {
    "id": "2bEVZPNBKOat"
   },
   "source": [
    "### **Training and Testing the Classifier**"
   ]
  },
  {
   "cell_type": "code",
   "execution_count": 8,
   "metadata": {
    "id": "B9_KWPJQ6JHI"
   },
   "outputs": [
    {
     "name": "stdout",
     "output_type": "stream",
     "text": [
      "Accuracy =  0.763\n"
     ]
    }
   ],
   "source": [
    "# Training the classifier\n",
    "random.shuffle(train_set)\n",
    "classifier = nltk.NaiveBayesClassifier.train(train_set)\n",
    "\n",
    "# apply the classifier to the development test\n",
    "print(\"Accuracy = \", nltk.classify.accuracy(classifier, devtest_set))"
   ]
  },
  {
   "cell_type": "markdown",
   "metadata": {
    "id": "AN8fWZAtHbh4"
   },
   "source": [
    "### **Building the Error List**"
   ]
  },
  {
   "cell_type": "code",
   "execution_count": 9,
   "metadata": {
    "id": "sn3_5EZr90tR"
   },
   "outputs": [],
   "source": [
    "# error analysis\n",
    "errors = []\n",
    "for (name, tag) in devtest_names:\n",
    "  guess = classifier.classify(gender_features(name))\n",
    "  if guess != tag:\n",
    "    errors.append((tag, guess, name))"
   ]
  },
  {
   "cell_type": "markdown",
   "metadata": {
    "id": "MnD217e5HKMA"
   },
   "source": [
    "### **Show errors**"
   ]
  },
  {
   "cell_type": "code",
   "execution_count": 10,
   "metadata": {
    "id": "-N_Md01I-ZNK"
   },
   "outputs": [
    {
     "name": "stdout",
     "output_type": "stream",
     "text": [
      "Errors: 237\n",
      "correct=female   guess=male     name=Bell                          \n",
      "correct=female   guess=male     name=Birgit                        \n",
      "correct=female   guess=male     name=Garland                       \n",
      "correct=female   guess=male     name=Hester                        \n",
      "correct=female   guess=male     name=Kathleen                      \n",
      "correct=female   guess=male     name=Lilias                        \n",
      "correct=female   guess=male     name=Magdalen                      \n",
      "correct=female   guess=male     name=Sharyl                        \n",
      "correct=female   guess=male     name=Sinead                        \n",
      "correct=female   guess=male     name=Violet                        \n",
      "correct=male     guess=female   name=Aguste                        \n",
      "correct=male     guess=female   name=Alfie                         \n",
      "correct=male     guess=female   name=Antony                        \n",
      "correct=male     guess=female   name=Keith                         \n",
      "correct=male     guess=female   name=Manish                        \n",
      "correct=male     guess=female   name=Rube                          \n",
      "correct=male     guess=female   name=Scottie                       \n",
      "correct=male     guess=female   name=Ty                            \n",
      "correct=male     guess=female   name=Welch                         \n",
      "correct=male     guess=female   name=Willi                         \n"
     ]
    }
   ],
   "source": [
    "# Error list\n",
    "print(\"Errors:\", len(errors))\n",
    "for (tag, guess, name) in sorted(errors[:20]):\n",
    "  print('correct={:<8} guess={:<8s} name={:<30}'.format(tag, guess, name))"
   ]
  },
  {
   "cell_type": "markdown",
   "metadata": {
    "id": "GQlZcaUpGrBd"
   },
   "source": [
    "### **Most informative features**"
   ]
  },
  {
   "cell_type": "code",
   "execution_count": 11,
   "metadata": {
    "id": "MRZxc8u7-hOX"
   },
   "outputs": [
    {
     "name": "stdout",
     "output_type": "stream",
     "text": [
      "Most Informative Features\n",
      "             last_letter = 'k'              male : female =     37.4 : 1.0\n",
      "             last_letter = 'a'            female : male   =     34.5 : 1.0\n",
      "             last_letter = 'f'              male : female =     15.2 : 1.0\n",
      "             last_letter = 'v'              male : female =     12.9 : 1.0\n",
      "             last_letter = 'p'              male : female =     11.8 : 1.0\n",
      "             last_letter = 'd'              male : female =      9.7 : 1.0\n",
      "             last_letter = 'm'              male : female =      8.4 : 1.0\n",
      "             last_letter = 'o'              male : female =      7.9 : 1.0\n",
      "             last_letter = 'w'              male : female =      7.5 : 1.0\n",
      "             last_letter = 'r'              male : female =      7.3 : 1.0\n"
     ]
    }
   ],
   "source": [
    "# Most informative features\n",
    "classifier.show_most_informative_features(10)"
   ]
  },
  {
   "cell_type": "markdown",
   "metadata": {
    "id": "hFRN2Gf_GQPM"
   },
   "source": [
    "### **Classifying other names**"
   ]
  },
  {
   "cell_type": "code",
   "execution_count": 12,
   "metadata": {
    "id": "K3dAeUx_-kTe"
   },
   "outputs": [
    {
     "name": "stdout",
     "output_type": "stream",
     "text": [
      "male\n",
      "female\n"
     ]
    }
   ],
   "source": [
    "print(classifier.classify(gender_features('Neo')))\n",
    "# Output: 'male'\n",
    "print(classifier.classify(gender_features('Trinity')))\n",
    "# Output: 'female'"
   ]
  },
  {
   "cell_type": "markdown",
   "metadata": {
    "id": "0O9VhNdMFM0o"
   },
   "source": [
    "### **Classifying your name**"
   ]
  },
  {
   "cell_type": "code",
   "execution_count": 13,
   "metadata": {
    "id": "Et4DTQyRFN9F"
   },
   "outputs": [],
   "source": [
    "## Uncomment and modify below to classify your name with your best classifier\n",
    "# print(classifier.classify(gender_features(<your name>))) #remember to change your "
   ]
  },
  {
   "cell_type": "markdown",
   "metadata": {
    "id": "R-6SwAlzXzJH"
   },
   "source": [
    "## **Task 1**\n",
    "\n",
    "Write a code that trains three different classifiers (`classifier1`, `classifier2` and `classifier3`) using the three feature extractor functions defined above `gender_features()`, `gender_features2()` and `gender_features3()`.\n",
    "\n",
    "1. Apply the the three classifiers to the `dev_test` and for each report the *percentage accuracy*, *error count*, *error list*.  **Which of the feature extraction methods performed best on classifying the `dev_test`? Can you explain why?**\n",
    "\n",
    "2. Apply the best performing classfier to the `test_set`. **What is the classification accuracy, error list?**\n",
    "\n",
    "3. Modify your feature extractor or any part of the code to see if you can improve the accuracy score?"
   ]
  },
  {
   "cell_type": "code",
   "execution_count": 43,
   "metadata": {
    "id": "FVGFx12KbM8-"
   },
   "outputs": [
    {
     "name": "stdout",
     "output_type": "stream",
     "text": [
      "Feature set 1\n",
      "Dev Accuracy: 0.763\n",
      "The first 10 errors on the Dev dataset:\n",
      "('male', 'male', 'Washington')\n",
      "('male', 'female', 'Ty')\n",
      "('male', 'male', 'Ward')\n",
      "('male', 'male', 'Godard')\n",
      "('male', 'female', 'Welch')\n",
      "('male', 'male', 'Adger')\n",
      "('male', 'male', 'Cleland')\n",
      "('male', 'female', 'Aguste')\n",
      "('male', 'male', 'Colin')\n",
      "('male', 'male', 'Garfinkel')\n",
      "Total number of errors on the Dev dataset: 374\n",
      "Most Informative Features\n",
      "             last_letter = 'k'              male : female =     37.4 : 1.0\n",
      "             last_letter = 'a'            female : male   =     34.5 : 1.0\n",
      "             last_letter = 'f'              male : female =     15.2 : 1.0\n",
      "             last_letter = 'v'              male : female =     12.9 : 1.0\n",
      "             last_letter = 'p'              male : female =     11.8 : 1.0\n",
      "             last_letter = 'd'              male : female =      9.7 : 1.0\n",
      "             last_letter = 'm'              male : female =      8.4 : 1.0\n",
      "             last_letter = 'o'              male : female =      7.9 : 1.0\n",
      "             last_letter = 'w'              male : female =      7.5 : 1.0\n",
      "             last_letter = 'r'              male : female =      7.3 : 1.0\n",
      "             last_letter = 'g'              male : female =      5.4 : 1.0\n",
      "             last_letter = 's'              male : female =      4.1 : 1.0\n",
      "             last_letter = 'z'              male : female =      4.1 : 1.0\n",
      "             last_letter = 't'              male : female =      4.1 : 1.0\n",
      "             last_letter = 'j'              male : female =      3.9 : 1.0\n",
      "             last_letter = 'i'            female : male   =      3.8 : 1.0\n",
      "             last_letter = 'u'              male : female =      3.2 : 1.0\n",
      "             last_letter = 'b'              male : female =      3.1 : 1.0\n",
      "             last_letter = 'n'              male : female =      2.1 : 1.0\n",
      "             last_letter = 'x'              male : female =      1.9 : 1.0\n",
      "None\n",
      "Feature set 2\n",
      "Dev Accuracy: 0.761\n",
      "The first 10 errors on the Dev dataset:\n",
      "('male', 'male', 'Washington')\n",
      "('male', 'male', 'Ty')\n",
      "('male', 'male', 'Ward')\n",
      "('male', 'male', 'Godard')\n",
      "('male', 'male', 'Welch')\n",
      "('male', 'male', 'Adger')\n",
      "('male', 'female', 'Cleland')\n",
      "('male', 'male', 'Aguste')\n",
      "('male', 'female', 'Colin')\n",
      "('male', 'female', 'Garfinkel')\n",
      "Total number of errors on the Dev dataset: 374\n",
      "Most Informative Features\n",
      "             last_letter = 'k'              male : female =     37.4 : 1.0\n",
      "             last_letter = 'a'            female : male   =     34.5 : 1.0\n",
      "             last_letter = 'f'              male : female =     15.2 : 1.0\n",
      "             last_letter = 'v'              male : female =     12.9 : 1.0\n",
      "             last_letter = 'p'              male : female =     11.8 : 1.0\n",
      "             last_letter = 'd'              male : female =      9.7 : 1.0\n",
      "                count(v) = 2              female : male   =      8.5 : 1.0\n",
      "             last_letter = 'm'              male : female =      8.4 : 1.0\n",
      "             last_letter = 'o'              male : female =      7.9 : 1.0\n",
      "             last_letter = 'w'              male : female =      7.5 : 1.0\n",
      "             last_letter = 'r'              male : female =      7.3 : 1.0\n",
      "             last_letter = 'g'              male : female =      5.4 : 1.0\n",
      "                count(w) = 2                male : female =      5.1 : 1.0\n",
      "            first_letter = 'w'              male : female =      4.4 : 1.0\n",
      "             last_letter = 's'              male : female =      4.1 : 1.0\n",
      "                  has(w) = True             male : female =      4.1 : 1.0\n",
      "             last_letter = 'z'              male : female =      4.1 : 1.0\n",
      "                count(w) = 1                male : female =      4.1 : 1.0\n",
      "             last_letter = 't'              male : female =      4.1 : 1.0\n",
      "             last_letter = 'j'              male : female =      3.9 : 1.0\n",
      "None\n",
      "Feature set 3\n",
      "Dev Accuracy: 0.772\n",
      "The first 10 errors on the Dev dataset:\n",
      "('male', 'male', 'Washington')\n",
      "('male', 'male', 'Ty')\n",
      "('male', 'male', 'Ward')\n",
      "('male', 'male', 'Godard')\n",
      "('male', 'male', 'Welch')\n",
      "('male', 'male', 'Adger')\n",
      "('male', 'male', 'Cleland')\n",
      "('male', 'female', 'Aguste')\n",
      "('male', 'male', 'Colin')\n",
      "('male', 'male', 'Garfinkel')\n",
      "Total number of errors on the Dev dataset: 374\n",
      "Most Informative Features\n",
      "                 suffix2 = 'na'           female : male   =     88.3 : 1.0\n",
      "                 suffix2 = 'la'           female : male   =     66.8 : 1.0\n",
      "                 suffix1 = 'k'              male : female =     37.4 : 1.0\n",
      "                 suffix2 = 'us'             male : female =     37.3 : 1.0\n",
      "                 suffix1 = 'a'            female : male   =     34.5 : 1.0\n",
      "                 suffix2 = 'ia'           female : male   =     33.1 : 1.0\n",
      "                 suffix2 = 'rd'             male : female =     28.1 : 1.0\n",
      "                 suffix2 = 'ta'           female : male   =     26.0 : 1.0\n",
      "                 suffix2 = 'rt'             male : female =     25.4 : 1.0\n",
      "                 suffix2 = 'ra'           female : male   =     23.6 : 1.0\n",
      "                 suffix2 = 'io'             male : female =     20.4 : 1.0\n",
      "                 suffix2 = 'ld'             male : female =     19.5 : 1.0\n",
      "                 suffix2 = 'os'             male : female =     16.0 : 1.0\n",
      "                 suffix1 = 'f'              male : female =     15.2 : 1.0\n",
      "                 suffix1 = 'v'              male : female =     12.9 : 1.0\n",
      "                 suffix2 = 'ka'           female : male   =     12.7 : 1.0\n",
      "                 suffix2 = 'em'             male : female =     12.7 : 1.0\n",
      "                 suffix1 = 'p'              male : female =     11.8 : 1.0\n",
      "                 suffix2 = 'ch'             male : female =     11.6 : 1.0\n",
      "                 suffix2 = 'on'             male : female =     10.6 : 1.0\n",
      "None\n"
     ]
    }
   ],
   "source": [
    "from typing import List, Tuple, Callable, Dict, Any\n",
    "from nltk.classify.naivebayes import NaiveBayesClassifier\n",
    "\n",
    "def create_error_list(classifier: NaiveBayesClassifier, \n",
    "                      feature_callable: Callable[[str], Dict[str, Any]], \n",
    "                      evaluation_dataset: List[Tuple[str, str]]) -> List[Tuple[str, str, str]]:\n",
    "    '''\n",
    "    :param classifier: A trained classifier\n",
    "    :param feature_callable: Converts the raw input data into features\n",
    "                             that the classifier uses as input.\n",
    "    :param evaluation_dataset: Dataset for the classifier to be tested \n",
    "                               against.\n",
    "    :returns: A list of errors that the classifier got wrong on the \n",
    "              given evaluation dataset. Each Tuple in the List contains:\n",
    "              (true label, predicted label, input data for that label)\n",
    "    '''\n",
    "    error_list = []\n",
    "    for (data, label) in evaluation_dataset:\n",
    "        prediction = classifier.classify(feature_callable(data))\n",
    "        if guess != label:\n",
    "            error_list.append((label, prediction, data))\n",
    "    return error_list\n",
    "\n",
    "def train_classifier(feature_callable: Callable[[str], Dict[str, Any]], \n",
    "                     train_dataset: List[Tuple[str, str]]) -> NaiveBayesClassifier:\n",
    "    '''\n",
    "    :param feature_callable: Converts the raw input data into features\n",
    "                             that a Naive Bayes classifier can use as input.\n",
    "    :param train_dataset: Dataset to train a Naive Bayes classifier on.\n",
    "    :returns: A Naive Bayes classifier trained on the given dataset using \n",
    "              the feature callable to create features from the data as \n",
    "              input to the classifier.\n",
    "    '''\n",
    "    train_feature_set = [(feature_callable(data), label) for (data, label) in train_dataset]\n",
    "    return nltk.NaiveBayesClassifier.train(train_feature_set)\n",
    "\n",
    "def evaluate_classifier(classifier: NaiveBayesClassifier, \n",
    "                        feature_callable: Callable[[str], Dict[str, Any]], \n",
    "                        evaluation_dataset: List[Tuple[str, str]]\n",
    "                        ) -> Tuple[float, List[Tuple[str, str, str]]]:\n",
    "    '''\n",
    "    :param classifier: A trained classifier\n",
    "    :param feature_callable: Converts the raw input data into features\n",
    "                             that the classifier uses as input.\n",
    "    :param evaluation_dataset: Dataset for the classifier to be tested \n",
    "                               against.\n",
    "    :returns: The accuracy on the evaluation dataset and a list of errors \n",
    "              that the classifier got wrong on the given evaluation dataset,\n",
    "              whereby each Tuple in the list of errors contains:\n",
    "              (true label, predicted label, input data for that label)\n",
    "    '''\n",
    "    eval_feature_set = [(feature_callable(data), label) for (data, label) in evaluation_dataset]\n",
    "    evaluation_accruacy = nltk.classify.accuracy(classifier, eval_feature_set)\n",
    "    error_list = create_error_list(classifier, feature_callable, evaluation_dataset) \n",
    "    return evaluation_accruacy, error_list\n",
    "\n",
    "def report_evaluation_results(classifier: NaiveBayesClassifier,\n",
    "                              accuracy_score: float,\n",
    "                              error_list: List[Tuple[str, str, str]],\n",
    "                              name_of_evaluation_dataset: str = 'Dev',\n",
    "                              n_errors_to_list: int = 10,\n",
    "                              k_features: int = 20) -> None:\n",
    "    '''\n",
    "    :param classifier: A trained classifier\n",
    "    :param accuracy_score: The accuracy score from the classifier being applied \n",
    "                           to an evaluation dataset.\n",
    "    :param error_list: List of errrors that the classifier got wrong on a given \n",
    "                       evaluation dataset.\n",
    "    :param name_of_evaluation_dataset: Name of the evaluation dataset.\n",
    "    :param n_errors_to_list: First **n** number of errors to list/print\n",
    "    :returns: Nothing. But prints the accuracy score, the first **n** errors \n",
    "              in the error list, the number of errors, and the top \n",
    "              **k** most informative features.\n",
    "    '''\n",
    "    print(f'{name_of_evaluation_dataset} Accuracy: {accuracy_score}')\n",
    "    print(f'The first {n_errors_to_list} errors on the '\n",
    "          f'{name_of_evaluation_dataset} dataset:')\n",
    "    for error in error_list[:n_errors_to_list]:\n",
    "        print(error)\n",
    "    print(f'Total number of errors on the {name_of_evaluation_dataset} '\n",
    "          f'dataset: {len(error_list)}')\n",
    "    print(f'{classifier.show_most_informative_features(k_features)}')\n",
    "    return None\n",
    "\n",
    "feature_set_callables = [gender_features, gender_features2, gender_features3]\n",
    "trained_classifiers: List[NaiveBayesClassifier] = []\n",
    "\n",
    "for index, feature_set_callable in enumerate(feature_set_callables):\n",
    "    print(f'Feature set {index + 1}')\n",
    "    trained_classifier = train_classifier(feature_set_callable, train_names)\n",
    "    dev_accuracy, dev_errors = evaluate_classifier(trained_classifier, \n",
    "                                                   feature_set_callable, \n",
    "                                                   devtest_names)\n",
    "    report_evaluation_results(trained_classifier, dev_accuracy, dev_errors)\n",
    "    trained_classifiers.append(trained_classifier)"
   ]
  },
  {
   "cell_type": "markdown",
   "metadata": {},
   "source": [
    "We can see from the results above that the 3rd feature set was the best. Showing that using both the last letter and the last 2 letters of a person name is affective at predicting the gender of a name."
   ]
  },
  {
   "cell_type": "code",
   "execution_count": 44,
   "metadata": {
    "id": "imSXltFlck4M"
   },
   "outputs": [
    {
     "name": "stdout",
     "output_type": "stream",
     "text": [
      "Test Accuracy: 0.824\n"
     ]
    }
   ],
   "source": [
    "# Getting the classifier that was trained on the 3rd feature set \n",
    "# and evaluating it on the test set\n",
    "best_trained_classifier = trained_classifiers[-1]\n",
    "test_accuracy, _ = evaluate_classifier(best_trained_classifier, \n",
    "                                       gender_features3, \n",
    "                                       test_names)\n",
    "print(f'Test Accuracy: {test_accuracy}')"
   ]
  },
  {
   "cell_type": "markdown",
   "metadata": {},
   "source": [
    "As we found from the most informative features from the 2nd feature set on the development data above, the `count` features were fairly informative e.g. `count(v) = 2`. Thus we are going to combine the `count` features with the 3rd feature set to create a new feature set shown below:"
   ]
  },
  {
   "cell_type": "code",
   "execution_count": 47,
   "metadata": {
    "id": "pWkYxTMFclEk"
   },
   "outputs": [
    {
     "name": "stdout",
     "output_type": "stream",
     "text": [
      "Dev Accuracy: 0.785\n",
      "The first 10 errors on the Dev dataset:\n",
      "('male', 'male', 'Washington')\n",
      "('male', 'female', 'Ty')\n",
      "('male', 'male', 'Ward')\n",
      "('male', 'male', 'Godard')\n",
      "('male', 'male', 'Welch')\n",
      "('male', 'male', 'Adger')\n",
      "('male', 'male', 'Cleland')\n",
      "('male', 'female', 'Aguste')\n",
      "('male', 'male', 'Colin')\n",
      "('male', 'male', 'Garfinkel')\n",
      "Total number of errors on the Dev dataset: 374\n",
      "Most Informative Features\n",
      "                 suffix2 = 'na'           female : male   =     88.2 : 1.0\n",
      "                 suffix2 = 'la'           female : male   =     66.7 : 1.0\n",
      "                 suffix1 = 'k'              male : female =     37.4 : 1.0\n",
      "                 suffix2 = 'us'             male : female =     37.4 : 1.0\n",
      "                 suffix1 = 'a'            female : male   =     34.5 : 1.0\n",
      "                 suffix2 = 'ia'           female : male   =     33.1 : 1.0\n",
      "                 suffix2 = 'rd'             male : female =     28.1 : 1.0\n",
      "                 suffix2 = 'ta'           female : male   =     26.0 : 1.0\n",
      "                 suffix2 = 'rt'             male : female =     25.5 : 1.0\n",
      "                 suffix2 = 'ra'           female : male   =     23.6 : 1.0\n",
      "                 suffix2 = 'io'             male : female =     20.4 : 1.0\n",
      "                 suffix2 = 'ld'             male : female =     19.5 : 1.0\n",
      "                 suffix2 = 'os'             male : female =     16.0 : 1.0\n",
      "                 suffix1 = 'f'              male : female =     15.2 : 1.0\n",
      "                 suffix1 = 'v'              male : female =     12.9 : 1.0\n",
      "                 suffix2 = 'ka'           female : male   =     12.7 : 1.0\n",
      "                 suffix1 = 'p'              male : female =     11.8 : 1.0\n",
      "                 suffix2 = 'ch'             male : female =     11.6 : 1.0\n",
      "                 suffix2 = 'on'             male : female =     10.6 : 1.0\n",
      "                 suffix2 = 'ud'             male : female =     10.5 : 1.0\n",
      "                 suffix2 = 'ti'           female : male   =     10.3 : 1.0\n",
      "                 suffix2 = 'ya'           female : male   =      9.9 : 1.0\n",
      "                 suffix1 = 'd'              male : female =      9.7 : 1.0\n",
      "                 suffix2 = 'im'             male : female =      9.6 : 1.0\n",
      "                 suffix2 = 'ew'             male : female =      9.4 : 1.0\n",
      "                 suffix2 = 'ff'             male : female =      9.4 : 1.0\n",
      "                 suffix2 = 'ip'             male : female =      9.4 : 1.0\n",
      "                 suffix2 = 'rn'             male : female =      9.4 : 1.0\n",
      "                 suffix2 = 'ar'             male : female =      9.2 : 1.0\n",
      "                count(v) = 2              female : male   =      8.5 : 1.0\n",
      "None\n"
     ]
    }
   ],
   "source": [
    "# feature extractor 4\n",
    "def gender_features4(name: str) -> Dict[str, Any]:\n",
    "    features = {}\n",
    "    for letter in 'abcdefghijklmnopqrstuvwxyz':\n",
    "        features[\"count({})\".format(letter)] = name.lower().count(letter)\n",
    "    features['suffix1'] = name[-1].lower()\n",
    "    features['suffix2'] = name[-2:].lower()\n",
    "    return features\n",
    "trained_classifier = train_classifier(gender_features4, train_names)\n",
    "dev_accuracy, dev_errors = evaluate_classifier(trained_classifier, \n",
    "                                               gender_features4, \n",
    "                                               devtest_names)\n",
    "report_evaluation_results(trained_classifier, dev_accuracy, dev_errors, k_features=30)"
   ]
  },
  {
   "cell_type": "markdown",
   "metadata": {},
   "source": [
    "As we can see the results improve, but the 20 most informative features are still the features from the 3rd feature set. However the 30th most informative feature comes from the new feature `count`"
   ]
  },
  {
   "cell_type": "markdown",
   "metadata": {
    "id": "v485qfc3crx9"
   },
   "source": [
    "---\n",
    "# **Section 2**"
   ]
  },
  {
   "cell_type": "markdown",
   "metadata": {
    "id": "CyoUIJsVdII9"
   },
   "source": [
    "## Document Classification\n",
    "First, we construct a list of documents, labeled with the appropriate categories. For this example, we've chosen the Movie Reviews Corpus, which categorizes each review as `positive` or `negative`."
   ]
  },
  {
   "cell_type": "code",
   "execution_count": 48,
   "metadata": {
    "id": "i1uqrbxjdQtE"
   },
   "outputs": [
    {
     "name": "stderr",
     "output_type": "stream",
     "text": [
      "[nltk_data] Downloading package movie_reviews to\n",
      "[nltk_data]     /home/andrew/nltk_data...\n",
      "[nltk_data]   Package movie_reviews is already up-to-date!\n"
     ]
    }
   ],
   "source": [
    "nltk.download('movie_reviews')\n",
    "from nltk.corpus import movie_reviews\n",
    "documents = [(list(movie_reviews.words(fileid)), category) \n",
    "              for category in movie_reviews.categories()\n",
    "              for fileid in movie_reviews.fileids(category)]\n",
    "random.shuffle(documents)"
   ]
  },
  {
   "cell_type": "markdown",
   "metadata": {
    "id": "0r8roRQcdtNK"
   },
   "source": [
    "Next, we define a feature extractor for documents, so the classifier will know which aspects of the data it should pay attention to. For document topic identification, we can define a feature for each word, indicating whether the document contains that word.\n",
    "\n",
    "To limit the number of features that the classifier needs to process, we begin by constructing a list of the _2000 most frequent words_ in the overall corpus"
   ]
  },
  {
   "cell_type": "code",
   "execution_count": 49,
   "metadata": {
    "id": "_jGPUGs5dvUj"
   },
   "outputs": [],
   "source": [
    "all_words = nltk.FreqDist(w.lower() for w in movie_reviews.words())\n",
    "word_features = list(all_words)[:2000]"
   ]
  },
  {
   "cell_type": "markdown",
   "metadata": {
    "id": "EEfXEh_reYsy"
   },
   "source": [
    "We can then define a feature extractor `document_features()` that simply checks whether each of these words is present in a given document."
   ]
  },
  {
   "cell_type": "code",
   "execution_count": 50,
   "metadata": {
    "id": "FALh7ieLpGqF"
   },
   "outputs": [],
   "source": [
    "def document_features(document):\n",
    "    document_words = set(document)\n",
    "    features = {}\n",
    "    for word in word_features:\n",
    "        features['contains({})'.format(word)] = (word in document_words)\n",
    "    return features"
   ]
  },
  {
   "cell_type": "markdown",
   "metadata": {
    "id": "BrkCWfKppk7K"
   },
   "source": [
    "The reason for computing the set of all words in a document in Line 2, rather than just checking if word in document, is that checking whether a word occurs in a set is much faster than checking whether it occurs in a list.\n",
    "\n",
    "Now, let's test our feature extractor by looking at the words that appeared in this positive review file `pos/cv957_8737.txt`"
   ]
  },
  {
   "cell_type": "code",
   "execution_count": 51,
   "metadata": {
    "id": "LdfFWO0Tpiyw"
   },
   "outputs": [
    {
     "name": "stdout",
     "output_type": "stream",
     "text": [
      "{'contains(,)': True, 'contains(the)': True, 'contains(.)': True, 'contains(a)': True, 'contains(and)': True, 'contains(of)': True, 'contains(to)': True, \"contains(')\": True, 'contains(is)': True, 'contains(in)': True, 'contains(s)': True, 'contains(\")': True, 'contains(it)': True, 'contains(that)': True, 'contains(-)': True, 'contains())': True, 'contains(()': True, 'contains(as)': True, 'contains(with)': True, 'contains(for)': True, 'contains(his)': True, 'contains(this)': True, 'contains(film)': False, 'contains(i)': False, 'contains(he)': True, 'contains(but)': True, 'contains(on)': True, 'contains(are)': True, 'contains(t)': False, 'contains(by)': True, 'contains(be)': True, 'contains(one)': True, 'contains(movie)': True, 'contains(an)': True, 'contains(who)': True, 'contains(not)': True, 'contains(you)': True, 'contains(from)': True, 'contains(at)': False, 'contains(was)': False, 'contains(have)': True, 'contains(they)': True, 'contains(has)': True, 'contains(her)': False, 'contains(all)': True, 'contains(?)': False, 'contains(there)': True, 'contains(like)': True, 'contains(so)': False, 'contains(out)': True, 'contains(about)': True, 'contains(up)': False, 'contains(more)': False, 'contains(what)': True, 'contains(when)': True, 'contains(which)': True, 'contains(or)': False, 'contains(she)': True, 'contains(their)': False, 'contains(:)': True, 'contains(some)': False, 'contains(just)': True, 'contains(can)': False, 'contains(if)': True, 'contains(we)': False, 'contains(him)': True, 'contains(into)': True, 'contains(even)': False, 'contains(only)': True, 'contains(than)': False, 'contains(no)': False, 'contains(good)': False, 'contains(time)': False, 'contains(most)': True, 'contains(its)': False, 'contains(will)': True, 'contains(story)': False, 'contains(would)': False, 'contains(been)': False, 'contains(much)': False, 'contains(character)': False, 'contains(also)': True, 'contains(get)': True, 'contains(other)': True, 'contains(do)': True, 'contains(two)': True, 'contains(well)': True, 'contains(them)': True, 'contains(very)': True, 'contains(characters)': False, 'contains(;)': False, 'contains(first)': False, 'contains(--)': True, 'contains(after)': False, 'contains(see)': False, 'contains(!)': True, 'contains(way)': True, 'contains(because)': False, 'contains(make)': True, 'contains(life)': False, 'contains(off)': False, 'contains(too)': False, 'contains(any)': False, 'contains(does)': False, 'contains(really)': False, 'contains(had)': False, 'contains(while)': True, 'contains(films)': False, 'contains(how)': True, 'contains(plot)': True, 'contains(little)': True, 'contains(where)': True, 'contains(people)': False, 'contains(over)': False, 'contains(could)': False, 'contains(then)': True, 'contains(me)': True, 'contains(scene)': True, 'contains(man)': False, 'contains(bad)': False, 'contains(my)': False, 'contains(never)': True, 'contains(being)': False, 'contains(best)': True, 'contains(these)': False, 'contains(don)': False, 'contains(new)': False, 'contains(doesn)': False, 'contains(scenes)': False, 'contains(many)': True, 'contains(director)': False, 'contains(such)': False, 'contains(know)': False, 'contains(were)': False, 'contains(movies)': True, 'contains(through)': False, 'contains(here)': True, 'contains(action)': True, 'contains(great)': True, 'contains(re)': True, 'contains(another)': False, 'contains(love)': False, 'contains(go)': False, 'contains(made)': False, 'contains(us)': True, 'contains(big)': False, 'contains(end)': False, 'contains(something)': False, 'contains(back)': False, 'contains(*)': True, 'contains(still)': False, 'contains(world)': True, 'contains(seems)': False, 'contains(work)': False, 'contains(those)': False, 'contains(makes)': False, 'contains(now)': False, 'contains(before)': False, 'contains(however)': True, 'contains(between)': True, 'contains(few)': False, 'contains(/)': False, 'contains(down)': False, 'contains(every)': False, 'contains(though)': False, 'contains(better)': False, 'contains(real)': False, 'contains(audience)': False, 'contains(enough)': False, 'contains(seen)': False, 'contains(take)': False, 'contains(around)': False, 'contains(both)': False, 'contains(going)': False, 'contains(year)': False, 'contains(performance)': False, 'contains(why)': False, 'contains(should)': False, 'contains(role)': False, 'contains(isn)': False, 'contains(same)': True, 'contains(old)': False, 'contains(gets)': True, 'contains(your)': False, 'contains(may)': False, 'contains(things)': True, 'contains(think)': False, 'contains(years)': False, 'contains(last)': False, 'contains(comedy)': True, 'contains(funny)': True, 'contains(actually)': True, 'contains(ve)': False, 'contains(long)': False, 'contains(look)': True, 'contains(almost)': False, 'contains(own)': True, 'contains(thing)': False, 'contains(fact)': False, 'contains(nothing)': False, 'contains(say)': False, 'contains(right)': False, 'contains(john)': False, 'contains(although)': False, 'contains(played)': True, 'contains(find)': False, 'contains(script)': False, 'contains(come)': False, 'contains(ever)': True, 'contains(cast)': False, 'contains(since)': False, 'contains(did)': False, 'contains(star)': False, 'contains(plays)': False, 'contains(young)': False, 'contains(show)': False, 'contains(comes)': False, 'contains(m)': False, 'contains(part)': False, 'contains(original)': False, 'contains(actors)': False, 'contains(screen)': True, 'contains(without)': False, 'contains(again)': False, 'contains(acting)': False, 'contains(three)': False, 'contains(day)': True, 'contains(each)': True, 'contains(point)': False, 'contains(lot)': False, 'contains(least)': True, 'contains(takes)': False, 'contains(guy)': True, 'contains(quite)': False, 'contains(himself)': False, 'contains(away)': False, 'contains(during)': False, 'contains(family)': False, 'contains(effects)': False, 'contains(course)': True, 'contains(goes)': False, 'contains(minutes)': False, 'contains(interesting)': False, 'contains(might)': False, 'contains(far)': False, 'contains(high)': False, 'contains(rather)': False, 'contains(once)': True, 'contains(must)': False, 'contains(anything)': False, 'contains(place)': True, 'contains(set)': False, 'contains(yet)': False, 'contains(watch)': True, 'contains(d)': False, 'contains(making)': True, 'contains(our)': False, 'contains(wife)': True, 'contains(hard)': False, 'contains(always)': False, 'contains(fun)': True, 'contains(didn)': False, 'contains(ll)': False, 'contains(seem)': False, 'contains(special)': False, 'contains(bit)': False, 'contains(times)': False, 'contains(trying)': False, 'contains(hollywood)': False, 'contains(instead)': False, 'contains(give)': False, 'contains(want)': False, 'contains(picture)': False, 'contains(kind)': True, 'contains(american)': False, 'contains(job)': False, 'contains(sense)': False, 'contains(woman)': True, 'contains(home)': False, 'contains(having)': False, 'contains(series)': True, 'contains(actor)': False, 'contains(probably)': False, 'contains(help)': True, 'contains(half)': False, 'contains(along)': True, 'contains(men)': False, 'contains(everything)': True, 'contains(pretty)': False, 'contains(becomes)': False, 'contains(sure)': False, 'contains(black)': False, 'contains(together)': False, 'contains(dialogue)': False, 'contains(money)': False, 'contains(become)': False, 'contains(gives)': False, 'contains(given)': False, 'contains(looking)': False, 'contains(whole)': False, 'contains(watching)': False, 'contains(father)': False, 'contains(`)': False, 'contains(feel)': False, 'contains(everyone)': False, 'contains(music)': False, 'contains(wants)': False, 'contains(sex)': False, 'contains(less)': False, 'contains(done)': False, 'contains(horror)': False, 'contains(got)': True, 'contains(death)': False, 'contains(perhaps)': False, 'contains(city)': False, 'contains(next)': False, 'contains(especially)': True, 'contains(play)': False, 'contains(girl)': False, 'contains(mind)': False, 'contains(10)': False, 'contains(moments)': False, 'contains(looks)': True, 'contains(completely)': False, 'contains(2)': False, 'contains(reason)': False, 'contains(mother)': False, 'contains(whose)': False, 'contains(line)': False, 'contains(night)': False, 'contains(human)': False, 'contains(until)': False, 'contains(rest)': False, 'contains(performances)': False, 'contains(different)': False, 'contains(evil)': False, 'contains(small)': False, 'contains(james)': False, 'contains(simply)': False, 'contains(couple)': False, 'contains(put)': False, 'contains(let)': False, 'contains(anyone)': False, 'contains(ending)': False, 'contains(case)': False, 'contains(several)': False, 'contains(dead)': False, 'contains(michael)': False, 'contains(left)': False, 'contains(thought)': False, 'contains(school)': False, 'contains(shows)': False, 'contains(humor)': False, 'contains(true)': False, 'contains(lost)': False, 'contains(written)': False, 'contains(itself)': False, 'contains(friend)': False, 'contains(entire)': False, 'contains(getting)': True, 'contains(town)': False, 'contains(turns)': False, 'contains(soon)': False, 'contains(someone)': False, 'contains(second)': False, 'contains(main)': False, 'contains(stars)': False, 'contains(found)': False, 'contains(use)': False, 'contains(problem)': False, 'contains(friends)': True, 'contains(tv)': False, 'contains(top)': True, 'contains(name)': False, 'contains(begins)': False, 'contains(called)': False, 'contains(based)': False, 'contains(comic)': False, 'contains(david)': False, 'contains(head)': False, 'contains(else)': False, 'contains(idea)': True, 'contains(either)': False, 'contains(wrong)': True, 'contains(unfortunately)': False, 'contains(later)': False, 'contains(final)': False, 'contains(hand)': False, 'contains(alien)': False, 'contains(house)': False, 'contains(group)': False, 'contains(full)': False, 'contains(used)': True, 'contains(tries)': True, 'contains(often)': True, 'contains(against)': False, 'contains(war)': False, 'contains(sequence)': False, 'contains(keep)': False, 'contains(turn)': False, 'contains(playing)': True, 'contains(boy)': False, 'contains(behind)': False, 'contains(named)': False, 'contains(certainly)': False, 'contains(live)': False, 'contains(believe)': False, 'contains(under)': False, 'contains(works)': False, 'contains(relationship)': False, 'contains(face)': False, 'contains(hour)': False, 'contains(run)': False, 'contains(style)': False, 'contains(said)': False, 'contains(despite)': False, 'contains(person)': False, 'contains(finally)': False, 'contains(shot)': False, 'contains(book)': False, 'contains(doing)': False, 'contains(tell)': False, 'contains(maybe)': False, 'contains(nice)': False, 'contains(son)': False, 'contains(perfect)': False, 'contains(side)': False, 'contains(seeing)': True, 'contains(able)': False, 'contains(finds)': False, 'contains(children)': False, 'contains(days)': False, 'contains(past)': False, 'contains(summer)': False, 'contains(camera)': False, 'contains(won)': False, 'contains(including)': False, 'contains(mr)': False, 'contains(kids)': False, 'contains(lives)': False, 'contains(directed)': False, 'contains(moment)': False, 'contains(game)': False, 'contains(running)': False, 'contains(fight)': True, 'contains(supposed)': False, 'contains(video)': False, 'contains(car)': False, 'contains(matter)': False, 'contains(kevin)': True, 'contains(joe)': False, 'contains(lines)': False, 'contains(worth)': True, 'contains(=)': False, 'contains(daughter)': False, 'contains(earth)': False, 'contains(starts)': False, 'contains(need)': False, 'contains(entertaining)': False, 'contains(white)': False, 'contains(start)': True, 'contains(writer)': False, 'contains(dark)': False, 'contains(short)': False, 'contains(self)': False, 'contains(worst)': False, 'contains(nearly)': False, 'contains(opening)': False, 'contains(try)': False, 'contains(upon)': False, 'contains(care)': False, 'contains(early)': True, 'contains(violence)': False, 'contains(throughout)': False, 'contains(team)': False, 'contains(production)': False, 'contains(example)': False, 'contains(beautiful)': False, 'contains(title)': False, 'contains(exactly)': False, 'contains(jack)': False, 'contains(review)': False, 'contains(major)': False, 'contains(drama)': False, 'contains(&)': False, 'contains(problems)': True, 'contains(sequences)': False, 'contains(obvious)': False, 'contains(version)': False, 'contains(screenplay)': False, 'contains(known)': True, 'contains(killer)': False, 'contains(wasn)': False, 'contains(robert)': False, 'contains(disney)': False, 'contains(already)': False, 'contains(close)': False, 'contains(classic)': False, 'contains(others)': True, 'contains(hit)': False, 'contains(kill)': False, 'contains(deep)': True, 'contains(five)': False, 'contains(order)': False, 'contains(act)': False, 'contains(simple)': False, 'contains(fine)': False, 'contains(themselves)': False, 'contains(heart)': False, 'contains(roles)': False, 'contains(jackie)': True, 'contains(direction)': False, 'contains(eyes)': False, 'contains(four)': False, 'contains(question)': False, 'contains(sort)': False, 'contains(sometimes)': False, 'contains(knows)': False, 'contains(supporting)': False, 'contains(coming)': False, 'contains(voice)': False, 'contains(women)': False, 'contains(truly)': False, 'contains(save)': False, 'contains(jokes)': False, 'contains(computer)': False, 'contains(child)': False, 'contains(o)': False, 'contains(boring)': False, 'contains(tom)': False, 'contains(level)': False, 'contains(1)': False, 'contains(body)': False, 'contains(guys)': False, 'contains(genre)': False, 'contains(brother)': False, 'contains(strong)': False, 'contains(stop)': True, 'contains(room)': False, 'contains(space)': False, 'contains(lee)': False, 'contains(ends)': False, 'contains(beginning)': False, 'contains(ship)': False, 'contains(york)': False, 'contains(attempt)': False, 'contains(thriller)': False, 'contains(scream)': True, 'contains(peter)': False, 'contains(aren)': False, 'contains(husband)': False, 'contains(fiction)': False, 'contains(happens)': False, 'contains(hero)': False, 'contains(novel)': False, 'contains(note)': False, 'contains(hope)': False, 'contains(king)': False, 'contains(yes)': False, 'contains(says)': False, 'contains(tells)': False, 'contains(quickly)': False, 'contains(romantic)': False, 'contains(dog)': False, 'contains(oscar)': False, 'contains(stupid)': False, 'contains(possible)': False, 'contains(saw)': False, 'contains(lead)': True, 'contains(career)': False, 'contains(murder)': False, 'contains(extremely)': False, 'contains(manages)': False, 'contains(god)': False, 'contains(mostly)': False, 'contains(wonder)': False, 'contains(particularly)': False, 'contains(future)': False, 'contains(fans)': False, 'contains(sound)': False, 'contains(worse)': False, 'contains(piece)': False, 'contains(involving)': False, 'contains(de)': False, 'contains(appears)': False, 'contains(planet)': False, 'contains(paul)': False, 'contains(involved)': False, 'contains(mean)': False, 'contains(none)': False, 'contains(taking)': False, 'contains(hours)': False, 'contains(laugh)': True, 'contains(police)': False, 'contains(sets)': False, 'contains(attention)': False, 'contains(co)': False, 'contains(hell)': False, 'contains(eventually)': False, 'contains(single)': False, 'contains(fall)': False, 'contains(falls)': False, 'contains(material)': False, 'contains(emotional)': False, 'contains(power)': False, 'contains(late)': False, 'contains(lack)': False, 'contains(dr)': False, 'contains(van)': False, 'contains(result)': False, 'contains(elements)': False, 'contains(meet)': False, 'contains(smith)': False, 'contains(science)': False, 'contains(experience)': False, 'contains(bring)': False, 'contains(wild)': False, 'contains(living)': False, 'contains(theater)': False, 'contains(interest)': False, 'contains(leads)': False, 'contains(word)': False, 'contains(feature)': False, 'contains(battle)': False, 'contains(girls)': False, 'contains(alone)': False, 'contains(obviously)': False, 'contains(george)': False, 'contains(within)': False, 'contains(usually)': False, 'contains(enjoy)': False, 'contains(guess)': False, 'contains(among)': True, 'contains(taken)': False, 'contains(feeling)': False, 'contains(laughs)': False, 'contains(aliens)': False, 'contains(talk)': True, 'contains(chance)': False, 'contains(talent)': False, 'contains(3)': False, 'contains(middle)': False, 'contains(number)': False, 'contains(easy)': False, 'contains(across)': False, 'contains(needs)': False, 'contains(attempts)': False, 'contains(happen)': False, 'contains(television)': False, 'contains(chris)': False, 'contains(deal)': False, 'contains(poor)': False, 'contains(form)': False, 'contains(girlfriend)': True, 'contains(viewer)': False, 'contains(release)': False, 'contains(killed)': False, 'contains(forced)': False, 'contains(whether)': False, 'contains(wonderful)': False, 'contains(feels)': False, 'contains(oh)': False, 'contains(tale)': False, 'contains(serious)': False, 'contains(expect)': False, 'contains(except)': False, 'contains(light)': False, 'contains(success)': False, 'contains(features)': True, 'contains(premise)': False, 'contains(happy)': False, 'contains(words)': False, 'contains(leave)': False, 'contains(important)': False, 'contains(meets)': False, 'contains(history)': False, 'contains(giving)': False, 'contains(crew)': False, 'contains(type)': False, 'contains(call)': False, 'contains(turned)': False, 'contains(released)': False, 'contains(parents)': False, 'contains(art)': False, 'contains(impressive)': False, 'contains(mission)': False, 'contains(working)': False, 'contains(seemed)': False, 'contains(score)': False, 'contains(told)': False, 'contains(recent)': False, 'contains(robin)': False, 'contains(basically)': False, 'contains(entertainment)': False, 'contains(america)': False, 'contains($)': False, 'contains(surprise)': False, 'contains(apparently)': False, 'contains(easily)': False, 'contains(ryan)': False, 'contains(cool)': False, 'contains(stuff)': False, 'contains(cop)': False, 'contains(change)': False, 'contains(williams)': False, 'contains(crime)': False, 'contains(office)': False, 'contains(parts)': False, 'contains(somehow)': False, 'contains(sequel)': False, 'contains(william)': False, 'contains(cut)': False, 'contains(die)': False, 'contains(jones)': False, 'contains(credits)': False, 'contains(batman)': False, 'contains(suspense)': False, 'contains(brings)': False, 'contains(events)': False, 'contains(reality)': False, 'contains(whom)': False, 'contains(local)': False, 'contains(talking)': False, 'contains(difficult)': True, 'contains(using)': False, 'contains(went)': False, 'contains(writing)': False, 'contains(remember)': False, 'contains(near)': False, 'contains(straight)': False, 'contains(hilarious)': True, 'contains(ago)': False, 'contains(certain)': False, 'contains(ben)': False, 'contains(kid)': False, 'contains(wouldn)': False, 'contains(slow)': True, 'contains(blood)': False, 'contains(mystery)': False, 'contains(complete)': False, 'contains(red)': False, 'contains(popular)': False, 'contains(effective)': False, 'contains(am)': False, 'contains(fast)': True, 'contains(flick)': False, 'contains(due)': False, 'contains(runs)': False, 'contains(gone)': False, 'contains(return)': False, 'contains(presence)': False, 'contains(quality)': False, 'contains(dramatic)': False, 'contains(filmmakers)': False, 'contains(age)': False, 'contains(brothers)': False, 'contains(business)': False, 'contains(general)': False, 'contains(rock)': False, 'contains(sexual)': False, 'contains(present)': False, 'contains(surprisingly)': False, 'contains(anyway)': False, 'contains(uses)': False, 'contains(4)': False, 'contains(personal)': False, 'contains(figure)': False, 'contains(smart)': False, 'contains(ways)': False, 'contains(decides)': False, 'contains(annoying)': False, 'contains(begin)': False, 'contains(couldn)': False, 'contains(somewhat)': False, 'contains(shots)': False, 'contains(rich)': False, 'contains(minute)': False, 'contains(law)': False, 'contains(previous)': False, 'contains(jim)': False, 'contains(successful)': False, 'contains(harry)': False, 'contains(water)': False, 'contains(similar)': False, 'contains(absolutely)': False, 'contains(motion)': False, 'contains(former)': False, 'contains(strange)': False, 'contains(came)': False, 'contains(follow)': False, 'contains(read)': False, 'contains(project)': False, 'contains(million)': True, 'contains(secret)': False, 'contains(starring)': False, 'contains(clear)': False, 'contains(familiar)': False, 'contains(romance)': False, 'contains(intelligent)': False, 'contains(third)': True, 'contains(excellent)': False, 'contains(amazing)': False, 'contains(party)': False, 'contains(budget)': False, 'contains(eye)': False, 'contains(actress)': False, 'contains(prison)': False, 'contains(latest)': False, 'contains(means)': True, 'contains(company)': False, 'contains(towards)': False, 'contains(predictable)': False, 'contains(powerful)': False, 'contains(nor)': False, 'contains(bob)': False, 'contains(beyond)': False, 'contains(visual)': False, 'contains(leaves)': False, 'contains(r)': False, 'contains(nature)': False, 'contains(following)': False, 'contains(villain)': False, 'contains(leaving)': False, 'contains(animated)': False, 'contains(low)': False, 'contains(myself)': False, 'contains(b)': False, 'contains(bill)': False, 'contains(sam)': False, 'contains(filled)': False, 'contains(wars)': False, 'contains(questions)': False, 'contains(cinema)': False, 'contains(message)': False, 'contains(box)': False, 'contains(moving)': True, 'contains(herself)': False, 'contains(country)': False, 'contains(usual)': False, 'contains(martin)': False, 'contains(definitely)': False, 'contains(add)': False, 'contains(large)': False, 'contains(clever)': False, 'contains(create)': False, 'contains(felt)': False, 'contains(stories)': False, 'contains(brilliant)': False, 'contains(ones)': False, 'contains(giant)': False, 'contains(situation)': False, 'contains(murphy)': False, 'contains(break)': False, 'contains(opens)': False, 'contains(scary)': False, 'contains(doubt)': False, 'contains(drug)': True, 'contains(bunch)': False, 'contains(thinking)': False, 'contains(solid)': False, 'contains(effect)': False, 'contains(learn)': False, 'contains(move)': False, 'contains(force)': False, 'contains(potential)': False, 'contains(seriously)': False, 'contains(follows)': False, 'contains(above)': False, 'contains(saying)': False, 'contains(huge)': False, 'contains(class)': False, 'contains(plan)': False, 'contains(agent)': False, 'contains(created)': False, 'contains(unlike)': False, 'contains(pay)': False, 'contains(non)': True, 'contains(married)': False, 'contains(mark)': False, 'contains(sweet)': False, 'contains(perfectly)': False, 'contains(ex)': False, 'contains(realize)': False, 'contains(audiences)': False, 'contains(took)': False, 'contains(decent)': False, 'contains(likely)': False, 'contains(dream)': False, 'contains(view)': False, 'contains(scott)': False, 'contains(subject)': False, 'contains(understand)': False, 'contains(happened)': False, 'contains(enjoyable)': True, 'contains(studio)': False, 'contains(immediately)': False, 'contains(open)': False, 'contains(e)': False, 'contains(points)': False, 'contains(heard)': False, 'contains(viewers)': False, 'contains(cameron)': False, 'contains(truman)': False, 'contains(bruce)': False, 'contains(frank)': False, 'contains(private)': False, 'contains(stay)': False, 'contains(fails)': False, 'contains(impossible)': False, 'contains(cold)': False, 'contains(richard)': False, 'contains(overall)': False, 'contains(merely)': False, 'contains(exciting)': False, 'contains(mess)': False, 'contains(chase)': True, 'contains(free)': False, 'contains(ten)': False, 'contains(neither)': False, 'contains(wanted)': False, 'contains(gun)': True, 'contains(appear)': False, 'contains(carter)': False, 'contains(escape)': False, 'contains(ultimately)': False, 'contains(+)': False, 'contains(fan)': False, 'contains(inside)': False, 'contains(favorite)': False, 'contains(haven)': False, 'contains(modern)': False, 'contains(l)': False, 'contains(wedding)': False, 'contains(stone)': False, 'contains(trek)': False, 'contains(brought)': False, 'contains(trouble)': True, 'contains(otherwise)': False, 'contains(tim)': False, 'contains(5)': False, 'contains(allen)': False, 'contains(bond)': False, 'contains(society)': False, 'contains(liked)': False, 'contains(dumb)': False, 'contains(musical)': False, 'contains(stand)': False, 'contains(political)': False, 'contains(various)': False, 'contains(talented)': False, 'contains(particular)': False, 'contains(west)': False, 'contains(state)': False, 'contains(keeps)': True, 'contains(english)': False, 'contains(silly)': False, 'contains(u)': False, 'contains(situations)': False, 'contains(park)': False, 'contains(teen)': False, 'contains(rating)': False, 'contains(slightly)': False, 'contains(steve)': False, 'contains(truth)': False, 'contains(air)': False, 'contains(element)': False, 'contains(joke)': False, 'contains(spend)': False, 'contains(key)': True, 'contains(biggest)': False, 'contains(members)': False, 'contains(effort)': False, 'contains(government)': False, 'contains(focus)': False, 'contains(eddie)': False, 'contains(soundtrack)': False, 'contains(hands)': False, 'contains(earlier)': False, 'contains(chan)': True, 'contains(purpose)': False, 'contains(today)': True, 'contains(showing)': False, 'contains(memorable)': False, 'contains(six)': False, 'contains(cannot)': False, 'contains(max)': False, 'contains(offers)': False, 'contains(rated)': False, 'contains(mars)': False, 'contains(heavy)': False, 'contains(totally)': False, 'contains(control)': False, 'contains(credit)': False, 'contains(fi)': False, 'contains(woody)': False, 'contains(ideas)': False, 'contains(sci)': False, 'contains(wait)': False, 'contains(sit)': False, 'contains(female)': False, 'contains(ask)': False, 'contains(waste)': False, 'contains(terrible)': False, 'contains(depth)': False, 'contains(simon)': False, 'contains(aspect)': False, 'contains(list)': False, 'contains(mary)': False, 'contains(sister)': False, 'contains(animation)': False, 'contains(entirely)': False, 'contains(fear)': False, 'contains(steven)': False, 'contains(moves)': False, 'contains(actual)': False, 'contains(army)': False, 'contains(british)': False, 'contains(constantly)': False, 'contains(fire)': False, 'contains(convincing)': False, 'contains(setting)': False, 'contains(gave)': False, 'contains(tension)': False, 'contains(street)': False, 'contains(8)': False, 'contains(brief)': True, 'contains(ridiculous)': False, 'contains(cinematography)': False, 'contains(typical)': False, 'contains(nick)': False, 'contains(screenwriter)': False, 'contains(ability)': False, 'contains(spent)': False, 'contains(quick)': True, 'contains(violent)': False, 'contains(atmosphere)': False, 'contains(subtle)': False, 'contains(expected)': False, 'contains(fairly)': True, 'contains(seven)': False, 'contains(killing)': False, 'contains(tone)': False, 'contains(master)': False, 'contains(disaster)': False, 'contains(lots)': False, 'contains(thinks)': False, 'contains(song)': False, 'contains(cheap)': False, 'contains(suddenly)': False, 'contains(background)': False, 'contains(club)': False, 'contains(willis)': False, 'contains(whatever)': False, 'contains(highly)': False, 'contains(sees)': True, 'contains(complex)': False, 'contains(greatest)': False, 'contains(impact)': False, 'contains(beauty)': False, 'contains(front)': False, 'contains(humans)': False, 'contains(indeed)': False, 'contains(flat)': False, 'contains(grace)': False, 'contains(wrote)': False, 'contains(amusing)': False, 'contains(ii)': False, 'contains(mike)': False, 'contains(further)': False, 'contains(cute)': False, 'contains(dull)': False, 'contains(minor)': False, 'contains(recently)': False, 'contains(hate)': False, 'contains(outside)': False, 'contains(plenty)': False, 'contains(wish)': False, 'contains(godzilla)': False, 'contains(college)': False, 'contains(titanic)': False, 'contains(sounds)': False, 'contains(telling)': False, 'contains(sight)': False, 'contains(double)': False, 'contains(cinematic)': False, 'contains(queen)': False, 'contains(hold)': False, 'contains(meanwhile)': False, 'contains(awful)': False, 'contains(clearly)': False, 'contains(theme)': False, 'contains(hear)': False, 'contains(x)': False, 'contains(amount)': False, 'contains(baby)': False, 'contains(approach)': False, 'contains(dreams)': False, 'contains(shown)': False, 'contains(island)': False, 'contains(reasons)': False, 'contains(charm)': False, 'contains(miss)': True, 'contains(longer)': False, 'contains(common)': False, 'contains(sean)': False, 'contains(carry)': False, 'contains(believable)': False, 'contains(realistic)': False, 'contains(chemistry)': True, 'contains(possibly)': False, 'contains(casting)': False, 'contains(carrey)': False, 'contains(french)': False, 'contains(trailer)': False, 'contains(tough)': False, 'contains(produced)': False, 'contains(imagine)': False, 'contains(choice)': False, 'contains(ride)': False, 'contains(somewhere)': False, 'contains(hot)': False, 'contains(race)': False, 'contains(road)': False, 'contains(leader)': False, 'contains(thin)': False, 'contains(jerry)': False, 'contains(slowly)': False, 'contains(delivers)': False, 'contains(detective)': False, 'contains(brown)': False, 'contains(jackson)': False, 'contains(member)': False, 'contains(provide)': False, 'contains(president)': False, 'contains(puts)': False, 'contains(asks)': False, 'contains(critics)': False, 'contains(appearance)': False, 'contains(famous)': False, 'contains(okay)': False, 'contains(intelligence)': False, 'contains(energy)': False, 'contains(sent)': False, 'contains(spielberg)': False, 'contains(development)': False, 'contains(etc)': False, 'contains(language)': False, 'contains(blue)': False, 'contains(proves)': False, 'contains(vampire)': False, 'contains(seemingly)': False, 'contains(basic)': False, 'contains(caught)': False, 'contains(decide)': False, 'contains(opportunity)': False, 'contains(incredibly)': False, 'contains(images)': False, 'contains(band)': False, 'contains(j)': False, 'contains(writers)': False, 'contains(knew)': False, 'contains(interested)': False, 'contains(considering)': False, 'contains(boys)': False, 'contains(thanks)': False, 'contains(remains)': False, 'contains(climax)': True, 'contains(event)': False, 'contains(directing)': False, 'contains(conclusion)': False, 'contains(leading)': False, 'contains(ground)': False, 'contains(lies)': False, 'contains(forget)': False, 'contains(alive)': False, 'contains(tarzan)': False, 'contains(century)': False, 'contains(provides)': False, 'contains(trip)': False, 'contains(partner)': False, 'contains(central)': False, 'contains(tarantino)': False, 'contains(period)': False, 'contains(pace)': False, 'contains(yourself)': False, 'contains(worked)': False, 'contains(ready)': False, 'contains(date)': False, 'contains(thus)': False, 'contains(1998)': False, 'contains(terrific)': False, 'contains(write)': False, 'contains(average)': False, 'contains(onto)': False, 'contains(songs)': False, 'contains(occasionally)': False, 'contains(doctor)': False, 'contains(stands)': False, 'contains(hardly)': False, 'contains(monster)': False, 'contains(led)': False, 'contains(mysterious)': False, 'contains(details)': False, 'contains(wasted)': False, 'contains(apart)': False, 'contains(aside)': False, 'contains(store)': False, 'contains(billy)': False, 'contains(boss)': True, 'contains(travolta)': False, 'contains(producer)': False, 'contains(pull)': False, 'contains(consider)': False, 'contains(pictures)': False, 'contains(becoming)': False, 'contains(cage)': False, 'contains(loud)': False, 'contains(looked)': False, 'contains(officer)': False, 'contains(twenty)': False, 'contains(system)': False, 'contains(contains)': False, 'contains(julia)': False, 'contains(subplot)': False, 'contains(missing)': False, 'contains(personality)': False, 'contains(building)': False, 'contains(learns)': False, 'contains(hong)': True, 'contains(la)': False, 'contains(apartment)': False, 'contains(7)': False, 'contains(bizarre)': False, 'contains(powers)': False, 'contains(flaws)': False, 'contains(catch)': False, 'contains(lawyer)': False, 'contains(shoot)': False, 'contains(student)': False, 'contains(unique)': True, 'contains(000)': False, 'contains(admit)': False, 'contains(concept)': False, 'contains(needed)': False, 'contains(thrown)': False, 'contains(christopher)': False, 'contains(laughing)': False, 'contains(green)': False, 'contains(twists)': False, 'contains(matthew)': False, 'contains(touch)': False, 'contains(waiting)': False, 'contains(victim)': False, 'contains(cover)': False, 'contains(machine)': False, 'contains(danny)': False, 'contains(mention)': False, 'contains(search)': False, 'contains(1997)': False, 'contains(win)': False, 'contains(door)': False, 'contains(manner)': False, 'contains(train)': True, 'contains(saving)': False, 'contains(share)': False, 'contains(image)': False, 'contains(discovers)': False, 'contains(normal)': False, 'contains(cross)': False, 'contains(fox)': False, 'contains(returns)': False, 'contains(adult)': False, 'contains(adds)': False, 'contains(answer)': False, 'contains(adventure)': False, 'contains(lame)': False, 'contains(male)': False, 'contains(odd)': False, 'contains(singer)': False, 'contains(deserves)': False, 'contains(gore)': False, 'contains(states)': False, 'contains(include)': False, 'contains(equally)': False, 'contains(months)': False, 'contains(barely)': False, 'contains(directors)': False, 'contains(introduced)': False, 'contains(fashion)': False, 'contains(social)': False, 'contains(1999)': False, 'contains(news)': False, 'contains(hair)': False, 'contains(dance)': False, 'contains(innocent)': False, 'contains(camp)': False, 'contains(teacher)': False, 'contains(became)': False, 'contains(sad)': False, 'contains(witch)': False, 'contains(includes)': False, 'contains(nights)': False, 'contains(jason)': False, 'contains(julie)': False, 'contains(latter)': False, 'contains(food)': True, 'contains(jennifer)': False, 'contains(land)': False, 'contains(menace)': False, 'contains(rate)': False, 'contains(storyline)': False, 'contains(contact)': False, 'contains(jean)': False, 'contains(elizabeth)': False, 'contains(fellow)': False, 'contains(changes)': False, 'contains(henry)': False, 'contains(hill)': False, 'contains(pulp)': False, 'contains(gay)': False, 'contains(tried)': False, 'contains(surprised)': False, 'contains(literally)': False, 'contains(walk)': False, 'contains(standard)': False, 'contains(90)': False, 'contains(forward)': False, 'contains(wise)': False, 'contains(enjoyed)': False, 'contains(discover)': False, 'contains(pop)': False, 'contains(anderson)': False, 'contains(offer)': False, 'contains(recommend)': False, 'contains(public)': False, 'contains(drive)': False, 'contains(c)': False, 'contains(toy)': False, 'contains(charming)': False, 'contains(fair)': False, 'contains(chinese)': True, 'contains(rescue)': False, 'contains(terms)': False, 'contains(mouth)': False, 'contains(lucas)': False, 'contains(accident)': False, 'contains(dies)': False, 'contains(decided)': False, 'contains(edge)': False, 'contains(footage)': False, 'contains(culture)': False, 'contains(weak)': False, 'contains(presented)': False, 'contains(blade)': False, 'contains(younger)': False, 'contains(douglas)': False, 'contains(natural)': False, 'contains(born)': False, 'contains(generally)': False, 'contains(teenage)': False, 'contains(older)': False, 'contains(horrible)': False, 'contains(addition)': False, 'contains(sadly)': False, 'contains(creates)': False, 'contains(disturbing)': False, 'contains(roger)': False, 'contains(detail)': False, 'contains(devil)': False, 'contains(debut)': False, 'contains(track)': False, 'contains(developed)': False, 'contains(week)': False, 'contains(russell)': False, 'contains(attack)': False, 'contains(explain)': False, 'contains(rarely)': False, 'contains(fully)': False, 'contains(prove)': False, 'contains(exception)': False, 'contains(jeff)': False, 'contains(twist)': False, 'contains(gang)': False, 'contains(winning)': False, 'contains(jr)': False, 'contains(species)': False, 'contains(issues)': False, 'contains(fresh)': False, 'contains(rules)': False, 'contains(meaning)': False, 'contains(inspired)': False, 'contains(heroes)': False, 'contains(desperate)': False, 'contains(fighting)': False, 'contains(filmed)': False, 'contains(faces)': False, 'contains(alan)': False, 'contains(bright)': False, 'contains(ass)': True, 'contains(flying)': False, 'contains(kong)': True, 'contains(rush)': False, 'contains(forces)': False, 'contains(charles)': False, 'contains(numerous)': False, 'contains(emotions)': False, 'contains(involves)': True, 'contains(patrick)': False, 'contains(weird)': False, 'contains(apparent)': False, 'contains(information)': False, 'contains(revenge)': False, 'contains(jay)': False, 'contains(toward)': False, 'contains(surprising)': False, 'contains(twice)': False, 'contains(editing)': False, 'contains(calls)': False, 'contains(lose)': False, 'contains(vegas)': False, 'contains(stage)': False, 'contains(intended)': False, 'contains(gags)': False, 'contains(opinion)': False, 'contains(likes)': False, 'contains(crazy)': False, 'contains(owner)': False, 'contains(places)': False, 'contains(pair)': False, 'contains(genuine)': False, 'contains(epic)': False, 'contains(speak)': False, 'contains(throw)': False, 'contains(appeal)': False, 'contains(gibson)': False, 'contains(captain)': False, 'contains(military)': False, 'contains(20)': False, 'contains(blair)': False, 'contains(nowhere)': False, 'contains(length)': False, 'contains(nicely)': False, 'contains(cause)': False, 'contains(pass)': False, 'contains(episode)': False, 'contains(kiss)': False, 'contains(arnold)': True, 'contains(please)': False, 'contains(hasn)': False, 'contains(phone)': False, 'contains(filmmaking)': False, 'contains(formula)': False, 'contains(boyfriend)': False, 'contains(talents)': False, 'contains(creating)': False, 'contains(kelly)': False, 'contains(buy)': False, 'contains(wide)': False, 'contains(fantasy)': False, 'contains(mood)': False, 'contains(heads)': False, 'contains(pathetic)': False, 'contains(lacks)': False, 'contains(loved)': False, 'contains(asked)': False, 'contains(mrs)': False, 'contains(witty)': False, 'contains(shakespeare)': False, 'contains(mulan)': False, 'contains(generation)': False, 'contains(affair)': False, 'contains(pieces)': False, 'contains(task)': False, 'contains(rare)': False, 'contains(kept)': False, 'contains(cameo)': False, 'contains(fascinating)': False, 'contains(ed)': False, 'contains(fbi)': False, 'contains(burton)': False, 'contains(incredible)': False, 'contains(accent)': False, 'contains(artist)': False, 'contains(superior)': False, 'contains(academy)': False, 'contains(thomas)': False, 'contains(spirit)': False, 'contains(technical)': False, 'contains(confusing)': False, 'contains(poorly)': False, 'contains(target)': False, 'contains(lover)': False, 'contains(woo)': False, 'contains(mentioned)': False, 'contains(theaters)': False, 'contains(plane)': False, 'contains(confused)': False, 'contains(dennis)': False, 'contains(rob)': False, 'contains(appropriate)': False, 'contains(christmas)': False, 'contains(considered)': False, 'contains(legend)': False, 'contains(shame)': False, 'contains(soul)': False, 'contains(matt)': False, 'contains(campbell)': False, 'contains(process)': False, 'contains(bottom)': False, 'contains(sitting)': False, 'contains(brain)': False, 'contains(creepy)': False, 'contains(13)': False, 'contains(forever)': False, 'contains(dude)': False, 'contains(crap)': False, 'contains(superb)': False, 'contains(speech)': False, 'contains(ice)': False, 'contains(journey)': False, 'contains(masterpiece)': False, 'contains(intriguing)': False, 'contains(names)': False, 'contains(pick)': False, 'contains(speaking)': False, 'contains(virtually)': False, 'contains(award)': False, 'contains(worthy)': False, 'contains(marriage)': False, 'contains(deliver)': False, 'contains(cash)': False, 'contains(magic)': False, 'contains(respect)': False, 'contains(product)': False, 'contains(necessary)': False, 'contains(suppose)': False, 'contains(silent)': False, 'contains(pointless)': False, 'contains(station)': False, 'contains(affleck)': False, 'contains(dimensional)': False, 'contains(charlie)': False, 'contains(allows)': False, 'contains(avoid)': False, 'contains(meant)': False, 'contains(cops)': False, 'contains(attitude)': False, 'contains(relationships)': False, 'contains(hits)': False, 'contains(stephen)': False, 'contains(spends)': False, 'contains(relief)': False, 'contains(physical)': True, 'contains(count)': False, 'contains(reviews)': False, 'contains(appreciate)': False, 'contains(cliches)': False, 'contains(holds)': False, 'contains(pure)': False, 'contains(plans)': False, 'contains(limited)': False, 'contains(failed)': False, 'contains(pain)': False, 'contains(impression)': False, 'contains(unless)': False, 'contains(sub)': False, 'contains([)': False, 'contains(total)': False, 'contains(creature)': False, 'contains(viewing)': False, 'contains(loves)': False, 'contains(princess)': False, 'contains(kate)': False, 'contains(rising)': False, 'contains(woods)': False, 'contains(baldwin)': False, 'contains(angry)': False, 'contains(drawn)': False, 'contains(step)': False, 'contains(matrix)': False, 'contains(themes)': False, 'contains(satire)': False, 'contains(arts)': False, 'contains(])': False, 'contains(remake)': False, 'contains(wall)': False, 'contains(moral)': False, 'contains(color)': False, 'contains(ray)': False, 'contains(stuck)': False, 'contains(touching)': False, 'contains(wit)': False, 'contains(tony)': False, 'contains(hanks)': False, 'contains(continues)': False, 'contains(damn)': False, 'contains(nobody)': False, 'contains(cartoon)': False, 'contains(keeping)': False, 'contains(realized)': False, 'contains(criminal)': False, 'contains(unfunny)': False, 'contains(comedic)': False, 'contains(martial)': False, 'contains(disappointing)': False, 'contains(anti)': False, 'contains(graphic)': False, 'contains(stunning)': False, 'contains(actions)': False, 'contains(floor)': False, 'contains(emotion)': False, 'contains(soldiers)': False, 'contains(edward)': False, 'contains(comedies)': False, 'contains(driver)': False, 'contains(expectations)': False, 'contains(added)': False, 'contains(mad)': False, 'contains(angels)': False, 'contains(shallow)': False, 'contains(suspect)': False, 'contains(humorous)': False, 'contains(phantom)': False, 'contains(appealing)': False, 'contains(device)': False, 'contains(design)': False, 'contains(industry)': False, 'contains(reach)': False, 'contains(fat)': False, 'contains(blame)': False, 'contains(united)': False, 'contains(sign)': False, 'contains(portrayal)': False, 'contains(rocky)': False, 'contains(finale)': False, 'contains(grand)': False, 'contains(opposite)': False, 'contains(hotel)': False, 'contains(match)': False, 'contains(damme)': False, 'contains(speed)': False, 'contains(ok)': False, 'contains(loving)': False, 'contains(field)': True, 'contains(larry)': False, 'contains(urban)': False, 'contains(troopers)': False, 'contains(compared)': False, 'contains(apes)': False, 'contains(rose)': False, 'contains(falling)': False, 'contains(era)': False, 'contains(loses)': False, 'contains(adults)': False, 'contains(managed)': False, 'contains(dad)': False, 'contains(therefore)': False, 'contains(pg)': False, 'contains(results)': False, 'contains(guns)': False, 'contains(radio)': False, 'contains(lady)': False, 'contains(manage)': False, 'contains(spice)': False, 'contains(naked)': False, 'contains(started)': False, 'contains(intense)': False, 'contains(humanity)': False, 'contains(wonderfully)': False, 'contains(slasher)': False, 'contains(bland)': False, 'contains(imagination)': False, 'contains(walking)': False, 'contains(willing)': False, 'contains(horse)': False, 'contains(rent)': False, 'contains(mix)': False, 'contains(generated)': False, 'contains(g)': False, 'contains(utterly)': False, 'contains(scientist)': False, 'contains(washington)': False, 'contains(notice)': False, 'contains(players)': False, 'contains(teenagers)': False, 'contains(moore)': False, 'contains(board)': False, 'contains(price)': False, 'contains(frightening)': False, 'contains(tommy)': False, 'contains(spectacular)': False, 'contains(bored)': False, 'contains(jane)': False, 'contains(join)': False, 'contains(producers)': False, 'contains(johnny)': False, 'contains(zero)': False, 'contains(vampires)': False, 'contains(adaptation)': False, 'contains(dollars)': False, 'contains(parody)': False, 'contains(documentary)': False, 'contains(dvd)': False, 'contains(wayne)': False, 'contains(post)': False, 'contains(exist)': False, 'contains(matters)': False, 'contains(chosen)': False, 'contains(mel)': False, 'contains(attractive)': True, 'contains(plain)': False, 'contains(trust)': False, 'contains(safe)': False, 'contains(reading)': False, 'contains(hoping)': False, 'contains(protagonist)': False, 'contains(feelings)': False, 'contains(fate)': False, 'contains(finding)': False, 'contains(feet)': False, 'contains(visuals)': False, 'contains(spawn)': False, 'contains(compelling)': False, 'contains(hall)': False, 'contains(sympathetic)': False, 'contains(featuring)': False, 'contains(difference)': False, 'contains(professional)': False, 'contains(drugs)': False, 'contains(ford)': False, 'contains(shooting)': False, 'contains(gold)': False, 'contains(patch)': False, 'contains(build)': False, 'contains(boat)': False, 'contains(cruise)': False, 'contains(honest)': False, 'contains(media)': False, 'contains(flicks)': False, 'contains(bug)': False, 'contains(bringing)': False, 'contains(dangerous)': True, 'contains(watched)': False, 'contains(grant)': False, 'contains(smile)': False, 'contains(plus)': False, 'contains(shouldn)': False, 'contains(decision)': False, 'contains(visually)': False, 'contains(allow)': False, 'contains(starship)': False, 'contains(roberts)': False, 'contains(dying)': False, 'contains(portrayed)': False, 'contains(turning)': False, 'contains(believes)': False, 'contains(changed)': False, 'contains(shock)': False, 'contains(destroy)': False, 'contains(30)': False, 'contains(crowd)': False, 'contains(broken)': False, 'contains(tired)': False, 'contains(fail)': False, 'contains(south)': False, 'contains(died)': False, 'contains(cult)': False, 'contains(fake)': False, 'contains(vincent)': False, 'contains(identity)': False, 'contains(sexy)': False, 'contains(hunt)': False, 'contains(jedi)': False, 'contains(flynt)': False, 'contains(alex)': False, 'contains(engaging)': False, 'contains(serve)': False, 'contains(snake)': False, 'contains(yeah)': False, 'contains(expecting)': False, 'contains(100)': False, 'contains(decade)': False, 'contains(ups)': False, 'contains(constant)': False, 'contains(current)': False, 'contains(survive)': False, 'contains(jimmy)': False, 'contains(buddy)': False, 'contains(send)': False, 'contains(brooks)': False, 'contains(goofy)': False, 'contains(likable)': False, 'contains(humour)': False, 'contains(technology)': False, 'contains(files)': False, 'contains(babe)': False, 'contains(aspects)': False, 'contains(presents)': False, 'contains(kills)': False, 'contains(supposedly)': False, 'contains(eight)': True, 'contains(sandler)': False, 'contains(hospital)': False, 'contains(test)': False, 'contains(hidden)': False, 'contains(brian)': False, 'contains(books)': False, 'contains(promise)': False, 'contains(determined)': False, 'contains(professor)': False, 'contains(welcome)': False, 'contains(pleasure)': False, 'contains(succeeds)': False, 'contains(individual)': False, 'contains(annie)': False, 'contains(mob)': False, 'contains(ted)': False, 'contains(virus)': False, 'contains(content)': False, 'contains(gary)': False, 'contains(direct)': False, 'contains(contrived)': False, 'contains(carpenter)': False, 'contains(scale)': False, 'contains(sick)': False, 'contains(nasty)': False, 'contains(conflict)': False, 'contains(haunting)': False, 'contains(ghost)': False, 'contains(filmmaker)': False, 'contains(japanese)': False, 'contains(helps)': False, 'contains(fare)': False, 'contains(lucky)': False, 'contains(ultimate)': False, 'contains(window)': False, 'contains(support)': False, 'contains(goal)': False, 'contains(provided)': False, 'contains(genius)': False, 'contains(winner)': False, 'contains(taylor)': False, 'contains(fantastic)': False, 'contains(faith)': False, 'contains(lynch)': False, 'contains(fit)': False, 'contains(catherine)': False, 'contains(ms)': False, 'contains(paced)': False, 'contains(breaks)': False, 'contains(al)': False, 'contains(frame)': False, 'contains(travel)': False, 'contains(badly)': False, 'contains(available)': False, 'contains(cares)': False, 'contains(reeves)': False, 'contains(crash)': False, 'contains(driving)': False, 'contains(press)': False, 'contains(seagal)': False, 'contains(amy)': False, 'contains(9)': False, 'contains(headed)': False, 'contains(instance)': False, 'contains(excuse)': False, 'contains(offensive)': False, 'contains(narrative)': False, 'contains(fault)': False, 'contains(bus)': False, 'contains(f)': False, 'contains(extreme)': False, 'contains(miller)': False, 'contains(guilty)': False, 'contains(grows)': False, 'contains(overly)': False, 'contains(liners)': False, 'contains(forgotten)': False, 'contains(ahead)': False, 'contains(accept)': False, 'contains(porn)': False, 'contains(directly)': False, 'contains(helen)': False, 'contains(began)': False, 'contains(lord)': False, 'contains(folks)': False, 'contains(mediocre)': False, 'contains(bar)': False, 'contains(surface)': False, 'contains(super)': False, 'contains(failure)': False, 'contains(6)': False, 'contains(acted)': False, 'contains(quiet)': False, 'contains(laughable)': False, 'contains(sheer)': False, 'contains(security)': True, 'contains(emotionally)': False, 'contains(season)': False, 'contains(stuart)': False, 'contains(jail)': True, 'contains(deals)': False, 'contains(cheesy)': False, 'contains(court)': False, 'contains(beach)': False, 'contains(austin)': False, 'contains(model)': False, 'contains(outstanding)': False, 'contains(substance)': False, 'contains(nudity)': False, 'contains(slapstick)': False, 'contains(joan)': False, 'contains(reveal)': False, 'contains(placed)': False, 'contains(check)': False, 'contains(beast)': False, 'contains(hurt)': False, 'contains(bloody)': False, 'contains(acts)': False, 'contains(fame)': False, 'contains(meeting)': False, 'contains(nuclear)': False, 'contains(1996)': False, 'contains(strength)': False, 'contains(center)': False, 'contains(funniest)': False, 'contains(standing)': True, 'contains(damon)': False, 'contains(clich)': False, 'contains(position)': False, 'contains(desire)': False, 'contains(driven)': False, 'contains(seat)': False, 'contains(stock)': False, 'contains(wondering)': True, 'contains(realizes)': False, 'contains(dealing)': False, 'contains(taste)': False, 'contains(routine)': False, 'contains(comparison)': False, 'contains(cinematographer)': False, 'contains(seconds)': False, 'contains(singing)': False, 'contains(gangster)': True, 'contains(responsible)': False, 'contains(football)': False, 'contains(remarkable)': False, 'contains(hunting)': False, 'contains(adams)': False, 'contains(fly)': False, 'contains(suspects)': False, 'contains(treat)': False, 'contains(hopes)': False, 'contains(heaven)': False, 'contains(myers)': False, 'contains(struggle)': False, 'contains(costumes)': False, 'contains(beat)': False, 'contains(happening)': False, 'contains(skills)': False, 'contains(ugly)': False, 'contains(figures)': False, 'contains(thoroughly)': False, 'contains(ill)': False, 'contains(surprises)': False, 'contains(player)': False, 'contains(rival)': False, 'contains(guard)': True, 'contains(anthony)': False, 'contains(strike)': False, 'contains(community)': False, 'contains(streets)': False, 'contains(hopkins)': False, 'contains(ended)': False, 'contains(originally)': False, 'contains(sarah)': False, 'contains(creative)': False, 'contains(characterization)': False, 'contains(thankfully)': False, 'contains(growing)': False, 'contains(sharp)': False, 'contains(williamson)': False, 'contains(eccentric)': False, 'contains(explained)': False, 'contains(hey)': False, 'contains(claire)': False, 'contains(steal)': False, 'contains(inevitable)': False, 'contains(joel)': False, 'contains(core)': False, 'contains(weren)': False, 'contains(sorry)': False, 'contains(built)': False, 'contains(anne)': False, 'contains(breaking)': False, 'contains(villains)': False, 'contains(critic)': False, 'contains(lets)': False, 'contains(visit)': False, 'contains(followed)': False}\n"
     ]
    }
   ],
   "source": [
    "print(document_features(movie_reviews.words('pos/cv957_8737.txt'))) "
   ]
  },
  {
   "cell_type": "markdown",
   "metadata": {
    "id": "T6SwETS0ewgK"
   },
   "source": [
    "Now that we've defined our feature extractor, we can use it to train a classifier to label new movie reviews."
   ]
  },
  {
   "cell_type": "code",
   "execution_count": 52,
   "metadata": {
    "id": "KKPrGRy5exFN"
   },
   "outputs": [],
   "source": [
    "featuresets = [(document_features(d), c) for (d,c) in documents]\n",
    "train_set, test_set = featuresets[100:], featuresets[:100]\n",
    "classifier = nltk.NaiveBayesClassifier.train(train_set)"
   ]
  },
  {
   "cell_type": "markdown",
   "metadata": {
    "id": "786mWwbgqxCs"
   },
   "source": [
    "To check how reliable the resulting classifier is, we compute its accuracy on the test set. "
   ]
  },
  {
   "cell_type": "code",
   "execution_count": 53,
   "metadata": {
    "id": "1UpUPCADe2Gu"
   },
   "outputs": [
    {
     "name": "stdout",
     "output_type": "stream",
     "text": [
      "0.82\n"
     ]
    }
   ],
   "source": [
    "print(nltk.classify.accuracy(classifier, test_set))"
   ]
  },
  {
   "cell_type": "markdown",
   "metadata": {
    "id": "WUSJiIFSozFO"
   },
   "source": [
    "Again, we can use `show_most_informative_features()` to find out which features the classifier found to be most informative."
   ]
  },
  {
   "cell_type": "code",
   "execution_count": 54,
   "metadata": {
    "id": "-Ud0HnLcoxz1"
   },
   "outputs": [
    {
     "name": "stdout",
     "output_type": "stream",
     "text": [
      "Most Informative Features\n",
      "   contains(outstanding) = True              pos : neg    =     11.2 : 1.0\n",
      "        contains(seagal) = True              neg : pos    =      8.2 : 1.0\n",
      "         contains(mulan) = True              pos : neg    =      7.7 : 1.0\n",
      "   contains(wonderfully) = True              pos : neg    =      6.1 : 1.0\n",
      "          contains(lame) = True              neg : pos    =      6.1 : 1.0\n",
      "        contains(wasted) = True              neg : pos    =      5.9 : 1.0\n",
      "         contains(flynt) = True              pos : neg    =      5.7 : 1.0\n",
      "         contains(damon) = True              pos : neg    =      5.4 : 1.0\n",
      "         contains(awful) = True              neg : pos    =      5.4 : 1.0\n",
      "       contains(unfunny) = True              neg : pos    =      5.4 : 1.0\n"
     ]
    }
   ],
   "source": [
    "classifier.show_most_informative_features()"
   ]
  },
  {
   "cell_type": "markdown",
   "metadata": {
    "id": "0EEmNWr_rrgP"
   },
   "source": [
    "Apparently in this corpus, a review that mentions **lame** is almost 6.1 times more likely to be negative than positive, while a review that mentions **mulan** is about 7.7 times more likely to be positive."
   ]
  },
  {
   "cell_type": "markdown",
   "metadata": {
    "id": "sC-3PYuqrcEH"
   },
   "source": [
    "## **Task 2**\n",
    "\n",
    "The document feature extractor checks whether each word is present in a given document. Can you create other feature extractors as defined below?: \n",
    "\n",
    "1. `document_features2()`: uses the word frequency counts (and not their presence) as features.\n",
    "\n",
    "2. `document_features3()`: extracts and uses the bigrams present in the document as features\n",
    "\n",
    "3. `document_features4()`: combine the unigrams (words) and bigram presence as features\n",
    "\n",
    "Test your results with these and share your observation"
   ]
  },
  {
   "cell_type": "code",
   "execution_count": 100,
   "metadata": {},
   "outputs": [],
   "source": [
    "# Create the train and test documents\n",
    "train_documents, test_documents = documents[100:], documents[:100]\n",
    "# Pre-Process the documents by lower casing them\n",
    "train_documents = [([word.lower() for word in words], label) \n",
    "                   for words, label in train_documents]\n",
    "test_documents = [([word.lower() for word in words], label) \n",
    "                  for words, label in test_documents]\n",
    "\n",
    "def most_n_frequent_grams(train_dataset: List[Tuple[List[str], str]],\n",
    "                          min_n_gram: int, \n",
    "                          max_n_gram: int,\n",
    "                          n: int) -> List[Tuple]:\n",
    "    '''\n",
    "    :param train_dataset: A list of documents represented by a Tuple of:\n",
    "                          (List of words/tokens, label).\n",
    "    :param min_n_gram: The minimum size n_gram to produce.\n",
    "    :param max_n_gram: The maximum size n_gram to produce.\n",
    "    :param n: Defines how many frequent n grams to return.\n",
    "    :returns: The top n most frequent n-grams. Whereby the list is \n",
    "              made up of Tuples as it can be n-grams e.g. a list of \n",
    "              most frequent tri-grams will contains a list of tuples \n",
    "              of size 3. Where as uni-grams will be a Tuple of size \n",
    "              1.\n",
    "              \n",
    "    \n",
    "    The min_n_gram should be <= max_n_gram and always > 0.\n",
    "    '''\n",
    "    all_words = [word for words, _ in train_dataset for word in words]\n",
    "    n_grams = nltk.everygrams(all_words, min_len=min_n_gram, max_len=max_n_gram)\n",
    "    return list(nltk.FreqDist(n_grams))[:n]\n",
    "\n",
    "# Only going to use the top 2000 most frequent uni-grams\n",
    "most_frequent_uni_grams = most_n_frequent_grams(train_documents, 1, 1, 2000)\n",
    "\n",
    "# Using Counter is quicker than using the count function on a list.\n",
    "from collections import Counter\n",
    "def document_features2(document: List[str]) -> Dict[str, Any]:\n",
    "    feature_set = {}\n",
    "    word_counts = Counter(document)\n",
    "    for word in most_frequent_uni_grams:\n",
    "        word = word[0]\n",
    "        feature_set[f'count({word})'] = word_counts.get(word, 0)\n",
    "    return feature_set\n",
    "\n",
    "# Only going to use the top 2000 most frequent bi-grams\n",
    "most_frequent_bi_grams = most_n_frequent_grams(train_documents, 2, 2, 2000)\n",
    "def document_features3(document: List[str]) -> Dict[str, Any]:\n",
    "    feature_set = {}\n",
    "    document_words = set(nltk.everygrams((word for word in document), 2,2))\n",
    "    for word in most_frequent_bi_grams:\n",
    "        feature_set[f'contains({word})'] = word in document_words\n",
    "    return feature_set\n",
    "\n",
    "# Only going to use the top 2000 most frequent uni and bi grams\n",
    "most_frequent_uni_bi_grams = most_n_frequent_grams(train_documents, 1, 2, 2000)\n",
    "def document_features4(document: List[str]) -> Dict[str, Any]:\n",
    "    feature_set = {}\n",
    "    document_words = set(nltk.everygrams((word for word in document), 1,2))\n",
    "    for word in most_frequent_uni_bi_grams:\n",
    "        feature_set[f'contains({word})'] = word in document_words\n",
    "    return feature_set"
   ]
  },
  {
   "cell_type": "code",
   "execution_count": 101,
   "metadata": {},
   "outputs": [
    {
     "name": "stdout",
     "output_type": "stream",
     "text": [
      "Feature set 1\n",
      "Test accuracy: 0.82\n",
      "Most Informative Features\n",
      "   contains(outstanding) = True              pos : neg    =     11.2 : 1.0\n",
      "        contains(seagal) = True              neg : pos    =      8.2 : 1.0\n",
      "         contains(mulan) = True              pos : neg    =      7.7 : 1.0\n",
      "   contains(wonderfully) = True              pos : neg    =      6.1 : 1.0\n",
      "          contains(lame) = True              neg : pos    =      6.1 : 1.0\n",
      "        contains(wasted) = True              neg : pos    =      5.9 : 1.0\n",
      "         contains(flynt) = True              pos : neg    =      5.7 : 1.0\n",
      "         contains(damon) = True              pos : neg    =      5.4 : 1.0\n",
      "         contains(awful) = True              neg : pos    =      5.4 : 1.0\n",
      "       contains(unfunny) = True              neg : pos    =      5.4 : 1.0\n",
      "None\n",
      "Feature set 2\n",
      "Test accuracy: 0.81\n",
      "Most Informative Features\n",
      "           count(stupid) = 2                 neg : pos    =     19.7 : 1.0\n",
      "             count(most) = 6                 pos : neg    =     13.0 : 1.0\n",
      "        count(wonderful) = 2                 pos : neg    =     13.0 : 1.0\n",
      "           count(boring) = 2                 neg : pos    =     11.8 : 1.0\n",
      "              count(bad) = 5                 neg : pos    =     11.0 : 1.0\n",
      "      count(outstanding) = 1                 pos : neg    =     10.3 : 1.0\n",
      "               count(we) = 8                 pos : neg    =      9.0 : 1.0\n",
      "          count(country) = 2                 pos : neg    =      9.0 : 1.0\n",
      "             count(from) = 9                 pos : neg    =      8.3 : 1.0\n",
      "       count(apparently) = 2                 neg : pos    =      7.8 : 1.0\n",
      "None\n",
      "Feature set 3\n",
      "Test accuracy: 0.79\n",
      "Most Informative Features\n",
      "contains(('waste', 'of')) = True              neg : pos    =      8.4 : 1.0\n",
      "contains(('bad', 'movie')) = True              neg : pos    =      6.3 : 1.0\n",
      "contains(('too', 'bad')) = True              neg : pos    =      5.2 : 1.0\n",
      "contains(('portrayal', 'of')) = True              pos : neg    =      4.1 : 1.0\n",
      " contains(('s', 'life')) = True              pos : neg    =      4.0 : 1.0\n",
      "contains(('the', 'worst')) = True              neg : pos    =      3.7 : 1.0\n",
      "    contains(('?', 's')) = True              neg : pos    =      3.5 : 1.0\n",
      "contains(('only', 'thing')) = True              neg : pos    =      3.5 : 1.0\n",
      "contains(('reason', 'to')) = True              neg : pos    =      3.4 : 1.0\n",
      "  contains(('.', 'why')) = True              neg : pos    =      3.2 : 1.0\n",
      "None\n",
      "Feature set 4\n",
      "Test accuracy: 0.82\n",
      "Most Informative Features\n",
      "    contains(('awful',)) = True              neg : pos    =      5.4 : 1.0\n",
      "contains(('ridiculous',)) = True              neg : pos    =      5.3 : 1.0\n",
      "    contains(('waste',)) = True              neg : pos    =      5.1 : 1.0\n",
      "    contains(('worst',)) = True              neg : pos    =      4.3 : 1.0\n",
      "   contains(('stupid',)) = True              neg : pos    =      4.0 : 1.0\n",
      "     contains(('mess',)) = True              neg : pos    =      4.0 : 1.0\n",
      "     contains(('dull',)) = True              neg : pos    =      3.9 : 1.0\n",
      "contains(('memorable',)) = True              pos : neg    =      3.7 : 1.0\n",
      "   contains(('boring',)) = True              neg : pos    =      3.5 : 1.0\n",
      " contains(('terrible',)) = True              neg : pos    =      3.3 : 1.0\n",
      "None\n"
     ]
    }
   ],
   "source": [
    "# Evaluate all the document features:\n",
    "document_feature_callables = [document_features, document_features2, document_features3, document_features4]\n",
    "\n",
    "for index, feature_set_callable in enumerate(document_feature_callables):\n",
    "    print(f'Feature set {index + 1}')\n",
    "    trained_classifier = train_classifier(feature_set_callable, train_documents)\n",
    "    test_accuracy, _ = evaluate_classifier(trained_classifier, \n",
    "                                           feature_set_callable, \n",
    "                                           test_documents)\n",
    "    print(f'Test accuracy: {test_accuracy}')\n",
    "    print(trained_classifier.show_most_informative_features(10))"
   ]
  },
  {
   "cell_type": "markdown",
   "metadata": {},
   "source": [
    "As we can see the least feature engineerd result was the best (`document_features`) using only the presence of uni-grams. Showing that we can over engineer our features, thus getting worse results."
   ]
  }
 ],
 "metadata": {
  "colab": {
   "include_colab_link": true,
   "name": "Week 18 Lecture Demo.ipynb",
   "provenance": [],
   "toc_visible": true
  },
  "kernelspec": {
   "display_name": "Python 3",
   "language": "python",
   "name": "python3"
  },
  "language_info": {
   "codemirror_mode": {
    "name": "ipython",
    "version": 3
   },
   "file_extension": ".py",
   "mimetype": "text/x-python",
   "name": "python",
   "nbconvert_exporter": "python",
   "pygments_lexer": "ipython3",
   "version": "3.7.10"
  }
 },
 "nbformat": 4,
 "nbformat_minor": 1
}
