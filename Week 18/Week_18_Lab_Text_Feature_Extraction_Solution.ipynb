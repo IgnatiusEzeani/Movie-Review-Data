{
  "nbformat": 4,
  "nbformat_minor": 0,
  "metadata": {
    "colab": {
      "name": "Week 18 Lecture Demo.ipynb",
      "provenance": [],
      "toc_visible": true,
      "include_colab_link": true
    },
    "kernelspec": {
      "display_name": "Python 3.7.10 64-bit ('scc_413': conda)",
      "language": "python",
      "name": "python371064bitscc413condaf4683723fdb548d4a0d1bcfec63b0d8a"
    },
    "language_info": {
      "codemirror_mode": {
        "name": "ipython",
        "version": 3
      },
      "file_extension": ".py",
      "mimetype": "text/x-python",
      "name": "python",
      "nbconvert_exporter": "python",
      "pygments_lexer": "ipython3",
      "version": "3.7.10-final"
    }
  },
  "cells": [
    {
      "cell_type": "markdown",
      "metadata": {
        "id": "view-in-github",
        "colab_type": "text"
      },
      "source": [
        "<a href=\"https://colab.research.google.com/github/IgnatiusEzeani/NLP-Lecture/blob/main/Week%2018/Week_18_Lab_Text_Feature_Extraction_Solution.ipynb\" target=\"_parent\"><img src=\"https://colab.research.google.com/assets/colab-badge.svg\" alt=\"Open In Colab\"/></a>"
      ]
    },
    {
      "cell_type": "markdown",
      "metadata": {
        "id": "Np4jeQ0vhZvk"
      },
      "source": [
        "**Credit**: The example code below was taken from [Chapters 6 of the NLTK book](https://www.nltk.org/book/ch06.html)."
      ]
    },
    {
      "cell_type": "markdown",
      "metadata": {
        "id": "YPb1uVLUGpU4"
      },
      "source": [
        "# **Section 1**"
      ]
    },
    {
      "cell_type": "markdown",
      "metadata": {
        "id": "fKQmUn2SI24p"
      },
      "source": [
        "## Gender Identification\n",
        "\n",
        "NLTK has a wordlist corpus, `Names`, containing 8,000 first names categorized by gender. The male and female names are stored in separate files. Let's find names which appear in both files, i.e. names that are ambiguous for gender:"
      ]
    },
    {
      "cell_type": "markdown",
      "metadata": {
        "id": "L6-fTmlcsxy5"
      },
      "source": [
        "### **Import `nltk` and download the `name` corpus**"
      ]
    },
    {
      "cell_type": "code",
      "metadata": {
        "id": "jdIPt9_3KaTm",
        "tags": [],
        "outputId": "df7cd76d-373b-43cb-9d6e-f775f935541c"
      },
      "source": [
        "!pip install nltk matplotlib\n",
        "import nltk\n",
        "import random\n",
        "nltk.download('names')\n",
        "names = nltk.corpus.names "
      ],
      "execution_count": null,
      "outputs": [
        {
          "output_type": "stream",
          "text": [
            "Requirement already satisfied: nltk in /home/andrew/miniconda/envs/scc_413/lib/python3.7/site-packages (3.5)\n",
            "Requirement already satisfied: matplotlib in /home/andrew/miniconda/envs/scc_413/lib/python3.7/site-packages (3.3.4)\n",
            "Requirement already satisfied: numpy>=1.15 in /home/andrew/miniconda/envs/scc_413/lib/python3.7/site-packages (from matplotlib) (1.20.1)\n",
            "Requirement already satisfied: kiwisolver>=1.0.1 in /home/andrew/miniconda/envs/scc_413/lib/python3.7/site-packages (from matplotlib) (1.3.1)\n",
            "Requirement already satisfied: python-dateutil>=2.1 in /home/andrew/miniconda/envs/scc_413/lib/python3.7/site-packages (from matplotlib) (2.8.1)\n",
            "Requirement already satisfied: pillow>=6.2.0 in /home/andrew/miniconda/envs/scc_413/lib/python3.7/site-packages (from matplotlib) (8.1.2)\n",
            "Requirement already satisfied: cycler>=0.10 in /home/andrew/miniconda/envs/scc_413/lib/python3.7/site-packages (from matplotlib) (0.10.0)\n",
            "Requirement already satisfied: pyparsing!=2.0.4,!=2.1.2,!=2.1.6,>=2.0.3 in /home/andrew/miniconda/envs/scc_413/lib/python3.7/site-packages (from matplotlib) (2.4.7)\n",
            "Requirement already satisfied: six in /home/andrew/miniconda/envs/scc_413/lib/python3.7/site-packages (from cycler>=0.10->matplotlib) (1.15.0)\n",
            "Requirement already satisfied: tqdm in /home/andrew/miniconda/envs/scc_413/lib/python3.7/site-packages (from nltk) (4.59.0)\n",
            "Requirement already satisfied: joblib in /home/andrew/miniconda/envs/scc_413/lib/python3.7/site-packages (from nltk) (1.0.1)\n",
            "Requirement already satisfied: regex in /home/andrew/miniconda/envs/scc_413/lib/python3.7/site-packages (from nltk) (2020.11.13)\n",
            "Requirement already satisfied: click in /home/andrew/miniconda/envs/scc_413/lib/python3.7/site-packages (from nltk) (7.1.2)\n",
            "[nltk_data] Downloading package names to /home/andrew/nltk_data...\n",
            "[nltk_data]   Package names is already up-to-date!\n"
          ],
          "name": "stdout"
        }
      ]
    },
    {
      "cell_type": "markdown",
      "metadata": {
        "id": "-oxQp3aktOUa"
      },
      "source": [
        "### **Names in both male and female list**"
      ]
    },
    {
      "cell_type": "code",
      "metadata": {
        "id": "L-PEqqK-P1U0",
        "tags": [],
        "outputId": "67e07f93-6d11-4f1e-96da-223db761980e"
      },
      "source": [
        "print(names.fileids())\n",
        "male_names = names.words('male.txt')\n",
        "female_names = names.words('female.txt')\n",
        "male_female = [w for w in male_names if w in female_names]\n",
        "print(len(male_female))\n",
        "for name in male_female[:20]:\n",
        "  print(name)"
      ],
      "execution_count": null,
      "outputs": [
        {
          "output_type": "stream",
          "text": [
            "['female.txt', 'male.txt']\n",
            "365\n",
            "Abbey\n",
            "Abbie\n",
            "Abby\n",
            "Addie\n",
            "Adrian\n",
            "Adrien\n",
            "Ajay\n",
            "Alex\n",
            "Alexis\n",
            "Alfie\n",
            "Ali\n",
            "Alix\n",
            "Allie\n",
            "Allyn\n",
            "Andie\n",
            "Andrea\n",
            "Andy\n",
            "Angel\n",
            "Angie\n",
            "Ariel\n"
          ],
          "name": "stdout"
        }
      ]
    },
    {
      "cell_type": "markdown",
      "metadata": {
        "id": "WlXanISitogQ"
      },
      "source": [
        "\n",
        "### **Distribution of last letters**\n",
        "According to [NLTK](https://www.nltk.org/book/ch02.html#sec-lexical-resources) suggests that male and female names have some distinctive characteristics. Names ending in `a`, `e` and `i` are likely to be female, while names ending in `k`, `o`, `r`, `s` and `t` are likely to be male. Let's see..."
      ]
    },
    {
      "cell_type": "code",
      "metadata": {
        "id": "IJxOj6IAiCwV",
        "outputId": "b60cd841-7831-421d-b7c3-37d3b3cbb506"
      },
      "source": [
        "cfd = nltk.ConditionalFreqDist(\n",
        "    (fileid, name[-1])\n",
        "    for fileid in names.fileids()\n",
        "    for name in names.words(fileid))\n",
        "cfd.plot()"
      ],
      "execution_count": null,
      "outputs": [
        {
          "output_type": "display_data",
          "data": {
            "text/plain": [
              "<Figure size 432x288 with 1 Axes>"
            ],
            "image/svg+xml": "<?xml version=\"1.0\" encoding=\"utf-8\" standalone=\"no\"?>\n<!DOCTYPE svg PUBLIC \"-//W3C//DTD SVG 1.1//EN\"\n  \"http://www.w3.org/Graphics/SVG/1.1/DTD/svg11.dtd\">\n<!-- Created with matplotlib (https://matplotlib.org/) -->\n<svg height=\"262.25875pt\" version=\"1.1\" viewBox=\"0 0 395.328125 262.25875\" width=\"395.328125pt\" xmlns=\"http://www.w3.org/2000/svg\" xmlns:xlink=\"http://www.w3.org/1999/xlink\">\n <metadata>\n  <rdf:RDF xmlns:cc=\"http://creativecommons.org/ns#\" xmlns:dc=\"http://purl.org/dc/elements/1.1/\" xmlns:rdf=\"http://www.w3.org/1999/02/22-rdf-syntax-ns#\">\n   <cc:Work>\n    <dc:type rdf:resource=\"http://purl.org/dc/dcmitype/StillImage\"/>\n    <dc:date>2021-03-10T12:11:50.873365</dc:date>\n    <dc:format>image/svg+xml</dc:format>\n    <dc:creator>\n     <cc:Agent>\n      <dc:title>Matplotlib v3.3.4, https://matplotlib.org/</dc:title>\n     </cc:Agent>\n    </dc:creator>\n   </cc:Work>\n  </rdf:RDF>\n </metadata>\n <defs>\n  <style type=\"text/css\">*{stroke-linecap:butt;stroke-linejoin:round;}</style>\n </defs>\n <g id=\"figure_1\">\n  <g id=\"patch_1\">\n   <path d=\"M 0 262.25875 \nL 395.328125 262.25875 \nL 395.328125 0 \nL 0 0 \nz\n\" style=\"fill:none;\"/>\n  </g>\n  <g id=\"axes_1\">\n   <g id=\"patch_2\">\n    <path d=\"M 53.328125 224.64 \nL 388.128125 224.64 \nL 388.128125 7.2 \nL 53.328125 7.2 \nz\n\" style=\"fill:#ffffff;\"/>\n   </g>\n   <g id=\"matplotlib.axis_1\">\n    <g id=\"xtick_1\">\n     <g id=\"line2d_1\">\n      <path clip-path=\"url(#p347fdcd624)\" d=\"M 68.546307 224.64 \nL 68.546307 7.2 \n\" style=\"fill:none;stroke:#c0c0c0;stroke-linecap:square;stroke-width:0.8;\"/>\n     </g>\n     <g id=\"line2d_2\">\n      <defs>\n       <path d=\"M 0 0 \nL 0 3.5 \n\" id=\"maf7bb19997\" style=\"stroke:#000000;stroke-width:0.8;\"/>\n      </defs>\n      <g>\n       <use style=\"stroke:#000000;stroke-width:0.8;\" x=\"68.546307\" xlink:href=\"#maf7bb19997\" y=\"224.64\"/>\n      </g>\n     </g>\n     <g id=\"text_1\">\n      <!--   -->\n      <g transform=\"translate(71.305682 234.818125)rotate(-90)scale(0.1 -0.1)\">\n       <defs>\n        <path id=\"DejaVuSans-32\"/>\n       </defs>\n       <use xlink:href=\"#DejaVuSans-32\"/>\n      </g>\n     </g>\n    </g>\n    <g id=\"xtick_2\">\n     <g id=\"line2d_3\">\n      <path clip-path=\"url(#p347fdcd624)\" d=\"M 80.720852 224.64 \nL 80.720852 7.2 \n\" style=\"fill:none;stroke:#c0c0c0;stroke-linecap:square;stroke-width:0.8;\"/>\n     </g>\n     <g id=\"line2d_4\">\n      <g>\n       <use style=\"stroke:#000000;stroke-width:0.8;\" x=\"80.720852\" xlink:href=\"#maf7bb19997\" y=\"224.64\"/>\n      </g>\n     </g>\n     <g id=\"text_2\">\n      <!-- a -->\n      <g transform=\"translate(83.480227 237.768125)rotate(-90)scale(0.1 -0.1)\">\n       <defs>\n        <path d=\"M 34.28125 27.484375 \nQ 23.390625 27.484375 19.1875 25 \nQ 14.984375 22.515625 14.984375 16.5 \nQ 14.984375 11.71875 18.140625 8.90625 \nQ 21.296875 6.109375 26.703125 6.109375 \nQ 34.1875 6.109375 38.703125 11.40625 \nQ 43.21875 16.703125 43.21875 25.484375 \nL 43.21875 27.484375 \nz\nM 52.203125 31.203125 \nL 52.203125 0 \nL 43.21875 0 \nL 43.21875 8.296875 \nQ 40.140625 3.328125 35.546875 0.953125 \nQ 30.953125 -1.421875 24.3125 -1.421875 \nQ 15.921875 -1.421875 10.953125 3.296875 \nQ 6 8.015625 6 15.921875 \nQ 6 25.140625 12.171875 29.828125 \nQ 18.359375 34.515625 30.609375 34.515625 \nL 43.21875 34.515625 \nL 43.21875 35.40625 \nQ 43.21875 41.609375 39.140625 45 \nQ 35.0625 48.390625 27.6875 48.390625 \nQ 23 48.390625 18.546875 47.265625 \nQ 14.109375 46.140625 10.015625 43.890625 \nL 10.015625 52.203125 \nQ 14.9375 54.109375 19.578125 55.046875 \nQ 24.21875 56 28.609375 56 \nQ 40.484375 56 46.34375 49.84375 \nQ 52.203125 43.703125 52.203125 31.203125 \nz\n\" id=\"DejaVuSans-97\"/>\n       </defs>\n       <use xlink:href=\"#DejaVuSans-97\"/>\n      </g>\n     </g>\n    </g>\n    <g id=\"xtick_3\">\n     <g id=\"line2d_5\">\n      <path clip-path=\"url(#p347fdcd624)\" d=\"M 92.895398 224.64 \nL 92.895398 7.2 \n\" style=\"fill:none;stroke:#c0c0c0;stroke-linecap:square;stroke-width:0.8;\"/>\n     </g>\n     <g id=\"line2d_6\">\n      <g>\n       <use style=\"stroke:#000000;stroke-width:0.8;\" x=\"92.895398\" xlink:href=\"#maf7bb19997\" y=\"224.64\"/>\n      </g>\n     </g>\n     <g id=\"text_3\">\n      <!-- b -->\n      <g transform=\"translate(95.654773 237.988437)rotate(-90)scale(0.1 -0.1)\">\n       <defs>\n        <path d=\"M 48.6875 27.296875 \nQ 48.6875 37.203125 44.609375 42.84375 \nQ 40.53125 48.484375 33.40625 48.484375 \nQ 26.265625 48.484375 22.1875 42.84375 \nQ 18.109375 37.203125 18.109375 27.296875 \nQ 18.109375 17.390625 22.1875 11.75 \nQ 26.265625 6.109375 33.40625 6.109375 \nQ 40.53125 6.109375 44.609375 11.75 \nQ 48.6875 17.390625 48.6875 27.296875 \nz\nM 18.109375 46.390625 \nQ 20.953125 51.265625 25.265625 53.625 \nQ 29.59375 56 35.59375 56 \nQ 45.5625 56 51.78125 48.09375 \nQ 58.015625 40.1875 58.015625 27.296875 \nQ 58.015625 14.40625 51.78125 6.484375 \nQ 45.5625 -1.421875 35.59375 -1.421875 \nQ 29.59375 -1.421875 25.265625 0.953125 \nQ 20.953125 3.328125 18.109375 8.203125 \nL 18.109375 0 \nL 9.078125 0 \nL 9.078125 75.984375 \nL 18.109375 75.984375 \nz\n\" id=\"DejaVuSans-98\"/>\n       </defs>\n       <use xlink:href=\"#DejaVuSans-98\"/>\n      </g>\n     </g>\n    </g>\n    <g id=\"xtick_4\">\n     <g id=\"line2d_7\">\n      <path clip-path=\"url(#p347fdcd624)\" d=\"M 105.069943 224.64 \nL 105.069943 7.2 \n\" style=\"fill:none;stroke:#c0c0c0;stroke-linecap:square;stroke-width:0.8;\"/>\n     </g>\n     <g id=\"line2d_8\">\n      <g>\n       <use style=\"stroke:#000000;stroke-width:0.8;\" x=\"105.069943\" xlink:href=\"#maf7bb19997\" y=\"224.64\"/>\n      </g>\n     </g>\n     <g id=\"text_4\">\n      <!-- c -->\n      <g transform=\"translate(107.829318 237.138437)rotate(-90)scale(0.1 -0.1)\">\n       <defs>\n        <path d=\"M 48.78125 52.59375 \nL 48.78125 44.1875 \nQ 44.96875 46.296875 41.140625 47.34375 \nQ 37.3125 48.390625 33.40625 48.390625 \nQ 24.65625 48.390625 19.8125 42.84375 \nQ 14.984375 37.3125 14.984375 27.296875 \nQ 14.984375 17.28125 19.8125 11.734375 \nQ 24.65625 6.203125 33.40625 6.203125 \nQ 37.3125 6.203125 41.140625 7.25 \nQ 44.96875 8.296875 48.78125 10.40625 \nL 48.78125 2.09375 \nQ 45.015625 0.34375 40.984375 -0.53125 \nQ 36.96875 -1.421875 32.421875 -1.421875 \nQ 20.0625 -1.421875 12.78125 6.34375 \nQ 5.515625 14.109375 5.515625 27.296875 \nQ 5.515625 40.671875 12.859375 48.328125 \nQ 20.21875 56 33.015625 56 \nQ 37.15625 56 41.109375 55.140625 \nQ 45.0625 54.296875 48.78125 52.59375 \nz\n\" id=\"DejaVuSans-99\"/>\n       </defs>\n       <use xlink:href=\"#DejaVuSans-99\"/>\n      </g>\n     </g>\n    </g>\n    <g id=\"xtick_5\">\n     <g id=\"line2d_9\">\n      <path clip-path=\"url(#p347fdcd624)\" d=\"M 117.244489 224.64 \nL 117.244489 7.2 \n\" style=\"fill:none;stroke:#c0c0c0;stroke-linecap:square;stroke-width:0.8;\"/>\n     </g>\n     <g id=\"line2d_10\">\n      <g>\n       <use style=\"stroke:#000000;stroke-width:0.8;\" x=\"117.244489\" xlink:href=\"#maf7bb19997\" y=\"224.64\"/>\n      </g>\n     </g>\n     <g id=\"text_5\">\n      <!-- d -->\n      <g transform=\"translate(120.003864 237.988437)rotate(-90)scale(0.1 -0.1)\">\n       <defs>\n        <path d=\"M 45.40625 46.390625 \nL 45.40625 75.984375 \nL 54.390625 75.984375 \nL 54.390625 0 \nL 45.40625 0 \nL 45.40625 8.203125 \nQ 42.578125 3.328125 38.25 0.953125 \nQ 33.9375 -1.421875 27.875 -1.421875 \nQ 17.96875 -1.421875 11.734375 6.484375 \nQ 5.515625 14.40625 5.515625 27.296875 \nQ 5.515625 40.1875 11.734375 48.09375 \nQ 17.96875 56 27.875 56 \nQ 33.9375 56 38.25 53.625 \nQ 42.578125 51.265625 45.40625 46.390625 \nz\nM 14.796875 27.296875 \nQ 14.796875 17.390625 18.875 11.75 \nQ 22.953125 6.109375 30.078125 6.109375 \nQ 37.203125 6.109375 41.296875 11.75 \nQ 45.40625 17.390625 45.40625 27.296875 \nQ 45.40625 37.203125 41.296875 42.84375 \nQ 37.203125 48.484375 30.078125 48.484375 \nQ 22.953125 48.484375 18.875 42.84375 \nQ 14.796875 37.203125 14.796875 27.296875 \nz\n\" id=\"DejaVuSans-100\"/>\n       </defs>\n       <use xlink:href=\"#DejaVuSans-100\"/>\n      </g>\n     </g>\n    </g>\n    <g id=\"xtick_6\">\n     <g id=\"line2d_11\">\n      <path clip-path=\"url(#p347fdcd624)\" d=\"M 129.419034 224.64 \nL 129.419034 7.2 \n\" style=\"fill:none;stroke:#c0c0c0;stroke-linecap:square;stroke-width:0.8;\"/>\n     </g>\n     <g id=\"line2d_12\">\n      <g>\n       <use style=\"stroke:#000000;stroke-width:0.8;\" x=\"129.419034\" xlink:href=\"#maf7bb19997\" y=\"224.64\"/>\n      </g>\n     </g>\n     <g id=\"text_6\">\n      <!-- e -->\n      <g transform=\"translate(132.178409 237.793125)rotate(-90)scale(0.1 -0.1)\">\n       <defs>\n        <path d=\"M 56.203125 29.59375 \nL 56.203125 25.203125 \nL 14.890625 25.203125 \nQ 15.484375 15.921875 20.484375 11.0625 \nQ 25.484375 6.203125 34.421875 6.203125 \nQ 39.59375 6.203125 44.453125 7.46875 \nQ 49.3125 8.734375 54.109375 11.28125 \nL 54.109375 2.78125 \nQ 49.265625 0.734375 44.1875 -0.34375 \nQ 39.109375 -1.421875 33.890625 -1.421875 \nQ 20.796875 -1.421875 13.15625 6.1875 \nQ 5.515625 13.8125 5.515625 26.8125 \nQ 5.515625 40.234375 12.765625 48.109375 \nQ 20.015625 56 32.328125 56 \nQ 43.359375 56 49.78125 48.890625 \nQ 56.203125 41.796875 56.203125 29.59375 \nz\nM 47.21875 32.234375 \nQ 47.125 39.59375 43.09375 43.984375 \nQ 39.0625 48.390625 32.421875 48.390625 \nQ 24.90625 48.390625 20.390625 44.140625 \nQ 15.875 39.890625 15.1875 32.171875 \nz\n\" id=\"DejaVuSans-101\"/>\n       </defs>\n       <use xlink:href=\"#DejaVuSans-101\"/>\n      </g>\n     </g>\n    </g>\n    <g id=\"xtick_7\">\n     <g id=\"line2d_13\">\n      <path clip-path=\"url(#p347fdcd624)\" d=\"M 141.59358 224.64 \nL 141.59358 7.2 \n\" style=\"fill:none;stroke:#c0c0c0;stroke-linecap:square;stroke-width:0.8;\"/>\n     </g>\n     <g id=\"line2d_14\">\n      <g>\n       <use style=\"stroke:#000000;stroke-width:0.8;\" x=\"141.59358\" xlink:href=\"#maf7bb19997\" y=\"224.64\"/>\n      </g>\n     </g>\n     <g id=\"text_7\">\n      <!-- f -->\n      <g transform=\"translate(144.352955 235.160312)rotate(-90)scale(0.1 -0.1)\">\n       <defs>\n        <path d=\"M 37.109375 75.984375 \nL 37.109375 68.5 \nL 28.515625 68.5 \nQ 23.6875 68.5 21.796875 66.546875 \nQ 19.921875 64.59375 19.921875 59.515625 \nL 19.921875 54.6875 \nL 34.71875 54.6875 \nL 34.71875 47.703125 \nL 19.921875 47.703125 \nL 19.921875 0 \nL 10.890625 0 \nL 10.890625 47.703125 \nL 2.296875 47.703125 \nL 2.296875 54.6875 \nL 10.890625 54.6875 \nL 10.890625 58.5 \nQ 10.890625 67.625 15.140625 71.796875 \nQ 19.390625 75.984375 28.609375 75.984375 \nz\n\" id=\"DejaVuSans-102\"/>\n       </defs>\n       <use xlink:href=\"#DejaVuSans-102\"/>\n      </g>\n     </g>\n    </g>\n    <g id=\"xtick_8\">\n     <g id=\"line2d_15\">\n      <path clip-path=\"url(#p347fdcd624)\" d=\"M 153.768125 224.64 \nL 153.768125 7.2 \n\" style=\"fill:none;stroke:#c0c0c0;stroke-linecap:square;stroke-width:0.8;\"/>\n     </g>\n     <g id=\"line2d_16\">\n      <g>\n       <use style=\"stroke:#000000;stroke-width:0.8;\" x=\"153.768125\" xlink:href=\"#maf7bb19997\" y=\"224.64\"/>\n      </g>\n     </g>\n     <g id=\"text_8\">\n      <!-- g -->\n      <g transform=\"translate(156.5275 237.988437)rotate(-90)scale(0.1 -0.1)\">\n       <defs>\n        <path d=\"M 45.40625 27.984375 \nQ 45.40625 37.75 41.375 43.109375 \nQ 37.359375 48.484375 30.078125 48.484375 \nQ 22.859375 48.484375 18.828125 43.109375 \nQ 14.796875 37.75 14.796875 27.984375 \nQ 14.796875 18.265625 18.828125 12.890625 \nQ 22.859375 7.515625 30.078125 7.515625 \nQ 37.359375 7.515625 41.375 12.890625 \nQ 45.40625 18.265625 45.40625 27.984375 \nz\nM 54.390625 6.78125 \nQ 54.390625 -7.171875 48.1875 -13.984375 \nQ 42 -20.796875 29.203125 -20.796875 \nQ 24.46875 -20.796875 20.265625 -20.09375 \nQ 16.0625 -19.390625 12.109375 -17.921875 \nL 12.109375 -9.1875 \nQ 16.0625 -11.328125 19.921875 -12.34375 \nQ 23.78125 -13.375 27.78125 -13.375 \nQ 36.625 -13.375 41.015625 -8.765625 \nQ 45.40625 -4.15625 45.40625 5.171875 \nL 45.40625 9.625 \nQ 42.625 4.78125 38.28125 2.390625 \nQ 33.9375 0 27.875 0 \nQ 17.828125 0 11.671875 7.65625 \nQ 5.515625 15.328125 5.515625 27.984375 \nQ 5.515625 40.671875 11.671875 48.328125 \nQ 17.828125 56 27.875 56 \nQ 33.9375 56 38.28125 53.609375 \nQ 42.625 51.21875 45.40625 46.390625 \nL 45.40625 54.6875 \nL 54.390625 54.6875 \nz\n\" id=\"DejaVuSans-103\"/>\n       </defs>\n       <use xlink:href=\"#DejaVuSans-103\"/>\n      </g>\n     </g>\n    </g>\n    <g id=\"xtick_9\">\n     <g id=\"line2d_17\">\n      <path clip-path=\"url(#p347fdcd624)\" d=\"M 165.94267 224.64 \nL 165.94267 7.2 \n\" style=\"fill:none;stroke:#c0c0c0;stroke-linecap:square;stroke-width:0.8;\"/>\n     </g>\n     <g id=\"line2d_18\">\n      <g>\n       <use style=\"stroke:#000000;stroke-width:0.8;\" x=\"165.94267\" xlink:href=\"#maf7bb19997\" y=\"224.64\"/>\n      </g>\n     </g>\n     <g id=\"text_9\">\n      <!-- h -->\n      <g transform=\"translate(168.702045 237.9775)rotate(-90)scale(0.1 -0.1)\">\n       <defs>\n        <path d=\"M 54.890625 33.015625 \nL 54.890625 0 \nL 45.90625 0 \nL 45.90625 32.71875 \nQ 45.90625 40.484375 42.875 44.328125 \nQ 39.84375 48.1875 33.796875 48.1875 \nQ 26.515625 48.1875 22.3125 43.546875 \nQ 18.109375 38.921875 18.109375 30.90625 \nL 18.109375 0 \nL 9.078125 0 \nL 9.078125 75.984375 \nL 18.109375 75.984375 \nL 18.109375 46.1875 \nQ 21.34375 51.125 25.703125 53.5625 \nQ 30.078125 56 35.796875 56 \nQ 45.21875 56 50.046875 50.171875 \nQ 54.890625 44.34375 54.890625 33.015625 \nz\n\" id=\"DejaVuSans-104\"/>\n       </defs>\n       <use xlink:href=\"#DejaVuSans-104\"/>\n      </g>\n     </g>\n    </g>\n    <g id=\"xtick_10\">\n     <g id=\"line2d_19\">\n      <path clip-path=\"url(#p347fdcd624)\" d=\"M 178.117216 224.64 \nL 178.117216 7.2 \n\" style=\"fill:none;stroke:#c0c0c0;stroke-linecap:square;stroke-width:0.8;\"/>\n     </g>\n     <g id=\"line2d_20\">\n      <g>\n       <use style=\"stroke:#000000;stroke-width:0.8;\" x=\"178.117216\" xlink:href=\"#maf7bb19997\" y=\"224.64\"/>\n      </g>\n     </g>\n     <g id=\"text_10\">\n      <!-- i -->\n      <g transform=\"translate(180.876591 234.418125)rotate(-90)scale(0.1 -0.1)\">\n       <defs>\n        <path d=\"M 9.421875 54.6875 \nL 18.40625 54.6875 \nL 18.40625 0 \nL 9.421875 0 \nz\nM 9.421875 75.984375 \nL 18.40625 75.984375 \nL 18.40625 64.59375 \nL 9.421875 64.59375 \nz\n\" id=\"DejaVuSans-105\"/>\n       </defs>\n       <use xlink:href=\"#DejaVuSans-105\"/>\n      </g>\n     </g>\n    </g>\n    <g id=\"xtick_11\">\n     <g id=\"line2d_21\">\n      <path clip-path=\"url(#p347fdcd624)\" d=\"M 190.291761 224.64 \nL 190.291761 7.2 \n\" style=\"fill:none;stroke:#c0c0c0;stroke-linecap:square;stroke-width:0.8;\"/>\n     </g>\n     <g id=\"line2d_22\">\n      <g>\n       <use style=\"stroke:#000000;stroke-width:0.8;\" x=\"190.291761\" xlink:href=\"#maf7bb19997\" y=\"224.64\"/>\n      </g>\n     </g>\n     <g id=\"text_11\">\n      <!-- j -->\n      <g transform=\"translate(193.051136 234.418125)rotate(-90)scale(0.1 -0.1)\">\n       <defs>\n        <path d=\"M 9.421875 54.6875 \nL 18.40625 54.6875 \nL 18.40625 -0.984375 \nQ 18.40625 -11.421875 14.421875 -16.109375 \nQ 10.453125 -20.796875 1.609375 -20.796875 \nL -1.8125 -20.796875 \nL -1.8125 -13.1875 \nL 0.59375 -13.1875 \nQ 5.71875 -13.1875 7.5625 -10.8125 \nQ 9.421875 -8.453125 9.421875 -0.984375 \nz\nM 9.421875 75.984375 \nL 18.40625 75.984375 \nL 18.40625 64.59375 \nL 9.421875 64.59375 \nz\n\" id=\"DejaVuSans-106\"/>\n       </defs>\n       <use xlink:href=\"#DejaVuSans-106\"/>\n      </g>\n     </g>\n    </g>\n    <g id=\"xtick_12\">\n     <g id=\"line2d_23\">\n      <path clip-path=\"url(#p347fdcd624)\" d=\"M 202.466307 224.64 \nL 202.466307 7.2 \n\" style=\"fill:none;stroke:#c0c0c0;stroke-linecap:square;stroke-width:0.8;\"/>\n     </g>\n     <g id=\"line2d_24\">\n      <g>\n       <use style=\"stroke:#000000;stroke-width:0.8;\" x=\"202.466307\" xlink:href=\"#maf7bb19997\" y=\"224.64\"/>\n      </g>\n     </g>\n     <g id=\"text_12\">\n      <!-- k -->\n      <g transform=\"translate(205.225682 237.430625)rotate(-90)scale(0.1 -0.1)\">\n       <defs>\n        <path d=\"M 9.078125 75.984375 \nL 18.109375 75.984375 \nL 18.109375 31.109375 \nL 44.921875 54.6875 \nL 56.390625 54.6875 \nL 27.390625 29.109375 \nL 57.625 0 \nL 45.90625 0 \nL 18.109375 26.703125 \nL 18.109375 0 \nL 9.078125 0 \nz\n\" id=\"DejaVuSans-107\"/>\n       </defs>\n       <use xlink:href=\"#DejaVuSans-107\"/>\n      </g>\n     </g>\n    </g>\n    <g id=\"xtick_13\">\n     <g id=\"line2d_25\">\n      <path clip-path=\"url(#p347fdcd624)\" d=\"M 214.640852 224.64 \nL 214.640852 7.2 \n\" style=\"fill:none;stroke:#c0c0c0;stroke-linecap:square;stroke-width:0.8;\"/>\n     </g>\n     <g id=\"line2d_26\">\n      <g>\n       <use style=\"stroke:#000000;stroke-width:0.8;\" x=\"214.640852\" xlink:href=\"#maf7bb19997\" y=\"224.64\"/>\n      </g>\n     </g>\n     <g id=\"text_13\">\n      <!-- l -->\n      <g transform=\"translate(217.400227 234.418125)rotate(-90)scale(0.1 -0.1)\">\n       <defs>\n        <path d=\"M 9.421875 75.984375 \nL 18.40625 75.984375 \nL 18.40625 0 \nL 9.421875 0 \nz\n\" id=\"DejaVuSans-108\"/>\n       </defs>\n       <use xlink:href=\"#DejaVuSans-108\"/>\n      </g>\n     </g>\n    </g>\n    <g id=\"xtick_14\">\n     <g id=\"line2d_27\">\n      <path clip-path=\"url(#p347fdcd624)\" d=\"M 226.815398 224.64 \nL 226.815398 7.2 \n\" style=\"fill:none;stroke:#c0c0c0;stroke-linecap:square;stroke-width:0.8;\"/>\n     </g>\n     <g id=\"line2d_28\">\n      <g>\n       <use style=\"stroke:#000000;stroke-width:0.8;\" x=\"226.815398\" xlink:href=\"#maf7bb19997\" y=\"224.64\"/>\n      </g>\n     </g>\n     <g id=\"text_14\">\n      <!-- m -->\n      <g transform=\"translate(229.574773 241.380625)rotate(-90)scale(0.1 -0.1)\">\n       <defs>\n        <path d=\"M 52 44.1875 \nQ 55.375 50.25 60.0625 53.125 \nQ 64.75 56 71.09375 56 \nQ 79.640625 56 84.28125 50.015625 \nQ 88.921875 44.046875 88.921875 33.015625 \nL 88.921875 0 \nL 79.890625 0 \nL 79.890625 32.71875 \nQ 79.890625 40.578125 77.09375 44.375 \nQ 74.3125 48.1875 68.609375 48.1875 \nQ 61.625 48.1875 57.5625 43.546875 \nQ 53.515625 38.921875 53.515625 30.90625 \nL 53.515625 0 \nL 44.484375 0 \nL 44.484375 32.71875 \nQ 44.484375 40.625 41.703125 44.40625 \nQ 38.921875 48.1875 33.109375 48.1875 \nQ 26.21875 48.1875 22.15625 43.53125 \nQ 18.109375 38.875 18.109375 30.90625 \nL 18.109375 0 \nL 9.078125 0 \nL 9.078125 54.6875 \nL 18.109375 54.6875 \nL 18.109375 46.1875 \nQ 21.1875 51.21875 25.484375 53.609375 \nQ 29.78125 56 35.6875 56 \nQ 41.65625 56 45.828125 52.96875 \nQ 50 49.953125 52 44.1875 \nz\n\" id=\"DejaVuSans-109\"/>\n       </defs>\n       <use xlink:href=\"#DejaVuSans-109\"/>\n      </g>\n     </g>\n    </g>\n    <g id=\"xtick_15\">\n     <g id=\"line2d_29\">\n      <path clip-path=\"url(#p347fdcd624)\" d=\"M 238.989943 224.64 \nL 238.989943 7.2 \n\" style=\"fill:none;stroke:#c0c0c0;stroke-linecap:square;stroke-width:0.8;\"/>\n     </g>\n     <g id=\"line2d_30\">\n      <g>\n       <use style=\"stroke:#000000;stroke-width:0.8;\" x=\"238.989943\" xlink:href=\"#maf7bb19997\" y=\"224.64\"/>\n      </g>\n     </g>\n     <g id=\"text_15\">\n      <!-- n -->\n      <g transform=\"translate(241.749318 237.9775)rotate(-90)scale(0.1 -0.1)\">\n       <defs>\n        <path d=\"M 54.890625 33.015625 \nL 54.890625 0 \nL 45.90625 0 \nL 45.90625 32.71875 \nQ 45.90625 40.484375 42.875 44.328125 \nQ 39.84375 48.1875 33.796875 48.1875 \nQ 26.515625 48.1875 22.3125 43.546875 \nQ 18.109375 38.921875 18.109375 30.90625 \nL 18.109375 0 \nL 9.078125 0 \nL 9.078125 54.6875 \nL 18.109375 54.6875 \nL 18.109375 46.1875 \nQ 21.34375 51.125 25.703125 53.5625 \nQ 30.078125 56 35.796875 56 \nQ 45.21875 56 50.046875 50.171875 \nQ 54.890625 44.34375 54.890625 33.015625 \nz\n\" id=\"DejaVuSans-110\"/>\n       </defs>\n       <use xlink:href=\"#DejaVuSans-110\"/>\n      </g>\n     </g>\n    </g>\n    <g id=\"xtick_16\">\n     <g id=\"line2d_31\">\n      <path clip-path=\"url(#p347fdcd624)\" d=\"M 251.164489 224.64 \nL 251.164489 7.2 \n\" style=\"fill:none;stroke:#c0c0c0;stroke-linecap:square;stroke-width:0.8;\"/>\n     </g>\n     <g id=\"line2d_32\">\n      <g>\n       <use style=\"stroke:#000000;stroke-width:0.8;\" x=\"251.164489\" xlink:href=\"#maf7bb19997\" y=\"224.64\"/>\n      </g>\n     </g>\n     <g id=\"text_16\">\n      <!-- o -->\n      <g transform=\"translate(253.923864 237.75875)rotate(-90)scale(0.1 -0.1)\">\n       <defs>\n        <path d=\"M 30.609375 48.390625 \nQ 23.390625 48.390625 19.1875 42.75 \nQ 14.984375 37.109375 14.984375 27.296875 \nQ 14.984375 17.484375 19.15625 11.84375 \nQ 23.34375 6.203125 30.609375 6.203125 \nQ 37.796875 6.203125 41.984375 11.859375 \nQ 46.1875 17.53125 46.1875 27.296875 \nQ 46.1875 37.015625 41.984375 42.703125 \nQ 37.796875 48.390625 30.609375 48.390625 \nz\nM 30.609375 56 \nQ 42.328125 56 49.015625 48.375 \nQ 55.71875 40.765625 55.71875 27.296875 \nQ 55.71875 13.875 49.015625 6.21875 \nQ 42.328125 -1.421875 30.609375 -1.421875 \nQ 18.84375 -1.421875 12.171875 6.21875 \nQ 5.515625 13.875 5.515625 27.296875 \nQ 5.515625 40.765625 12.171875 48.375 \nQ 18.84375 56 30.609375 56 \nz\n\" id=\"DejaVuSans-111\"/>\n       </defs>\n       <use xlink:href=\"#DejaVuSans-111\"/>\n      </g>\n     </g>\n    </g>\n    <g id=\"xtick_17\">\n     <g id=\"line2d_33\">\n      <path clip-path=\"url(#p347fdcd624)\" d=\"M 263.339034 224.64 \nL 263.339034 7.2 \n\" style=\"fill:none;stroke:#c0c0c0;stroke-linecap:square;stroke-width:0.8;\"/>\n     </g>\n     <g id=\"line2d_34\">\n      <g>\n       <use style=\"stroke:#000000;stroke-width:0.8;\" x=\"263.339034\" xlink:href=\"#maf7bb19997\" y=\"224.64\"/>\n      </g>\n     </g>\n     <g id=\"text_17\">\n      <!-- p -->\n      <g transform=\"translate(266.098409 237.988437)rotate(-90)scale(0.1 -0.1)\">\n       <defs>\n        <path d=\"M 18.109375 8.203125 \nL 18.109375 -20.796875 \nL 9.078125 -20.796875 \nL 9.078125 54.6875 \nL 18.109375 54.6875 \nL 18.109375 46.390625 \nQ 20.953125 51.265625 25.265625 53.625 \nQ 29.59375 56 35.59375 56 \nQ 45.5625 56 51.78125 48.09375 \nQ 58.015625 40.1875 58.015625 27.296875 \nQ 58.015625 14.40625 51.78125 6.484375 \nQ 45.5625 -1.421875 35.59375 -1.421875 \nQ 29.59375 -1.421875 25.265625 0.953125 \nQ 20.953125 3.328125 18.109375 8.203125 \nz\nM 48.6875 27.296875 \nQ 48.6875 37.203125 44.609375 42.84375 \nQ 40.53125 48.484375 33.40625 48.484375 \nQ 26.265625 48.484375 22.1875 42.84375 \nQ 18.109375 37.203125 18.109375 27.296875 \nQ 18.109375 17.390625 22.1875 11.75 \nQ 26.265625 6.109375 33.40625 6.109375 \nQ 40.53125 6.109375 44.609375 11.75 \nQ 48.6875 17.390625 48.6875 27.296875 \nz\n\" id=\"DejaVuSans-112\"/>\n       </defs>\n       <use xlink:href=\"#DejaVuSans-112\"/>\n      </g>\n     </g>\n    </g>\n    <g id=\"xtick_18\">\n     <g id=\"line2d_35\">\n      <path clip-path=\"url(#p347fdcd624)\" d=\"M 275.51358 224.64 \nL 275.51358 7.2 \n\" style=\"fill:none;stroke:#c0c0c0;stroke-linecap:square;stroke-width:0.8;\"/>\n     </g>\n     <g id=\"line2d_36\">\n      <g>\n       <use style=\"stroke:#000000;stroke-width:0.8;\" x=\"275.51358\" xlink:href=\"#maf7bb19997\" y=\"224.64\"/>\n      </g>\n     </g>\n     <g id=\"text_18\">\n      <!-- r -->\n      <g transform=\"translate(278.272955 235.750937)rotate(-90)scale(0.1 -0.1)\">\n       <defs>\n        <path d=\"M 41.109375 46.296875 \nQ 39.59375 47.171875 37.8125 47.578125 \nQ 36.03125 48 33.890625 48 \nQ 26.265625 48 22.1875 43.046875 \nQ 18.109375 38.09375 18.109375 28.8125 \nL 18.109375 0 \nL 9.078125 0 \nL 9.078125 54.6875 \nL 18.109375 54.6875 \nL 18.109375 46.1875 \nQ 20.953125 51.171875 25.484375 53.578125 \nQ 30.03125 56 36.53125 56 \nQ 37.453125 56 38.578125 55.875 \nQ 39.703125 55.765625 41.0625 55.515625 \nz\n\" id=\"DejaVuSans-114\"/>\n       </defs>\n       <use xlink:href=\"#DejaVuSans-114\"/>\n      </g>\n     </g>\n    </g>\n    <g id=\"xtick_19\">\n     <g id=\"line2d_37\">\n      <path clip-path=\"url(#p347fdcd624)\" d=\"M 287.688125 224.64 \nL 287.688125 7.2 \n\" style=\"fill:none;stroke:#c0c0c0;stroke-linecap:square;stroke-width:0.8;\"/>\n     </g>\n     <g id=\"line2d_38\">\n      <g>\n       <use style=\"stroke:#000000;stroke-width:0.8;\" x=\"287.688125\" xlink:href=\"#maf7bb19997\" y=\"224.64\"/>\n      </g>\n     </g>\n     <g id=\"text_19\">\n      <!-- s -->\n      <g transform=\"translate(290.4475 236.849375)rotate(-90)scale(0.1 -0.1)\">\n       <defs>\n        <path d=\"M 44.28125 53.078125 \nL 44.28125 44.578125 \nQ 40.484375 46.53125 36.375 47.5 \nQ 32.28125 48.484375 27.875 48.484375 \nQ 21.1875 48.484375 17.84375 46.4375 \nQ 14.5 44.390625 14.5 40.28125 \nQ 14.5 37.15625 16.890625 35.375 \nQ 19.28125 33.59375 26.515625 31.984375 \nL 29.59375 31.296875 \nQ 39.15625 29.25 43.1875 25.515625 \nQ 47.21875 21.78125 47.21875 15.09375 \nQ 47.21875 7.46875 41.1875 3.015625 \nQ 35.15625 -1.421875 24.609375 -1.421875 \nQ 20.21875 -1.421875 15.453125 -0.5625 \nQ 10.6875 0.296875 5.421875 2 \nL 5.421875 11.28125 \nQ 10.40625 8.6875 15.234375 7.390625 \nQ 20.0625 6.109375 24.8125 6.109375 \nQ 31.15625 6.109375 34.5625 8.28125 \nQ 37.984375 10.453125 37.984375 14.40625 \nQ 37.984375 18.0625 35.515625 20.015625 \nQ 33.0625 21.96875 24.703125 23.78125 \nL 21.578125 24.515625 \nQ 13.234375 26.265625 9.515625 29.90625 \nQ 5.8125 33.546875 5.8125 39.890625 \nQ 5.8125 47.609375 11.28125 51.796875 \nQ 16.75 56 26.8125 56 \nQ 31.78125 56 36.171875 55.265625 \nQ 40.578125 54.546875 44.28125 53.078125 \nz\n\" id=\"DejaVuSans-115\"/>\n       </defs>\n       <use xlink:href=\"#DejaVuSans-115\"/>\n      </g>\n     </g>\n    </g>\n    <g id=\"xtick_20\">\n     <g id=\"line2d_39\">\n      <path clip-path=\"url(#p347fdcd624)\" d=\"M 299.86267 224.64 \nL 299.86267 7.2 \n\" style=\"fill:none;stroke:#c0c0c0;stroke-linecap:square;stroke-width:0.8;\"/>\n     </g>\n     <g id=\"line2d_40\">\n      <g>\n       <use style=\"stroke:#000000;stroke-width:0.8;\" x=\"299.86267\" xlink:href=\"#maf7bb19997\" y=\"224.64\"/>\n      </g>\n     </g>\n     <g id=\"text_20\">\n      <!-- t -->\n      <g transform=\"translate(302.622045 235.560312)rotate(-90)scale(0.1 -0.1)\">\n       <defs>\n        <path d=\"M 18.3125 70.21875 \nL 18.3125 54.6875 \nL 36.8125 54.6875 \nL 36.8125 47.703125 \nL 18.3125 47.703125 \nL 18.3125 18.015625 \nQ 18.3125 11.328125 20.140625 9.421875 \nQ 21.96875 7.515625 27.59375 7.515625 \nL 36.8125 7.515625 \nL 36.8125 0 \nL 27.59375 0 \nQ 17.1875 0 13.234375 3.875 \nQ 9.28125 7.765625 9.28125 18.015625 \nL 9.28125 47.703125 \nL 2.6875 47.703125 \nL 2.6875 54.6875 \nL 9.28125 54.6875 \nL 9.28125 70.21875 \nz\n\" id=\"DejaVuSans-116\"/>\n       </defs>\n       <use xlink:href=\"#DejaVuSans-116\"/>\n      </g>\n     </g>\n    </g>\n    <g id=\"xtick_21\">\n     <g id=\"line2d_41\">\n      <path clip-path=\"url(#p347fdcd624)\" d=\"M 312.037216 224.64 \nL 312.037216 7.2 \n\" style=\"fill:none;stroke:#c0c0c0;stroke-linecap:square;stroke-width:0.8;\"/>\n     </g>\n     <g id=\"line2d_42\">\n      <g>\n       <use style=\"stroke:#000000;stroke-width:0.8;\" x=\"312.037216\" xlink:href=\"#maf7bb19997\" y=\"224.64\"/>\n      </g>\n     </g>\n     <g id=\"text_21\">\n      <!-- u -->\n      <g transform=\"translate(314.796591 237.9775)rotate(-90)scale(0.1 -0.1)\">\n       <defs>\n        <path d=\"M 8.5 21.578125 \nL 8.5 54.6875 \nL 17.484375 54.6875 \nL 17.484375 21.921875 \nQ 17.484375 14.15625 20.5 10.265625 \nQ 23.53125 6.390625 29.59375 6.390625 \nQ 36.859375 6.390625 41.078125 11.03125 \nQ 45.3125 15.671875 45.3125 23.6875 \nL 45.3125 54.6875 \nL 54.296875 54.6875 \nL 54.296875 0 \nL 45.3125 0 \nL 45.3125 8.40625 \nQ 42.046875 3.421875 37.71875 1 \nQ 33.40625 -1.421875 27.6875 -1.421875 \nQ 18.265625 -1.421875 13.375 4.4375 \nQ 8.5 10.296875 8.5 21.578125 \nz\nM 31.109375 56 \nz\n\" id=\"DejaVuSans-117\"/>\n       </defs>\n       <use xlink:href=\"#DejaVuSans-117\"/>\n      </g>\n     </g>\n    </g>\n    <g id=\"xtick_22\">\n     <g id=\"line2d_43\">\n      <path clip-path=\"url(#p347fdcd624)\" d=\"M 324.211761 224.64 \nL 324.211761 7.2 \n\" style=\"fill:none;stroke:#c0c0c0;stroke-linecap:square;stroke-width:0.8;\"/>\n     </g>\n     <g id=\"line2d_44\">\n      <g>\n       <use style=\"stroke:#000000;stroke-width:0.8;\" x=\"324.211761\" xlink:href=\"#maf7bb19997\" y=\"224.64\"/>\n      </g>\n     </g>\n     <g id=\"text_22\">\n      <!-- v -->\n      <g transform=\"translate(326.971136 237.55875)rotate(-90)scale(0.1 -0.1)\">\n       <defs>\n        <path d=\"M 2.984375 54.6875 \nL 12.5 54.6875 \nL 29.59375 8.796875 \nL 46.6875 54.6875 \nL 56.203125 54.6875 \nL 35.6875 0 \nL 23.484375 0 \nz\n\" id=\"DejaVuSans-118\"/>\n       </defs>\n       <use xlink:href=\"#DejaVuSans-118\"/>\n      </g>\n     </g>\n    </g>\n    <g id=\"xtick_23\">\n     <g id=\"line2d_45\">\n      <path clip-path=\"url(#p347fdcd624)\" d=\"M 336.386307 224.64 \nL 336.386307 7.2 \n\" style=\"fill:none;stroke:#c0c0c0;stroke-linecap:square;stroke-width:0.8;\"/>\n     </g>\n     <g id=\"line2d_46\">\n      <g>\n       <use style=\"stroke:#000000;stroke-width:0.8;\" x=\"336.386307\" xlink:href=\"#maf7bb19997\" y=\"224.64\"/>\n      </g>\n     </g>\n     <g id=\"text_23\">\n      <!-- w -->\n      <g transform=\"translate(339.145682 239.818125)rotate(-90)scale(0.1 -0.1)\">\n       <defs>\n        <path d=\"M 4.203125 54.6875 \nL 13.1875 54.6875 \nL 24.421875 12.015625 \nL 35.59375 54.6875 \nL 46.1875 54.6875 \nL 57.421875 12.015625 \nL 68.609375 54.6875 \nL 77.59375 54.6875 \nL 63.28125 0 \nL 52.6875 0 \nL 40.921875 44.828125 \nL 29.109375 0 \nL 18.5 0 \nz\n\" id=\"DejaVuSans-119\"/>\n       </defs>\n       <use xlink:href=\"#DejaVuSans-119\"/>\n      </g>\n     </g>\n    </g>\n    <g id=\"xtick_24\">\n     <g id=\"line2d_47\">\n      <path clip-path=\"url(#p347fdcd624)\" d=\"M 348.560852 224.64 \nL 348.560852 7.2 \n\" style=\"fill:none;stroke:#c0c0c0;stroke-linecap:square;stroke-width:0.8;\"/>\n     </g>\n     <g id=\"line2d_48\">\n      <g>\n       <use style=\"stroke:#000000;stroke-width:0.8;\" x=\"348.560852\" xlink:href=\"#maf7bb19997\" y=\"224.64\"/>\n      </g>\n     </g>\n     <g id=\"text_24\">\n      <!-- x -->\n      <g transform=\"translate(351.320227 237.55875)rotate(-90)scale(0.1 -0.1)\">\n       <defs>\n        <path d=\"M 54.890625 54.6875 \nL 35.109375 28.078125 \nL 55.90625 0 \nL 45.3125 0 \nL 29.390625 21.484375 \nL 13.484375 0 \nL 2.875 0 \nL 24.125 28.609375 \nL 4.6875 54.6875 \nL 15.28125 54.6875 \nL 29.78125 35.203125 \nL 44.28125 54.6875 \nz\n\" id=\"DejaVuSans-120\"/>\n       </defs>\n       <use xlink:href=\"#DejaVuSans-120\"/>\n      </g>\n     </g>\n    </g>\n    <g id=\"xtick_25\">\n     <g id=\"line2d_49\">\n      <path clip-path=\"url(#p347fdcd624)\" d=\"M 360.735398 224.64 \nL 360.735398 7.2 \n\" style=\"fill:none;stroke:#c0c0c0;stroke-linecap:square;stroke-width:0.8;\"/>\n     </g>\n     <g id=\"line2d_50\">\n      <g>\n       <use style=\"stroke:#000000;stroke-width:0.8;\" x=\"360.735398\" xlink:href=\"#maf7bb19997\" y=\"224.64\"/>\n      </g>\n     </g>\n     <g id=\"text_25\">\n      <!-- y -->\n      <g transform=\"translate(363.494773 237.55875)rotate(-90)scale(0.1 -0.1)\">\n       <defs>\n        <path d=\"M 32.171875 -5.078125 \nQ 28.375 -14.84375 24.75 -17.8125 \nQ 21.140625 -20.796875 15.09375 -20.796875 \nL 7.90625 -20.796875 \nL 7.90625 -13.28125 \nL 13.1875 -13.28125 \nQ 16.890625 -13.28125 18.9375 -11.515625 \nQ 21 -9.765625 23.484375 -3.21875 \nL 25.09375 0.875 \nL 2.984375 54.6875 \nL 12.5 54.6875 \nL 29.59375 11.921875 \nL 46.6875 54.6875 \nL 56.203125 54.6875 \nz\n\" id=\"DejaVuSans-121\"/>\n       </defs>\n       <use xlink:href=\"#DejaVuSans-121\"/>\n      </g>\n     </g>\n    </g>\n    <g id=\"xtick_26\">\n     <g id=\"line2d_51\">\n      <path clip-path=\"url(#p347fdcd624)\" d=\"M 372.909943 224.64 \nL 372.909943 7.2 \n\" style=\"fill:none;stroke:#c0c0c0;stroke-linecap:square;stroke-width:0.8;\"/>\n     </g>\n     <g id=\"line2d_52\">\n      <g>\n       <use style=\"stroke:#000000;stroke-width:0.8;\" x=\"372.909943\" xlink:href=\"#maf7bb19997\" y=\"224.64\"/>\n      </g>\n     </g>\n     <g id=\"text_26\">\n      <!-- z -->\n      <g transform=\"translate(375.669318 236.888437)rotate(-90)scale(0.1 -0.1)\">\n       <defs>\n        <path d=\"M 5.515625 54.6875 \nL 48.1875 54.6875 \nL 48.1875 46.484375 \nL 14.40625 7.171875 \nL 48.1875 7.171875 \nL 48.1875 0 \nL 4.296875 0 \nL 4.296875 8.203125 \nL 38.09375 47.515625 \nL 5.515625 47.515625 \nz\n\" id=\"DejaVuSans-122\"/>\n       </defs>\n       <use xlink:href=\"#DejaVuSans-122\"/>\n      </g>\n     </g>\n    </g>\n    <g id=\"text_27\">\n     <!-- Samples -->\n     <g transform=\"translate(199.375 252.979062)scale(0.1 -0.1)\">\n      <defs>\n       <path d=\"M 53.515625 70.515625 \nL 53.515625 60.890625 \nQ 47.90625 63.578125 42.921875 64.890625 \nQ 37.9375 66.21875 33.296875 66.21875 \nQ 25.25 66.21875 20.875 63.09375 \nQ 16.5 59.96875 16.5 54.203125 \nQ 16.5 49.359375 19.40625 46.890625 \nQ 22.3125 44.4375 30.421875 42.921875 \nL 36.375 41.703125 \nQ 47.40625 39.59375 52.65625 34.296875 \nQ 57.90625 29 57.90625 20.125 \nQ 57.90625 9.515625 50.796875 4.046875 \nQ 43.703125 -1.421875 29.984375 -1.421875 \nQ 24.8125 -1.421875 18.96875 -0.25 \nQ 13.140625 0.921875 6.890625 3.21875 \nL 6.890625 13.375 \nQ 12.890625 10.015625 18.65625 8.296875 \nQ 24.421875 6.59375 29.984375 6.59375 \nQ 38.421875 6.59375 43.015625 9.90625 \nQ 47.609375 13.234375 47.609375 19.390625 \nQ 47.609375 24.75 44.3125 27.78125 \nQ 41.015625 30.8125 33.5 32.328125 \nL 27.484375 33.5 \nQ 16.453125 35.6875 11.515625 40.375 \nQ 6.59375 45.0625 6.59375 53.421875 \nQ 6.59375 63.09375 13.40625 68.65625 \nQ 20.21875 74.21875 32.171875 74.21875 \nQ 37.3125 74.21875 42.625 73.28125 \nQ 47.953125 72.359375 53.515625 70.515625 \nz\n\" id=\"DejaVuSans-83\"/>\n      </defs>\n      <use xlink:href=\"#DejaVuSans-83\"/>\n      <use x=\"63.476562\" xlink:href=\"#DejaVuSans-97\"/>\n      <use x=\"124.755859\" xlink:href=\"#DejaVuSans-109\"/>\n      <use x=\"222.167969\" xlink:href=\"#DejaVuSans-112\"/>\n      <use x=\"285.644531\" xlink:href=\"#DejaVuSans-108\"/>\n      <use x=\"313.427734\" xlink:href=\"#DejaVuSans-101\"/>\n      <use x=\"374.951172\" xlink:href=\"#DejaVuSans-115\"/>\n     </g>\n    </g>\n   </g>\n   <g id=\"matplotlib.axis_2\">\n    <g id=\"ytick_1\">\n     <g id=\"line2d_53\">\n      <path clip-path=\"url(#p347fdcd624)\" d=\"M 53.328125 214.756364 \nL 388.128125 214.756364 \n\" style=\"fill:none;stroke:#c0c0c0;stroke-linecap:square;stroke-width:0.8;\"/>\n     </g>\n     <g id=\"line2d_54\">\n      <defs>\n       <path d=\"M 0 0 \nL -3.5 0 \n\" id=\"m794ef85cfe\" style=\"stroke:#000000;stroke-width:0.8;\"/>\n      </defs>\n      <g>\n       <use style=\"stroke:#000000;stroke-width:0.8;\" x=\"53.328125\" xlink:href=\"#m794ef85cfe\" y=\"214.756364\"/>\n      </g>\n     </g>\n     <g id=\"text_28\">\n      <!-- 0 -->\n      <g transform=\"translate(39.965625 218.555582)scale(0.1 -0.1)\">\n       <defs>\n        <path d=\"M 31.78125 66.40625 \nQ 24.171875 66.40625 20.328125 58.90625 \nQ 16.5 51.421875 16.5 36.375 \nQ 16.5 21.390625 20.328125 13.890625 \nQ 24.171875 6.390625 31.78125 6.390625 \nQ 39.453125 6.390625 43.28125 13.890625 \nQ 47.125 21.390625 47.125 36.375 \nQ 47.125 51.421875 43.28125 58.90625 \nQ 39.453125 66.40625 31.78125 66.40625 \nz\nM 31.78125 74.21875 \nQ 44.046875 74.21875 50.515625 64.515625 \nQ 56.984375 54.828125 56.984375 36.375 \nQ 56.984375 17.96875 50.515625 8.265625 \nQ 44.046875 -1.421875 31.78125 -1.421875 \nQ 19.53125 -1.421875 13.0625 8.265625 \nQ 6.59375 17.96875 6.59375 36.375 \nQ 6.59375 54.828125 13.0625 64.515625 \nQ 19.53125 74.21875 31.78125 74.21875 \nz\n\" id=\"DejaVuSans-48\"/>\n       </defs>\n       <use xlink:href=\"#DejaVuSans-48\"/>\n      </g>\n     </g>\n    </g>\n    <g id=\"ytick_2\">\n     <g id=\"line2d_55\">\n      <path clip-path=\"url(#p347fdcd624)\" d=\"M 53.328125 186.883729 \nL 388.128125 186.883729 \n\" style=\"fill:none;stroke:#c0c0c0;stroke-linecap:square;stroke-width:0.8;\"/>\n     </g>\n     <g id=\"line2d_56\">\n      <g>\n       <use style=\"stroke:#000000;stroke-width:0.8;\" x=\"53.328125\" xlink:href=\"#m794ef85cfe\" y=\"186.883729\"/>\n      </g>\n     </g>\n     <g id=\"text_29\">\n      <!-- 250 -->\n      <g transform=\"translate(27.240625 190.682947)scale(0.1 -0.1)\">\n       <defs>\n        <path d=\"M 19.1875 8.296875 \nL 53.609375 8.296875 \nL 53.609375 0 \nL 7.328125 0 \nL 7.328125 8.296875 \nQ 12.9375 14.109375 22.625 23.890625 \nQ 32.328125 33.6875 34.8125 36.53125 \nQ 39.546875 41.84375 41.421875 45.53125 \nQ 43.3125 49.21875 43.3125 52.78125 \nQ 43.3125 58.59375 39.234375 62.25 \nQ 35.15625 65.921875 28.609375 65.921875 \nQ 23.96875 65.921875 18.8125 64.3125 \nQ 13.671875 62.703125 7.8125 59.421875 \nL 7.8125 69.390625 \nQ 13.765625 71.78125 18.9375 73 \nQ 24.125 74.21875 28.421875 74.21875 \nQ 39.75 74.21875 46.484375 68.546875 \nQ 53.21875 62.890625 53.21875 53.421875 \nQ 53.21875 48.921875 51.53125 44.890625 \nQ 49.859375 40.875 45.40625 35.40625 \nQ 44.1875 33.984375 37.640625 27.21875 \nQ 31.109375 20.453125 19.1875 8.296875 \nz\n\" id=\"DejaVuSans-50\"/>\n        <path d=\"M 10.796875 72.90625 \nL 49.515625 72.90625 \nL 49.515625 64.59375 \nL 19.828125 64.59375 \nL 19.828125 46.734375 \nQ 21.96875 47.46875 24.109375 47.828125 \nQ 26.265625 48.1875 28.421875 48.1875 \nQ 40.625 48.1875 47.75 41.5 \nQ 54.890625 34.8125 54.890625 23.390625 \nQ 54.890625 11.625 47.5625 5.09375 \nQ 40.234375 -1.421875 26.90625 -1.421875 \nQ 22.3125 -1.421875 17.546875 -0.640625 \nQ 12.796875 0.140625 7.71875 1.703125 \nL 7.71875 11.625 \nQ 12.109375 9.234375 16.796875 8.0625 \nQ 21.484375 6.890625 26.703125 6.890625 \nQ 35.15625 6.890625 40.078125 11.328125 \nQ 45.015625 15.765625 45.015625 23.390625 \nQ 45.015625 31 40.078125 35.4375 \nQ 35.15625 39.890625 26.703125 39.890625 \nQ 22.75 39.890625 18.8125 39.015625 \nQ 14.890625 38.140625 10.796875 36.28125 \nz\n\" id=\"DejaVuSans-53\"/>\n       </defs>\n       <use xlink:href=\"#DejaVuSans-50\"/>\n       <use x=\"63.623047\" xlink:href=\"#DejaVuSans-53\"/>\n       <use x=\"127.246094\" xlink:href=\"#DejaVuSans-48\"/>\n      </g>\n     </g>\n    </g>\n    <g id=\"ytick_3\">\n     <g id=\"line2d_57\">\n      <path clip-path=\"url(#p347fdcd624)\" d=\"M 53.328125 159.011094 \nL 388.128125 159.011094 \n\" style=\"fill:none;stroke:#c0c0c0;stroke-linecap:square;stroke-width:0.8;\"/>\n     </g>\n     <g id=\"line2d_58\">\n      <g>\n       <use style=\"stroke:#000000;stroke-width:0.8;\" x=\"53.328125\" xlink:href=\"#m794ef85cfe\" y=\"159.011094\"/>\n      </g>\n     </g>\n     <g id=\"text_30\">\n      <!-- 500 -->\n      <g transform=\"translate(27.240625 162.810312)scale(0.1 -0.1)\">\n       <use xlink:href=\"#DejaVuSans-53\"/>\n       <use x=\"63.623047\" xlink:href=\"#DejaVuSans-48\"/>\n       <use x=\"127.246094\" xlink:href=\"#DejaVuSans-48\"/>\n      </g>\n     </g>\n    </g>\n    <g id=\"ytick_4\">\n     <g id=\"line2d_59\">\n      <path clip-path=\"url(#p347fdcd624)\" d=\"M 53.328125 131.138459 \nL 388.128125 131.138459 \n\" style=\"fill:none;stroke:#c0c0c0;stroke-linecap:square;stroke-width:0.8;\"/>\n     </g>\n     <g id=\"line2d_60\">\n      <g>\n       <use style=\"stroke:#000000;stroke-width:0.8;\" x=\"53.328125\" xlink:href=\"#m794ef85cfe\" y=\"131.138459\"/>\n      </g>\n     </g>\n     <g id=\"text_31\">\n      <!-- 750 -->\n      <g transform=\"translate(27.240625 134.937677)scale(0.1 -0.1)\">\n       <defs>\n        <path d=\"M 8.203125 72.90625 \nL 55.078125 72.90625 \nL 55.078125 68.703125 \nL 28.609375 0 \nL 18.3125 0 \nL 43.21875 64.59375 \nL 8.203125 64.59375 \nz\n\" id=\"DejaVuSans-55\"/>\n       </defs>\n       <use xlink:href=\"#DejaVuSans-55\"/>\n       <use x=\"63.623047\" xlink:href=\"#DejaVuSans-53\"/>\n       <use x=\"127.246094\" xlink:href=\"#DejaVuSans-48\"/>\n      </g>\n     </g>\n    </g>\n    <g id=\"ytick_5\">\n     <g id=\"line2d_61\">\n      <path clip-path=\"url(#p347fdcd624)\" d=\"M 53.328125 103.265824 \nL 388.128125 103.265824 \n\" style=\"fill:none;stroke:#c0c0c0;stroke-linecap:square;stroke-width:0.8;\"/>\n     </g>\n     <g id=\"line2d_62\">\n      <g>\n       <use style=\"stroke:#000000;stroke-width:0.8;\" x=\"53.328125\" xlink:href=\"#m794ef85cfe\" y=\"103.265824\"/>\n      </g>\n     </g>\n     <g id=\"text_32\">\n      <!-- 1000 -->\n      <g transform=\"translate(20.878125 107.065042)scale(0.1 -0.1)\">\n       <defs>\n        <path d=\"M 12.40625 8.296875 \nL 28.515625 8.296875 \nL 28.515625 63.921875 \nL 10.984375 60.40625 \nL 10.984375 69.390625 \nL 28.421875 72.90625 \nL 38.28125 72.90625 \nL 38.28125 8.296875 \nL 54.390625 8.296875 \nL 54.390625 0 \nL 12.40625 0 \nz\n\" id=\"DejaVuSans-49\"/>\n       </defs>\n       <use xlink:href=\"#DejaVuSans-49\"/>\n       <use x=\"63.623047\" xlink:href=\"#DejaVuSans-48\"/>\n       <use x=\"127.246094\" xlink:href=\"#DejaVuSans-48\"/>\n       <use x=\"190.869141\" xlink:href=\"#DejaVuSans-48\"/>\n      </g>\n     </g>\n    </g>\n    <g id=\"ytick_6\">\n     <g id=\"line2d_63\">\n      <path clip-path=\"url(#p347fdcd624)\" d=\"M 53.328125 75.393189 \nL 388.128125 75.393189 \n\" style=\"fill:none;stroke:#c0c0c0;stroke-linecap:square;stroke-width:0.8;\"/>\n     </g>\n     <g id=\"line2d_64\">\n      <g>\n       <use style=\"stroke:#000000;stroke-width:0.8;\" x=\"53.328125\" xlink:href=\"#m794ef85cfe\" y=\"75.393189\"/>\n      </g>\n     </g>\n     <g id=\"text_33\">\n      <!-- 1250 -->\n      <g transform=\"translate(20.878125 79.192407)scale(0.1 -0.1)\">\n       <use xlink:href=\"#DejaVuSans-49\"/>\n       <use x=\"63.623047\" xlink:href=\"#DejaVuSans-50\"/>\n       <use x=\"127.246094\" xlink:href=\"#DejaVuSans-53\"/>\n       <use x=\"190.869141\" xlink:href=\"#DejaVuSans-48\"/>\n      </g>\n     </g>\n    </g>\n    <g id=\"ytick_7\">\n     <g id=\"line2d_65\">\n      <path clip-path=\"url(#p347fdcd624)\" d=\"M 53.328125 47.520554 \nL 388.128125 47.520554 \n\" style=\"fill:none;stroke:#c0c0c0;stroke-linecap:square;stroke-width:0.8;\"/>\n     </g>\n     <g id=\"line2d_66\">\n      <g>\n       <use style=\"stroke:#000000;stroke-width:0.8;\" x=\"53.328125\" xlink:href=\"#m794ef85cfe\" y=\"47.520554\"/>\n      </g>\n     </g>\n     <g id=\"text_34\">\n      <!-- 1500 -->\n      <g transform=\"translate(20.878125 51.319773)scale(0.1 -0.1)\">\n       <use xlink:href=\"#DejaVuSans-49\"/>\n       <use x=\"63.623047\" xlink:href=\"#DejaVuSans-53\"/>\n       <use x=\"127.246094\" xlink:href=\"#DejaVuSans-48\"/>\n       <use x=\"190.869141\" xlink:href=\"#DejaVuSans-48\"/>\n      </g>\n     </g>\n    </g>\n    <g id=\"ytick_8\">\n     <g id=\"line2d_67\">\n      <path clip-path=\"url(#p347fdcd624)\" d=\"M 53.328125 19.647919 \nL 388.128125 19.647919 \n\" style=\"fill:none;stroke:#c0c0c0;stroke-linecap:square;stroke-width:0.8;\"/>\n     </g>\n     <g id=\"line2d_68\">\n      <g>\n       <use style=\"stroke:#000000;stroke-width:0.8;\" x=\"53.328125\" xlink:href=\"#m794ef85cfe\" y=\"19.647919\"/>\n      </g>\n     </g>\n     <g id=\"text_35\">\n      <!-- 1750 -->\n      <g transform=\"translate(20.878125 23.447138)scale(0.1 -0.1)\">\n       <use xlink:href=\"#DejaVuSans-49\"/>\n       <use x=\"63.623047\" xlink:href=\"#DejaVuSans-55\"/>\n       <use x=\"127.246094\" xlink:href=\"#DejaVuSans-53\"/>\n       <use x=\"190.869141\" xlink:href=\"#DejaVuSans-48\"/>\n      </g>\n     </g>\n    </g>\n    <g id=\"text_36\">\n     <!-- Counts -->\n     <g transform=\"translate(14.798438 133.373125)rotate(-90)scale(0.1 -0.1)\">\n      <defs>\n       <path d=\"M 64.40625 67.28125 \nL 64.40625 56.890625 \nQ 59.421875 61.53125 53.78125 63.8125 \nQ 48.140625 66.109375 41.796875 66.109375 \nQ 29.296875 66.109375 22.65625 58.46875 \nQ 16.015625 50.828125 16.015625 36.375 \nQ 16.015625 21.96875 22.65625 14.328125 \nQ 29.296875 6.6875 41.796875 6.6875 \nQ 48.140625 6.6875 53.78125 8.984375 \nQ 59.421875 11.28125 64.40625 15.921875 \nL 64.40625 5.609375 \nQ 59.234375 2.09375 53.4375 0.328125 \nQ 47.65625 -1.421875 41.21875 -1.421875 \nQ 24.65625 -1.421875 15.125 8.703125 \nQ 5.609375 18.84375 5.609375 36.375 \nQ 5.609375 53.953125 15.125 64.078125 \nQ 24.65625 74.21875 41.21875 74.21875 \nQ 47.75 74.21875 53.53125 72.484375 \nQ 59.328125 70.75 64.40625 67.28125 \nz\n\" id=\"DejaVuSans-67\"/>\n      </defs>\n      <use xlink:href=\"#DejaVuSans-67\"/>\n      <use x=\"69.824219\" xlink:href=\"#DejaVuSans-111\"/>\n      <use x=\"131.005859\" xlink:href=\"#DejaVuSans-117\"/>\n      <use x=\"194.384766\" xlink:href=\"#DejaVuSans-110\"/>\n      <use x=\"257.763672\" xlink:href=\"#DejaVuSans-116\"/>\n      <use x=\"296.972656\" xlink:href=\"#DejaVuSans-115\"/>\n     </g>\n    </g>\n   </g>\n   <g id=\"line2d_69\">\n    <path clip-path=\"url(#p347fdcd624)\" d=\"M 68.546307 214.644873 \nL 80.720852 17.083636 \nL 92.895398 213.752949 \nL 105.069943 214.756364 \nL 117.244489 210.408233 \nL 129.419034 55.10191 \nL 141.59358 214.533383 \nL 153.768125 213.641458 \nL 165.94267 203.049857 \nL 178.117216 179.413862 \nL 190.291761 214.644873 \nL 202.466307 214.421892 \nL 214.640852 194.799557 \nL 226.815398 213.306987 \nL 238.989943 171.721015 \nL 251.164489 211.077176 \nL 263.339034 214.533383 \nL 275.51358 209.516308 \nL 287.688125 204.387743 \nL 299.86267 207.175007 \nL 312.037216 214.08742 \nL 324.211761 214.533383 \nL 336.386307 214.198911 \nL 348.560852 213.641458 \nL 360.735398 163.359225 \nL 372.909943 214.310401 \n\" style=\"fill:none;stroke:#1f77b4;stroke-linecap:square;stroke-width:2;\"/>\n   </g>\n   <g id=\"line2d_70\">\n    <path clip-path=\"url(#p347fdcd624)\" d=\"M 68.546307 214.756364 \nL 80.720852 211.523138 \nL 92.895398 212.415062 \nL 105.069943 211.9691 \nL 117.244489 189.336521 \nL 129.419034 162.578791 \nL 141.59358 211.9691 \nL 153.768125 211.188666 \nL 165.94267 204.387743 \nL 178.117216 209.181837 \nL 190.291761 214.421892 \nL 202.466307 207.063516 \nL 214.640852 193.907633 \nL 226.815398 206.952026 \nL 238.989943 161.463886 \nL 251.164489 196.360425 \nL 263.339034 212.749534 \nL 275.51358 193.573161 \nL 287.688125 189.113539 \nL 299.86267 196.471915 \nL 312.037216 213.418477 \nL 324.211761 212.972515 \nL 336.386307 212.861024 \nL 348.560852 213.641458 \nL 360.735398 177.741504 \nL 372.909943 213.529968 \n\" style=\"fill:none;stroke:#ff7f0e;stroke-linecap:square;stroke-width:2;\"/>\n   </g>\n   <g id=\"patch_3\">\n    <path d=\"M 53.328125 224.64 \nL 53.328125 7.2 \n\" style=\"fill:none;stroke:#000000;stroke-linecap:square;stroke-linejoin:miter;stroke-width:0.8;\"/>\n   </g>\n   <g id=\"patch_4\">\n    <path d=\"M 388.128125 224.64 \nL 388.128125 7.2 \n\" style=\"fill:none;stroke:#000000;stroke-linecap:square;stroke-linejoin:miter;stroke-width:0.8;\"/>\n   </g>\n   <g id=\"patch_5\">\n    <path d=\"M 53.328125 224.64 \nL 388.128125 224.64 \n\" style=\"fill:none;stroke:#000000;stroke-linecap:square;stroke-linejoin:miter;stroke-width:0.8;\"/>\n   </g>\n   <g id=\"patch_6\">\n    <path d=\"M 53.328125 7.2 \nL 388.128125 7.2 \n\" style=\"fill:none;stroke:#000000;stroke-linecap:square;stroke-linejoin:miter;stroke-width:0.8;\"/>\n   </g>\n   <g id=\"legend_1\">\n    <g id=\"patch_7\">\n     <path d=\"M 297.717188 44.55625 \nL 381.128125 44.55625 \nQ 383.128125 44.55625 383.128125 42.55625 \nL 383.128125 14.2 \nQ 383.128125 12.2 381.128125 12.2 \nL 297.717188 12.2 \nQ 295.717188 12.2 295.717188 14.2 \nL 295.717188 42.55625 \nQ 295.717188 44.55625 297.717188 44.55625 \nz\n\" style=\"fill:#ffffff;opacity:0.8;stroke:#cccccc;stroke-linejoin:miter;\"/>\n    </g>\n    <g id=\"line2d_71\">\n     <path d=\"M 299.717188 20.298437 \nL 319.717188 20.298437 \n\" style=\"fill:none;stroke:#1f77b4;stroke-linecap:square;stroke-width:2;\"/>\n    </g>\n    <g id=\"line2d_72\"/>\n    <g id=\"text_37\">\n     <!-- female.txt -->\n     <g transform=\"translate(327.717188 23.798437)scale(0.1 -0.1)\">\n      <defs>\n       <path d=\"M 10.6875 12.40625 \nL 21 12.40625 \nL 21 0 \nL 10.6875 0 \nz\n\" id=\"DejaVuSans-46\"/>\n      </defs>\n      <use xlink:href=\"#DejaVuSans-102\"/>\n      <use x=\"35.205078\" xlink:href=\"#DejaVuSans-101\"/>\n      <use x=\"96.728516\" xlink:href=\"#DejaVuSans-109\"/>\n      <use x=\"194.140625\" xlink:href=\"#DejaVuSans-97\"/>\n      <use x=\"255.419922\" xlink:href=\"#DejaVuSans-108\"/>\n      <use x=\"283.203125\" xlink:href=\"#DejaVuSans-101\"/>\n      <use x=\"344.726562\" xlink:href=\"#DejaVuSans-46\"/>\n      <use x=\"376.513672\" xlink:href=\"#DejaVuSans-116\"/>\n      <use x=\"415.722656\" xlink:href=\"#DejaVuSans-120\"/>\n      <use x=\"474.902344\" xlink:href=\"#DejaVuSans-116\"/>\n     </g>\n    </g>\n    <g id=\"line2d_73\">\n     <path d=\"M 299.717188 34.976562 \nL 319.717188 34.976562 \n\" style=\"fill:none;stroke:#ff7f0e;stroke-linecap:square;stroke-width:2;\"/>\n    </g>\n    <g id=\"line2d_74\"/>\n    <g id=\"text_38\">\n     <!-- male.txt -->\n     <g transform=\"translate(327.717188 38.476562)scale(0.1 -0.1)\">\n      <use xlink:href=\"#DejaVuSans-109\"/>\n      <use x=\"97.412109\" xlink:href=\"#DejaVuSans-97\"/>\n      <use x=\"158.691406\" xlink:href=\"#DejaVuSans-108\"/>\n      <use x=\"186.474609\" xlink:href=\"#DejaVuSans-101\"/>\n      <use x=\"247.998047\" xlink:href=\"#DejaVuSans-46\"/>\n      <use x=\"279.785156\" xlink:href=\"#DejaVuSans-116\"/>\n      <use x=\"318.994141\" xlink:href=\"#DejaVuSans-120\"/>\n      <use x=\"378.173828\" xlink:href=\"#DejaVuSans-116\"/>\n     </g>\n    </g>\n   </g>\n  </g>\n </g>\n <defs>\n  <clipPath id=\"p347fdcd624\">\n   <rect height=\"217.44\" width=\"334.8\" x=\"53.328125\" y=\"7.2\"/>\n  </clipPath>\n </defs>\n</svg>\n",
            "image/png": "[encoded data removed]"
          },
          "metadata": {
            "tags": [],
            "needs_background": "light"
          }
        },
        {
          "output_type": "execute_result",
          "data": {
            "text/plain": [
              "<AxesSubplot:xlabel='Samples', ylabel='Counts'>"
            ]
          },
          "metadata": {
            "tags": []
          },
          "execution_count": 3
        }
      ]
    },
    {
      "cell_type": "markdown",
      "metadata": {
        "id": "GKTCnXVtulTM"
      },
      "source": [
        "### **Feature extractor functions**\n",
        "Let's build a classifier to model these differences more precisely. The first step in creating a classifier is deciding what features of the input are relevant, and how to encode those features. For this example, we'll start by just looking at the final letter of a given name.\n",
        "\n",
        "The following feature extractors function builds a dictionary containing relevant information about a given name"
      ]
    },
    {
      "cell_type": "code",
      "metadata": {
        "id": "XkqwZA97-kco"
      },
      "source": [
        "from typing import Dict, Any\n",
        "# feature extractor 1\n",
        "def gender_features(word: str) -> Dict[str, Any]:\n",
        "  return {'last_letter': word[-1]}\n",
        "\n",
        "# feature extractor 2\n",
        "def gender_features2(name: str) -> Dict[str, Any]:\n",
        "    features = {}\n",
        "    features[\"first_letter\"] = name[0].lower()\n",
        "    features[\"last_letter\"] = name[-1].lower()\n",
        "    for letter in 'abcdefghijklmnopqrstuvwxyz':\n",
        "        features[\"count({})\".format(letter)] = name.lower().count(letter)\n",
        "        features[\"has({})\".format(letter)] = (letter in name.lower())\n",
        "    return features\n",
        "\n",
        "# feature extractor 3\n",
        "def gender_features3(word: str) -> Dict[str, Any]:\n",
        "  return {'suffix1': word[-1:], 'suffix2': word[-2:]}"
      ],
      "execution_count": null,
      "outputs": []
    },
    {
      "cell_type": "markdown",
      "metadata": {
        "id": "mG4qDaRuLg04"
      },
      "source": [
        "### **Compiling the training instances**"
      ]
    },
    {
      "cell_type": "code",
      "metadata": {
        "id": "tkva_riO-kZh"
      },
      "source": [
        "# Building the training instances\n",
        "labeled_names = ([(name, 'male') for name in names.words('male.txt')] \n",
        "                 + [(name, 'female') for name in names.words('female.txt')])\n",
        "random.shuffle(labeled_names)\n",
        "# len(labeled_names)"
      ],
      "execution_count": null,
      "outputs": []
    },
    {
      "cell_type": "markdown",
      "metadata": {
        "id": "o6O8QNZlKnLl"
      },
      "source": [
        "### **Train-DevTest-Test Split**"
      ]
    },
    {
      "cell_type": "code",
      "metadata": {
        "id": "M51A2vI48Mj3",
        "tags": [],
        "outputId": "09008744-e09b-4b96-8548-8cd5d5e9b20b"
      },
      "source": [
        "# train-devtest-test split\n",
        "train_names = labeled_names[1500:]\n",
        "devtest_names = labeled_names[500:1500]\n",
        "test_names = labeled_names[:500]\n",
        "print(len(train_names), len(devtest_names), len(test_names))"
      ],
      "execution_count": null,
      "outputs": [
        {
          "output_type": "stream",
          "text": [
            "6444 1000 500\n"
          ],
          "name": "stdout"
        }
      ]
    },
    {
      "cell_type": "markdown",
      "metadata": {
        "id": "JLRZLY_mKbcB"
      },
      "source": [
        "### **Extracting the features**"
      ]
    },
    {
      "cell_type": "code",
      "metadata": {
        "id": "_CxljUFP9LgE"
      },
      "source": [
        "# Extracting the features\n",
        "train_set = [(gender_features(n), gender) for (n, gender) in train_names]\n",
        "devtest_set = [(gender_features(n), gender) for (n, gender) in devtest_names]\n",
        "test_set = [(gender_features(n), gender) for (n, gender) in test_names]"
      ],
      "execution_count": null,
      "outputs": []
    },
    {
      "cell_type": "markdown",
      "metadata": {
        "id": "2bEVZPNBKOat"
      },
      "source": [
        "### **Training and Testing the Classifier**"
      ]
    },
    {
      "cell_type": "code",
      "metadata": {
        "id": "B9_KWPJQ6JHI",
        "tags": [],
        "outputId": "3f15110d-0acf-42e2-a4b2-e3cd0b39b6c8"
      },
      "source": [
        "# Training the classifier\n",
        "random.shuffle(train_set)\n",
        "classifier = nltk.NaiveBayesClassifier.train(train_set)\n",
        "\n",
        "# apply the classifier to the development test\n",
        "print(\"Accuracy = \", nltk.classify.accuracy(classifier, devtest_set))"
      ],
      "execution_count": null,
      "outputs": [
        {
          "output_type": "stream",
          "text": [
            "Accuracy =  0.772\n"
          ],
          "name": "stdout"
        }
      ]
    },
    {
      "cell_type": "markdown",
      "metadata": {
        "id": "AN8fWZAtHbh4"
      },
      "source": [
        "### **Building the Error List**"
      ]
    },
    {
      "cell_type": "code",
      "metadata": {
        "id": "sn3_5EZr90tR"
      },
      "source": [
        "# error analysis\n",
        "errors = []\n",
        "for (name, tag) in devtest_names:\n",
        "  guess = classifier.classify(gender_features(name))\n",
        "  if guess != tag:\n",
        "    errors.append((tag, guess, name))"
      ],
      "execution_count": null,
      "outputs": []
    },
    {
      "cell_type": "markdown",
      "metadata": {
        "id": "MnD217e5HKMA"
      },
      "source": [
        "### **Show errors**"
      ]
    },
    {
      "cell_type": "code",
      "metadata": {
        "id": "-N_Md01I-ZNK",
        "tags": [],
        "outputId": "a235fb84-b2b7-40a3-ec9c-4fdb50b5fe9c"
      },
      "source": [
        "# Error list\n",
        "print(\"Errors:\", len(errors))\n",
        "for (tag, guess, name) in sorted(errors[:20]):\n",
        "  print('correct={:<8} guess={:<8s} name={:<30}'.format(tag, guess, name))"
      ],
      "execution_count": null,
      "outputs": [
        {
          "output_type": "stream",
          "text": [
            "Errors: 228\n",
            "correct=female   guess=male     name=Aeriel                        \n",
            "correct=female   guess=male     name=Beatrix                       \n",
            "correct=female   guess=male     name=Bell                          \n",
            "correct=female   guess=male     name=Blondell                      \n",
            "correct=female   guess=male     name=Dolores                       \n",
            "correct=female   guess=male     name=Greer                         \n",
            "correct=female   guess=male     name=Jesselyn                      \n",
            "correct=female   guess=male     name=Marj                          \n",
            "correct=female   guess=male     name=Suzann                        \n",
            "correct=male     guess=female   name=Alfonse                       \n",
            "correct=male     guess=female   name=Amery                         \n",
            "correct=male     guess=female   name=Barny                         \n",
            "correct=male     guess=female   name=Blayne                        \n",
            "correct=male     guess=female   name=Davy                          \n",
            "correct=male     guess=female   name=Huntley                       \n",
            "correct=male     guess=female   name=Meredeth                      \n",
            "correct=male     guess=female   name=Ritch                         \n",
            "correct=male     guess=female   name=Rodney                        \n",
            "correct=male     guess=female   name=Rufe                          \n",
            "correct=male     guess=female   name=Sunny                         \n"
          ],
          "name": "stdout"
        }
      ]
    },
    {
      "cell_type": "markdown",
      "metadata": {
        "id": "GQlZcaUpGrBd"
      },
      "source": [
        "### **Most informative features**"
      ]
    },
    {
      "cell_type": "code",
      "metadata": {
        "id": "MRZxc8u7-hOX",
        "tags": [],
        "outputId": "7c1b0953-2a3a-4c73-917f-a75fb57b7807"
      },
      "source": [
        "# Most informative features\n",
        "classifier.show_most_informative_features(10)"
      ],
      "execution_count": null,
      "outputs": [
        {
          "output_type": "stream",
          "text": [
            "Most Informative Features\n",
            "             last_letter = 'a'            female : male   =     34.7 : 1.0\n",
            "             last_letter = 'k'              male : female =     25.6 : 1.0\n",
            "             last_letter = 'f'              male : female =     23.5 : 1.0\n",
            "             last_letter = 'v'              male : female =     15.9 : 1.0\n",
            "             last_letter = 'm'              male : female =     13.7 : 1.0\n",
            "             last_letter = 'p'              male : female =     10.2 : 1.0\n",
            "             last_letter = 'd'              male : female =      9.0 : 1.0\n",
            "             last_letter = 'o'              male : female =      7.8 : 1.0\n",
            "             last_letter = 'g'              male : female =      6.7 : 1.0\n",
            "             last_letter = 'r'              male : female =      6.5 : 1.0\n"
          ],
          "name": "stdout"
        }
      ]
    },
    {
      "cell_type": "markdown",
      "metadata": {
        "id": "hFRN2Gf_GQPM"
      },
      "source": [
        "### **Classifying other names**"
      ]
    },
    {
      "cell_type": "code",
      "metadata": {
        "id": "K3dAeUx_-kTe",
        "tags": [],
        "outputId": "b401ec41-49bf-48a2-a24b-02ea9cffd17d"
      },
      "source": [
        "print(classifier.classify(gender_features('Neo')))\n",
        "# Output: 'male'\n",
        "print(classifier.classify(gender_features('Trinity')))\n",
        "# Output: 'female'"
      ],
      "execution_count": null,
      "outputs": [
        {
          "output_type": "stream",
          "text": [
            "male\n",
            "female\n"
          ],
          "name": "stdout"
        }
      ]
    },
    {
      "cell_type": "markdown",
      "metadata": {
        "id": "0O9VhNdMFM0o"
      },
      "source": [
        "### **Classifying your name**"
      ]
    },
    {
      "cell_type": "code",
      "metadata": {
        "id": "Et4DTQyRFN9F"
      },
      "source": [
        "## Uncomment and modify below to classify your name with your best classifier\n",
        "# print(classifier.classify(gender_features(<your name>))) #remember to change your "
      ],
      "execution_count": null,
      "outputs": []
    },
    {
      "cell_type": "markdown",
      "metadata": {
        "id": "R-6SwAlzXzJH"
      },
      "source": [
        "## **Task 1**\n",
        "\n",
        "Write a code that trains three different classifiers (`classifier1`, `classifier2` and `classifier3`) using the three feature extractor functions defined above `gender_features()`, `gender_features2()` and `gender_features3()`.\n",
        "\n",
        "1. Apply the the three classifiers to the `dev_test` and for each report the *percentage accuracy*, *error count*, *error list*.  **Which of the feature extraction methods performed best on classifying the `dev_test`? Can you explain why?**\n",
        "\n",
        "2. Apply the best performing classfier to the `test_set`. **What is the classification accuracy, error list?**\n",
        "\n",
        "3. Modify your feature extractor or any part of the code to see if you can improve the accuracy score?"
      ]
    },
    {
      "cell_type": "code",
      "metadata": {
        "id": "FVGFx12KbM8-",
        "tags": [],
        "outputId": "9b927d69-63a4-4b36-fe6f-d0f142faef9e"
      },
      "source": [
        "from typing import List, Tuple, Callable, Dict, Any\n",
        "from nltk.classify.naivebayes import NaiveBayesClassifier\n",
        "\n",
        "def create_error_list(classifier: NaiveBayesClassifier, \n",
        "                      feature_callable: Callable[[str], Dict[str, Any]], \n",
        "                      evaluation_dataset: List[Tuple[str, str]]) -> List[Tuple[str, str, str]]:\n",
        "    '''\n",
        "    :param classifier: A trained classifier\n",
        "    :param feature_callable: Converts the raw input data into features\n",
        "                             that the classifier uses as input.\n",
        "    :param evaluation_dataset: Dataset for the classifier to be tested \n",
        "                               against.\n",
        "    :returns: A list of errors that the classifier got wrong on the \n",
        "              given evaluation dataset. Each Tuple in the List contains:\n",
        "              (true label, predicted label, input data for that label)\n",
        "    '''\n",
        "    error_list = []\n",
        "    for (data, label) in evaluation_dataset:\n",
        "        prediction = classifier.classify(feature_callable(data))\n",
        "        if prediction != label:\n",
        "            error_list.append((label, prediction, data))\n",
        "    return error_list\n",
        "\n",
        "def train_classifier(feature_callable: Callable[[str], Dict[str, Any]], \n",
        "                     train_dataset: List[Tuple[str, str]]) -> NaiveBayesClassifier:\n",
        "    '''\n",
        "    :param feature_callable: Converts the raw input data into features\n",
        "                             that a Naive Bayes classifier can use as input.\n",
        "    :param train_dataset: Dataset to train a Naive Bayes classifier on.\n",
        "    :returns: A Naive Bayes classifier trained on the given dataset using \n",
        "              the feature callable to create features from the data as \n",
        "              input to the classifier.\n",
        "    '''\n",
        "    train_feature_set = [(feature_callable(data), label) for (data, label) in train_dataset]\n",
        "    return nltk.NaiveBayesClassifier.train(train_feature_set)\n",
        "\n",
        "def evaluate_classifier(classifier: NaiveBayesClassifier, \n",
        "                        feature_callable: Callable[[str], Dict[str, Any]], \n",
        "                        evaluation_dataset: List[Tuple[str, str]]\n",
        "                        ) -> Tuple[float, List[Tuple[str, str, str]]]:\n",
        "    '''\n",
        "    :param classifier: A trained classifier\n",
        "    :param feature_callable: Converts the raw input data into features\n",
        "                             that the classifier uses as input.\n",
        "    :param evaluation_dataset: Dataset for the classifier to be tested \n",
        "                               against.\n",
        "    :returns: The accuracy on the evaluation dataset and a list of errors \n",
        "              that the classifier got wrong on the given evaluation dataset,\n",
        "              whereby each Tuple in the list of errors contains:\n",
        "              (true label, predicted label, input data for that label)\n",
        "    '''\n",
        "    eval_feature_set = [(feature_callable(data), label) for (data, label) in evaluation_dataset]\n",
        "    evaluation_accruacy = nltk.classify.accuracy(classifier, eval_feature_set)\n",
        "    error_list = create_error_list(classifier, feature_callable, evaluation_dataset) \n",
        "    return evaluation_accruacy, error_list\n",
        "\n",
        "def report_evaluation_results(classifier: NaiveBayesClassifier,\n",
        "                              accuracy_score: float,\n",
        "                              error_list: List[Tuple[str, str, str]],\n",
        "                              name_of_evaluation_dataset: str = 'Dev',\n",
        "                              n_errors_to_list: int = 10,\n",
        "                              k_features: int = 20) -> None:\n",
        "    '''\n",
        "    :param classifier: A trained classifier\n",
        "    :param accuracy_score: The accuracy score from the classifier being applied \n",
        "                           to an evaluation dataset.\n",
        "    :param error_list: List of errrors that the classifier got wrong on a given \n",
        "                       evaluation dataset.\n",
        "    :param name_of_evaluation_dataset: Name of the evaluation dataset.\n",
        "    :param n_errors_to_list: First **n** number of errors to list/print\n",
        "    :returns: Nothing. But prints the accuracy score, the first **n** errors \n",
        "              in the error list, the number of errors, and the top \n",
        "              **k** most informative features.\n",
        "    '''\n",
        "    print(f'{name_of_evaluation_dataset} Accuracy: {accuracy_score}')\n",
        "    print(f'The first {n_errors_to_list} errors on the '\n",
        "          f'{name_of_evaluation_dataset} dataset:')\n",
        "    for error in error_list[:n_errors_to_list]:\n",
        "        print(error)\n",
        "    print(f'Total number of errors on the {name_of_evaluation_dataset} '\n",
        "          f'dataset: {len(error_list)}')\n",
        "    print(f'{classifier.show_most_informative_features(k_features)}')\n",
        "    return None\n",
        "\n",
        "feature_set_callables = [gender_features, gender_features2, gender_features3]\n",
        "trained_classifiers: List[NaiveBayesClassifier] = []\n",
        "\n",
        "for index, feature_set_callable in enumerate(feature_set_callables):\n",
        "    print(f'Feature set {index + 1}')\n",
        "    trained_classifier = train_classifier(feature_set_callable, train_names)\n",
        "    dev_accuracy, dev_errors = evaluate_classifier(trained_classifier, \n",
        "                                                   feature_set_callable, \n",
        "                                                   devtest_names)\n",
        "    report_evaluation_results(trained_classifier, dev_accuracy, dev_errors)\n",
        "    trained_classifiers.append(trained_classifier)"
      ],
      "execution_count": null,
      "outputs": [
        {
          "output_type": "stream",
          "text": [
            "Feature set 1\n",
            "Dev Accuracy: 0.772\n",
            "The first 10 errors on the Dev dataset:\n",
            "('male', 'female', 'Huntley')\n",
            "('female', 'male', 'Jesselyn')\n",
            "('male', 'female', 'Barny')\n",
            "('male', 'female', 'Rodney')\n",
            "('female', 'male', 'Dolores')\n",
            "('male', 'female', 'Alfonse')\n",
            "('male', 'female', 'Blayne')\n",
            "('female', 'male', 'Bell')\n",
            "('male', 'female', 'Rufe')\n",
            "('male', 'female', 'Amery')\n",
            "Total number of errors on the Dev dataset: 228\n",
            "Most Informative Features\n",
            "             last_letter = 'a'            female : male   =     34.7 : 1.0\n",
            "             last_letter = 'k'              male : female =     25.6 : 1.0\n",
            "             last_letter = 'f'              male : female =     23.5 : 1.0\n",
            "             last_letter = 'v'              male : female =     15.9 : 1.0\n",
            "             last_letter = 'm'              male : female =     13.7 : 1.0\n",
            "             last_letter = 'p'              male : female =     10.2 : 1.0\n",
            "             last_letter = 'd'              male : female =      9.0 : 1.0\n",
            "             last_letter = 'o'              male : female =      7.8 : 1.0\n",
            "             last_letter = 'g'              male : female =      6.7 : 1.0\n",
            "             last_letter = 'r'              male : female =      6.5 : 1.0\n",
            "             last_letter = 'w'              male : female =      5.3 : 1.0\n",
            "             last_letter = 'u'              male : female =      4.9 : 1.0\n",
            "             last_letter = 's'              male : female =      4.0 : 1.0\n",
            "             last_letter = 't'              male : female =      4.0 : 1.0\n",
            "             last_letter = 'i'            female : male   =      3.8 : 1.0\n",
            "             last_letter = 'b'              male : female =      3.6 : 1.0\n",
            "             last_letter = 'z'              male : female =      3.5 : 1.0\n",
            "             last_letter = 'x'              male : female =      2.8 : 1.0\n",
            "             last_letter = 'n'              male : female =      2.1 : 1.0\n",
            "             last_letter = 'e'            female : male   =      1.8 : 1.0\n",
            "None\n",
            "Feature set 2\n",
            "Dev Accuracy: 0.783\n",
            "The first 10 errors on the Dev dataset:\n",
            "('female', 'male', 'Rochette')\n",
            "('male', 'female', 'Kalman')\n",
            "('male', 'female', 'Daniel')\n",
            "('male', 'female', 'Barny')\n",
            "('male', 'female', 'Adrien')\n",
            "('female', 'male', 'Dolores')\n",
            "('male', 'female', 'Alfonse')\n",
            "('female', 'male', 'Toby')\n",
            "('male', 'female', 'Blayne')\n",
            "('female', 'male', 'Tootsie')\n",
            "Total number of errors on the Dev dataset: 217\n",
            "Most Informative Features\n",
            "             last_letter = 'a'            female : male   =     34.7 : 1.0\n",
            "             last_letter = 'k'              male : female =     25.6 : 1.0\n",
            "             last_letter = 'f'              male : female =     23.5 : 1.0\n",
            "             last_letter = 'v'              male : female =     15.9 : 1.0\n",
            "             last_letter = 'm'              male : female =     13.7 : 1.0\n",
            "             last_letter = 'p'              male : female =     10.2 : 1.0\n",
            "             last_letter = 'd'              male : female =      9.0 : 1.0\n",
            "             last_letter = 'o'              male : female =      7.8 : 1.0\n",
            "                count(v) = 2              female : male   =      7.1 : 1.0\n",
            "             last_letter = 'g'              male : female =      6.7 : 1.0\n",
            "             last_letter = 'r'              male : female =      6.5 : 1.0\n",
            "                count(a) = 3              female : male   =      5.6 : 1.0\n",
            "            first_letter = 'w'              male : female =      5.4 : 1.0\n",
            "             last_letter = 'w'              male : female =      5.3 : 1.0\n",
            "             last_letter = 'u'              male : female =      4.9 : 1.0\n",
            "                count(w) = 1                male : female =      4.6 : 1.0\n",
            "                  has(w) = True             male : female =      4.6 : 1.0\n",
            "                count(o) = 2                male : female =      4.1 : 1.0\n",
            "             last_letter = 's'              male : female =      4.0 : 1.0\n",
            "             last_letter = 't'              male : female =      4.0 : 1.0\n",
            "None\n",
            "Feature set 3\n",
            "Dev Accuracy: 0.798\n",
            "The first 10 errors on the Dev dataset:\n",
            "('male', 'female', 'Huntley')\n",
            "('female', 'male', 'Kirby')\n",
            "('male', 'female', 'Barny')\n",
            "('male', 'female', 'Rodney')\n",
            "('female', 'male', 'Dolores')\n",
            "('male', 'female', 'Alfonse')\n",
            "('female', 'male', 'Toby')\n",
            "('male', 'female', 'Blayne')\n",
            "('female', 'male', 'Bell')\n",
            "('male', 'female', 'Amery')\n",
            "Total number of errors on the Dev dataset: 202\n",
            "Most Informative Features\n",
            "                 suffix2 = 'na'           female : male   =     90.7 : 1.0\n",
            "                 suffix2 = 'la'           female : male   =     63.1 : 1.0\n",
            "                 suffix2 = 'rt'             male : female =     45.7 : 1.0\n",
            "                 suffix2 = 'ia'           female : male   =     35.0 : 1.0\n",
            "                 suffix1 = 'a'            female : male   =     34.7 : 1.0\n",
            "                 suffix2 = 'ld'             male : female =     32.8 : 1.0\n",
            "                 suffix2 = 'ra'           female : male   =     29.7 : 1.0\n",
            "                 suffix2 = 'sa'           female : male   =     29.6 : 1.0\n",
            "                 suffix1 = 'k'              male : female =     25.6 : 1.0\n",
            "                 suffix2 = 'us'             male : female =     23.7 : 1.0\n",
            "                 suffix1 = 'f'              male : female =     23.5 : 1.0\n",
            "                 suffix2 = 'ta'           female : male   =     21.4 : 1.0\n",
            "                 suffix2 = 'rd'             male : female =     20.6 : 1.0\n",
            "                 suffix2 = 'do'             male : female =     17.7 : 1.0\n",
            "                 suffix2 = 'ch'             male : female =     16.7 : 1.0\n",
            "                 suffix2 = 'im'             male : female =     16.7 : 1.0\n",
            "                 suffix1 = 'v'              male : female =     15.9 : 1.0\n",
            "                 suffix2 = 'io'             male : female =     15.8 : 1.0\n",
            "                 suffix2 = 'os'             male : female =     15.6 : 1.0\n",
            "                 suffix1 = 'm'              male : female =     13.7 : 1.0\n",
            "None\n"
          ],
          "name": "stdout"
        }
      ]
    },
    {
      "cell_type": "markdown",
      "metadata": {
        "id": "eTsKxgBstFMb"
      },
      "source": [
        "We can see from the results above that the 3rd feature set was the best. Showing that using both the last letter and the last 2 letters of a person name is affective at predicting the gender of a name."
      ]
    },
    {
      "cell_type": "code",
      "metadata": {
        "id": "imSXltFlck4M",
        "tags": [],
        "outputId": "e621e3cb-d64b-436a-a68e-c05db5cfb63f"
      },
      "source": [
        "# Getting the classifier that was trained on the 3rd feature set \n",
        "# and evaluating it on the test set\n",
        "best_trained_classifier = trained_classifiers[-1]\n",
        "test_accuracy, _ = evaluate_classifier(best_trained_classifier, \n",
        "                                       gender_features3, \n",
        "                                       test_names)\n",
        "print(f'Test Accuracy: {test_accuracy}')"
      ],
      "execution_count": null,
      "outputs": [
        {
          "output_type": "stream",
          "text": [
            "Test Accuracy: 0.784\n"
          ],
          "name": "stdout"
        }
      ]
    },
    {
      "cell_type": "markdown",
      "metadata": {
        "id": "OkenpQ8CtFMi"
      },
      "source": [
        "As we found from the most informative features from the 2nd feature set on the development data above, the `count` features were fairly informative e.g. `count(v) = 2`. Thus we are going to combine the `count` features with the 3rd feature set to create a new feature set shown below:"
      ]
    },
    {
      "cell_type": "code",
      "metadata": {
        "id": "pWkYxTMFclEk",
        "tags": [],
        "outputId": "d1c2e2d9-7b66-4c4f-db1a-60f2d293e51a"
      },
      "source": [
        "# feature extractor 4\n",
        "def gender_features4(name: str) -> Dict[str, Any]:\n",
        "    features = {}\n",
        "    for letter in 'abcdefghijklmnopqrstuvwxyz':\n",
        "        features[\"count({})\".format(letter)] = name.lower().count(letter)\n",
        "    features['suffix1'] = name[-1].lower()\n",
        "    features['suffix2'] = name[-2:].lower()\n",
        "    return features\n",
        "trained_classifier = train_classifier(gender_features4, train_names)\n",
        "dev_accuracy, dev_errors = evaluate_classifier(trained_classifier, \n",
        "                                               gender_features4, \n",
        "                                               devtest_names)\n",
        "report_evaluation_results(trained_classifier, dev_accuracy, dev_errors, k_features=40)"
      ],
      "execution_count": null,
      "outputs": [
        {
          "output_type": "stream",
          "text": [
            "Dev Accuracy: 0.808\n",
            "The first 10 errors on the Dev dataset:\n",
            "('female', 'male', 'Kirby')\n",
            "('male', 'female', 'Kalman')\n",
            "('male', 'female', 'Daniel')\n",
            "('male', 'female', 'Barny')\n",
            "('male', 'female', 'Adrien')\n",
            "('female', 'male', 'Dolores')\n",
            "('male', 'female', 'Alfonse')\n",
            "('female', 'male', 'Toby')\n",
            "('male', 'female', 'Blayne')\n",
            "('female', 'male', 'Bell')\n",
            "Total number of errors on the Dev dataset: 192\n",
            "Most Informative Features\n",
            "                 suffix2 = 'na'           female : male   =     90.6 : 1.0\n",
            "                 suffix2 = 'la'           female : male   =     63.4 : 1.0\n",
            "                 suffix2 = 'rt'             male : female =     45.7 : 1.0\n",
            "                 suffix2 = 'ia'           female : male   =     35.0 : 1.0\n",
            "                 suffix1 = 'a'            female : male   =     34.7 : 1.0\n",
            "                 suffix2 = 'ld'             male : female =     32.8 : 1.0\n",
            "                 suffix2 = 'ra'           female : male   =     29.6 : 1.0\n",
            "                 suffix2 = 'sa'           female : male   =     29.5 : 1.0\n",
            "                 suffix1 = 'k'              male : female =     25.6 : 1.0\n",
            "                 suffix2 = 'us'             male : female =     23.7 : 1.0\n",
            "                 suffix1 = 'f'              male : female =     23.5 : 1.0\n",
            "                 suffix2 = 'ta'           female : male   =     21.4 : 1.0\n",
            "                 suffix2 = 'rd'             male : female =     20.6 : 1.0\n",
            "                 suffix2 = 'do'             male : female =     17.8 : 1.0\n",
            "                 suffix2 = 'ch'             male : female =     16.7 : 1.0\n",
            "                 suffix2 = 'im'             male : female =     16.7 : 1.0\n",
            "                 suffix1 = 'v'              male : female =     15.9 : 1.0\n",
            "                 suffix2 = 'io'             male : female =     15.8 : 1.0\n",
            "                 suffix2 = 'os'             male : female =     15.6 : 1.0\n",
            "                 suffix1 = 'm'              male : female =     13.7 : 1.0\n",
            "                 suffix2 = 'ea'           female : male   =     12.6 : 1.0\n",
            "                 suffix2 = 'em'             male : female =     11.3 : 1.0\n",
            "                 suffix2 = 'ig'             male : female =     11.3 : 1.0\n",
            "                 suffix2 = 'ya'           female : male   =     10.5 : 1.0\n",
            "                 suffix2 = 'ns'             male : female =     10.2 : 1.0\n",
            "                 suffix1 = 'p'              male : female =     10.2 : 1.0\n",
            "                 suffix2 = 'on'             male : female =      9.6 : 1.0\n",
            "                 suffix2 = 'ip'             male : female =      9.1 : 1.0\n",
            "                 suffix2 = 'st'             male : female =      9.1 : 1.0\n",
            "                 suffix1 = 'd'              male : female =      9.0 : 1.0\n",
            "                 suffix2 = 'lo'             male : female =      9.0 : 1.0\n",
            "                 suffix2 = 'ed'             male : female =      8.5 : 1.0\n",
            "                 suffix2 = 'es'             male : female =      8.4 : 1.0\n",
            "                 suffix2 = 'di'           female : male   =      8.3 : 1.0\n",
            "                 suffix2 = 'ni'           female : male   =      8.2 : 1.0\n",
            "                 suffix2 = 'rn'             male : female =      8.1 : 1.0\n",
            "                 suffix1 = 'o'              male : female =      7.8 : 1.0\n",
            "                 suffix2 = 'er'             male : female =      7.8 : 1.0\n",
            "                 suffix2 = 'am'             male : female =      7.5 : 1.0\n",
            "                count(v) = 2              female : male   =      7.1 : 1.0\n",
            "None\n"
          ],
          "name": "stdout"
        }
      ]
    },
    {
      "cell_type": "markdown",
      "metadata": {
        "id": "ocUrNKOutFMj"
      },
      "source": [
        "As we can see the results improve, but the 20 most informative features are still the features from the 3rd feature set. However the 40th most informative feature comes from the new feature `count`"
      ]
    },
    {
      "cell_type": "markdown",
      "metadata": {
        "id": "v485qfc3crx9"
      },
      "source": [
        "---\n",
        "# **Section 2**"
      ]
    },
    {
      "cell_type": "markdown",
      "metadata": {
        "id": "CyoUIJsVdII9"
      },
      "source": [
        "## Document Classification\n",
        "First, we construct a list of documents, labeled with the appropriate categories. For this example, we've chosen the Movie Reviews Corpus, which categorizes each review as `positive` or `negative`."
      ]
    },
    {
      "cell_type": "code",
      "metadata": {
        "id": "i1uqrbxjdQtE",
        "tags": [],
        "outputId": "d476ae7c-00dd-4b22-cb76-3295393ae588"
      },
      "source": [
        "nltk.download('movie_reviews')\n",
        "from nltk.corpus import movie_reviews\n",
        "documents = [(list(movie_reviews.words(fileid)), category) \n",
        "              for category in movie_reviews.categories()\n",
        "              for fileid in movie_reviews.fileids(category)]\n",
        "random.shuffle(documents)"
      ],
      "execution_count": null,
      "outputs": [
        {
          "output_type": "stream",
          "text": [
            "[nltk_data] Downloading package movie_reviews to\n",
            "[nltk_data]     /home/andrew/nltk_data...\n",
            "[nltk_data]   Package movie_reviews is already up-to-date!\n"
          ],
          "name": "stderr"
        }
      ]
    },
    {
      "cell_type": "markdown",
      "metadata": {
        "id": "0r8roRQcdtNK"
      },
      "source": [
        "Next, we define a feature extractor for documents, so the classifier will know which aspects of the data it should pay attention to. For document topic identification, we can define a feature for each word, indicating whether the document contains that word.\n",
        "\n",
        "To limit the number of features that the classifier needs to process, we begin by constructing a list of the _2000 most frequent words_ in the overall corpus"
      ]
    },
    {
      "cell_type": "code",
      "metadata": {
        "id": "_jGPUGs5dvUj"
      },
      "source": [
        "all_words = nltk.FreqDist(w.lower() for w in movie_reviews.words())\n",
        "word_features = list(all_words)[:2000]"
      ],
      "execution_count": null,
      "outputs": []
    },
    {
      "cell_type": "markdown",
      "metadata": {
        "id": "EEfXEh_reYsy"
      },
      "source": [
        "We can then define a feature extractor `document_features()` that simply checks whether each of these words is present in a given document."
      ]
    },
    {
      "cell_type": "code",
      "metadata": {
        "id": "FALh7ieLpGqF"
      },
      "source": [
        "def document_features(document):\n",
        "    document_words = set(document)\n",
        "    features = {}\n",
        "    for word in word_features:\n",
        "        features['contains({})'.format(word)] = (word in document_words)\n",
        "    return features"
      ],
      "execution_count": null,
      "outputs": []
    },
    {
      "cell_type": "markdown",
      "metadata": {
        "id": "BrkCWfKppk7K"
      },
      "source": [
        "The reason for computing the set of all words in a document in Line 2, rather than just checking if word in document, is that checking whether a word occurs in a set is much faster than checking whether it occurs in a list.\n",
        "\n",
        "Now, let's test our feature extractor by looking at the words that appeared in this positive review file `pos/cv957_8737.txt`"
      ]
    },
    {
      "cell_type": "code",
      "metadata": {
        "id": "LdfFWO0Tpiyw",
        "tags": [
          "outputPrepend"
        ],
        "outputId": "bcd89b4b-80e1-46f1-ad5c-504097fb5dbb"
      },
      "source": [
        "print(document_features(movie_reviews.words('pos/cv957_8737.txt'))) "
      ],
      "execution_count": null,
      "outputs": [
        {
          "output_type": "stream",
          "text": [
            "contains(train)': True, 'contains(saving)': False, 'contains(share)': False, 'contains(image)': False, 'contains(discovers)': False, 'contains(normal)': False, 'contains(cross)': False, 'contains(fox)': False, 'contains(returns)': False, 'contains(adult)': False, 'contains(adds)': False, 'contains(answer)': False, 'contains(adventure)': False, 'contains(lame)': False, 'contains(male)': False, 'contains(odd)': False, 'contains(singer)': False, 'contains(deserves)': False, 'contains(gore)': False, 'contains(states)': False, 'contains(include)': False, 'contains(equally)': False, 'contains(months)': False, 'contains(barely)': False, 'contains(directors)': False, 'contains(introduced)': False, 'contains(fashion)': False, 'contains(social)': False, 'contains(1999)': False, 'contains(news)': False, 'contains(hair)': False, 'contains(dance)': False, 'contains(innocent)': False, 'contains(camp)': False, 'contains(teacher)': False, 'contains(became)': False, 'contains(sad)': False, 'contains(witch)': False, 'contains(includes)': False, 'contains(nights)': False, 'contains(jason)': False, 'contains(julie)': False, 'contains(latter)': False, 'contains(food)': True, 'contains(jennifer)': False, 'contains(land)': False, 'contains(menace)': False, 'contains(rate)': False, 'contains(storyline)': False, 'contains(contact)': False, 'contains(jean)': False, 'contains(elizabeth)': False, 'contains(fellow)': False, 'contains(changes)': False, 'contains(henry)': False, 'contains(hill)': False, 'contains(pulp)': False, 'contains(gay)': False, 'contains(tried)': False, 'contains(surprised)': False, 'contains(literally)': False, 'contains(walk)': False, 'contains(standard)': False, 'contains(90)': False, 'contains(forward)': False, 'contains(wise)': False, 'contains(enjoyed)': False, 'contains(discover)': False, 'contains(pop)': False, 'contains(anderson)': False, 'contains(offer)': False, 'contains(recommend)': False, 'contains(public)': False, 'contains(drive)': False, 'contains(c)': False, 'contains(toy)': False, 'contains(charming)': False, 'contains(fair)': False, 'contains(chinese)': True, 'contains(rescue)': False, 'contains(terms)': False, 'contains(mouth)': False, 'contains(lucas)': False, 'contains(accident)': False, 'contains(dies)': False, 'contains(decided)': False, 'contains(edge)': False, 'contains(footage)': False, 'contains(culture)': False, 'contains(weak)': False, 'contains(presented)': False, 'contains(blade)': False, 'contains(younger)': False, 'contains(douglas)': False, 'contains(natural)': False, 'contains(born)': False, 'contains(generally)': False, 'contains(teenage)': False, 'contains(older)': False, 'contains(horrible)': False, 'contains(addition)': False, 'contains(sadly)': False, 'contains(creates)': False, 'contains(disturbing)': False, 'contains(roger)': False, 'contains(detail)': False, 'contains(devil)': False, 'contains(debut)': False, 'contains(track)': False, 'contains(developed)': False, 'contains(week)': False, 'contains(russell)': False, 'contains(attack)': False, 'contains(explain)': False, 'contains(rarely)': False, 'contains(fully)': False, 'contains(prove)': False, 'contains(exception)': False, 'contains(jeff)': False, 'contains(twist)': False, 'contains(gang)': False, 'contains(winning)': False, 'contains(jr)': False, 'contains(species)': False, 'contains(issues)': False, 'contains(fresh)': False, 'contains(rules)': False, 'contains(meaning)': False, 'contains(inspired)': False, 'contains(heroes)': False, 'contains(desperate)': False, 'contains(fighting)': False, 'contains(filmed)': False, 'contains(faces)': False, 'contains(alan)': False, 'contains(bright)': False, 'contains(ass)': True, 'contains(flying)': False, 'contains(kong)': True, 'contains(rush)': False, 'contains(forces)': False, 'contains(charles)': False, 'contains(numerous)': False, 'contains(emotions)': False, 'contains(involves)': True, 'contains(patrick)': False, 'contains(weird)': False, 'contains(apparent)': False, 'contains(information)': False, 'contains(revenge)': False, 'contains(jay)': False, 'contains(toward)': False, 'contains(surprising)': False, 'contains(twice)': False, 'contains(editing)': False, 'contains(calls)': False, 'contains(lose)': False, 'contains(vegas)': False, 'contains(stage)': False, 'contains(intended)': False, 'contains(gags)': False, 'contains(opinion)': False, 'contains(likes)': False, 'contains(crazy)': False, 'contains(owner)': False, 'contains(places)': False, 'contains(pair)': False, 'contains(genuine)': False, 'contains(epic)': False, 'contains(speak)': False, 'contains(throw)': False, 'contains(appeal)': False, 'contains(gibson)': False, 'contains(captain)': False, 'contains(military)': False, 'contains(20)': False, 'contains(blair)': False, 'contains(nowhere)': False, 'contains(length)': False, 'contains(nicely)': False, 'contains(cause)': False, 'contains(pass)': False, 'contains(episode)': False, 'contains(kiss)': False, 'contains(arnold)': True, 'contains(please)': False, 'contains(hasn)': False, 'contains(phone)': False, 'contains(filmmaking)': False, 'contains(formula)': False, 'contains(boyfriend)': False, 'contains(talents)': False, 'contains(creating)': False, 'contains(kelly)': False, 'contains(buy)': False, 'contains(wide)': False, 'contains(fantasy)': False, 'contains(mood)': False, 'contains(heads)': False, 'contains(pathetic)': False, 'contains(lacks)': False, 'contains(loved)': False, 'contains(asked)': False, 'contains(mrs)': False, 'contains(witty)': False, 'contains(shakespeare)': False, 'contains(mulan)': False, 'contains(generation)': False, 'contains(affair)': False, 'contains(pieces)': False, 'contains(task)': False, 'contains(rare)': False, 'contains(kept)': False, 'contains(cameo)': False, 'contains(fascinating)': False, 'contains(ed)': False, 'contains(fbi)': False, 'contains(burton)': False, 'contains(incredible)': False, 'contains(accent)': False, 'contains(artist)': False, 'contains(superior)': False, 'contains(academy)': False, 'contains(thomas)': False, 'contains(spirit)': False, 'contains(technical)': False, 'contains(confusing)': False, 'contains(poorly)': False, 'contains(target)': False, 'contains(lover)': False, 'contains(woo)': False, 'contains(mentioned)': False, 'contains(theaters)': False, 'contains(plane)': False, 'contains(confused)': False, 'contains(dennis)': False, 'contains(rob)': False, 'contains(appropriate)': False, 'contains(christmas)': False, 'contains(considered)': False, 'contains(legend)': False, 'contains(shame)': False, 'contains(soul)': False, 'contains(matt)': False, 'contains(campbell)': False, 'contains(process)': False, 'contains(bottom)': False, 'contains(sitting)': False, 'contains(brain)': False, 'contains(creepy)': False, 'contains(13)': False, 'contains(forever)': False, 'contains(dude)': False, 'contains(crap)': False, 'contains(superb)': False, 'contains(speech)': False, 'contains(ice)': False, 'contains(journey)': False, 'contains(masterpiece)': False, 'contains(intriguing)': False, 'contains(names)': False, 'contains(pick)': False, 'contains(speaking)': False, 'contains(virtually)': False, 'contains(award)': False, 'contains(worthy)': False, 'contains(marriage)': False, 'contains(deliver)': False, 'contains(cash)': False, 'contains(magic)': False, 'contains(respect)': False, 'contains(product)': False, 'contains(necessary)': False, 'contains(suppose)': False, 'contains(silent)': False, 'contains(pointless)': False, 'contains(station)': False, 'contains(affleck)': False, 'contains(dimensional)': False, 'contains(charlie)': False, 'contains(allows)': False, 'contains(avoid)': False, 'contains(meant)': False, 'contains(cops)': False, 'contains(attitude)': False, 'contains(relationships)': False, 'contains(hits)': False, 'contains(stephen)': False, 'contains(spends)': False, 'contains(relief)': False, 'contains(physical)': True, 'contains(count)': False, 'contains(reviews)': False, 'contains(appreciate)': False, 'contains(cliches)': False, 'contains(holds)': False, 'contains(pure)': False, 'contains(plans)': False, 'contains(limited)': False, 'contains(failed)': False, 'contains(pain)': False, 'contains(impression)': False, 'contains(unless)': False, 'contains(sub)': False, 'contains([)': False, 'contains(total)': False, 'contains(creature)': False, 'contains(viewing)': False, 'contains(loves)': False, 'contains(princess)': False, 'contains(kate)': False, 'contains(rising)': False, 'contains(woods)': False, 'contains(baldwin)': False, 'contains(angry)': False, 'contains(drawn)': False, 'contains(step)': False, 'contains(matrix)': False, 'contains(themes)': False, 'contains(satire)': False, 'contains(arts)': False, 'contains(])': False, 'contains(remake)': False, 'contains(wall)': False, 'contains(moral)': False, 'contains(color)': False, 'contains(ray)': False, 'contains(stuck)': False, 'contains(touching)': False, 'contains(wit)': False, 'contains(tony)': False, 'contains(hanks)': False, 'contains(continues)': False, 'contains(damn)': False, 'contains(nobody)': False, 'contains(cartoon)': False, 'contains(keeping)': False, 'contains(realized)': False, 'contains(criminal)': False, 'contains(unfunny)': False, 'contains(comedic)': False, 'contains(martial)': False, 'contains(disappointing)': False, 'contains(anti)': False, 'contains(graphic)': False, 'contains(stunning)': False, 'contains(actions)': False, 'contains(floor)': False, 'contains(emotion)': False, 'contains(soldiers)': False, 'contains(edward)': False, 'contains(comedies)': False, 'contains(driver)': False, 'contains(expectations)': False, 'contains(added)': False, 'contains(mad)': False, 'contains(angels)': False, 'contains(shallow)': False, 'contains(suspect)': False, 'contains(humorous)': False, 'contains(phantom)': False, 'contains(appealing)': False, 'contains(device)': False, 'contains(design)': False, 'contains(industry)': False, 'contains(reach)': False, 'contains(fat)': False, 'contains(blame)': False, 'contains(united)': False, 'contains(sign)': False, 'contains(portrayal)': False, 'contains(rocky)': False, 'contains(finale)': False, 'contains(grand)': False, 'contains(opposite)': False, 'contains(hotel)': False, 'contains(match)': False, 'contains(damme)': False, 'contains(speed)': False, 'contains(ok)': False, 'contains(loving)': False, 'contains(field)': True, 'contains(larry)': False, 'contains(urban)': False, 'contains(troopers)': False, 'contains(compared)': False, 'contains(apes)': False, 'contains(rose)': False, 'contains(falling)': False, 'contains(era)': False, 'contains(loses)': False, 'contains(adults)': False, 'contains(managed)': False, 'contains(dad)': False, 'contains(therefore)': False, 'contains(pg)': False, 'contains(results)': False, 'contains(guns)': False, 'contains(radio)': False, 'contains(lady)': False, 'contains(manage)': False, 'contains(spice)': False, 'contains(naked)': False, 'contains(started)': False, 'contains(intense)': False, 'contains(humanity)': False, 'contains(wonderfully)': False, 'contains(slasher)': False, 'contains(bland)': False, 'contains(imagination)': False, 'contains(walking)': False, 'contains(willing)': False, 'contains(horse)': False, 'contains(rent)': False, 'contains(mix)': False, 'contains(generated)': False, 'contains(g)': False, 'contains(utterly)': False, 'contains(scientist)': False, 'contains(washington)': False, 'contains(notice)': False, 'contains(players)': False, 'contains(teenagers)': False, 'contains(moore)': False, 'contains(board)': False, 'contains(price)': False, 'contains(frightening)': False, 'contains(tommy)': False, 'contains(spectacular)': False, 'contains(bored)': False, 'contains(jane)': False, 'contains(join)': False, 'contains(producers)': False, 'contains(johnny)': False, 'contains(zero)': False, 'contains(vampires)': False, 'contains(adaptation)': False, 'contains(dollars)': False, 'contains(parody)': False, 'contains(documentary)': False, 'contains(dvd)': False, 'contains(wayne)': False, 'contains(post)': False, 'contains(exist)': False, 'contains(matters)': False, 'contains(chosen)': False, 'contains(mel)': False, 'contains(attractive)': True, 'contains(plain)': False, 'contains(trust)': False, 'contains(safe)': False, 'contains(reading)': False, 'contains(hoping)': False, 'contains(protagonist)': False, 'contains(feelings)': False, 'contains(fate)': False, 'contains(finding)': False, 'contains(feet)': False, 'contains(visuals)': False, 'contains(spawn)': False, 'contains(compelling)': False, 'contains(hall)': False, 'contains(sympathetic)': False, 'contains(featuring)': False, 'contains(difference)': False, 'contains(professional)': False, 'contains(drugs)': False, 'contains(ford)': False, 'contains(shooting)': False, 'contains(gold)': False, 'contains(patch)': False, 'contains(build)': False, 'contains(boat)': False, 'contains(cruise)': False, 'contains(honest)': False, 'contains(media)': False, 'contains(flicks)': False, 'contains(bug)': False, 'contains(bringing)': False, 'contains(dangerous)': True, 'contains(watched)': False, 'contains(grant)': False, 'contains(smile)': False, 'contains(plus)': False, 'contains(shouldn)': False, 'contains(decision)': False, 'contains(visually)': False, 'contains(allow)': False, 'contains(starship)': False, 'contains(roberts)': False, 'contains(dying)': False, 'contains(portrayed)': False, 'contains(turning)': False, 'contains(believes)': False, 'contains(changed)': False, 'contains(shock)': False, 'contains(destroy)': False, 'contains(30)': False, 'contains(crowd)': False, 'contains(broken)': False, 'contains(tired)': False, 'contains(fail)': False, 'contains(south)': False, 'contains(died)': False, 'contains(cult)': False, 'contains(fake)': False, 'contains(vincent)': False, 'contains(identity)': False, 'contains(sexy)': False, 'contains(hunt)': False, 'contains(jedi)': False, 'contains(flynt)': False, 'contains(alex)': False, 'contains(engaging)': False, 'contains(serve)': False, 'contains(snake)': False, 'contains(yeah)': False, 'contains(expecting)': False, 'contains(100)': False, 'contains(decade)': False, 'contains(ups)': False, 'contains(constant)': False, 'contains(current)': False, 'contains(survive)': False, 'contains(jimmy)': False, 'contains(buddy)': False, 'contains(send)': False, 'contains(brooks)': False, 'contains(goofy)': False, 'contains(likable)': False, 'contains(humour)': False, 'contains(technology)': False, 'contains(files)': False, 'contains(babe)': False, 'contains(aspects)': False, 'contains(presents)': False, 'contains(kills)': False, 'contains(supposedly)': False, 'contains(eight)': True, 'contains(sandler)': False, 'contains(hospital)': False, 'contains(test)': False, 'contains(hidden)': False, 'contains(brian)': False, 'contains(books)': False, 'contains(promise)': False, 'contains(determined)': False, 'contains(professor)': False, 'contains(welcome)': False, 'contains(pleasure)': False, 'contains(succeeds)': False, 'contains(individual)': False, 'contains(annie)': False, 'contains(mob)': False, 'contains(ted)': False, 'contains(virus)': False, 'contains(content)': False, 'contains(gary)': False, 'contains(direct)': False, 'contains(contrived)': False, 'contains(carpenter)': False, 'contains(scale)': False, 'contains(sick)': False, 'contains(nasty)': False, 'contains(conflict)': False, 'contains(haunting)': False, 'contains(ghost)': False, 'contains(filmmaker)': False, 'contains(japanese)': False, 'contains(helps)': False, 'contains(fare)': False, 'contains(lucky)': False, 'contains(ultimate)': False, 'contains(window)': False, 'contains(support)': False, 'contains(goal)': False, 'contains(provided)': False, 'contains(genius)': False, 'contains(winner)': False, 'contains(taylor)': False, 'contains(fantastic)': False, 'contains(faith)': False, 'contains(lynch)': False, 'contains(fit)': False, 'contains(catherine)': False, 'contains(ms)': False, 'contains(paced)': False, 'contains(breaks)': False, 'contains(al)': False, 'contains(frame)': False, 'contains(travel)': False, 'contains(badly)': False, 'contains(available)': False, 'contains(cares)': False, 'contains(reeves)': False, 'contains(crash)': False, 'contains(driving)': False, 'contains(press)': False, 'contains(seagal)': False, 'contains(amy)': False, 'contains(9)': False, 'contains(headed)': False, 'contains(instance)': False, 'contains(excuse)': False, 'contains(offensive)': False, 'contains(narrative)': False, 'contains(fault)': False, 'contains(bus)': False, 'contains(f)': False, 'contains(extreme)': False, 'contains(miller)': False, 'contains(guilty)': False, 'contains(grows)': False, 'contains(overly)': False, 'contains(liners)': False, 'contains(forgotten)': False, 'contains(ahead)': False, 'contains(accept)': False, 'contains(porn)': False, 'contains(directly)': False, 'contains(helen)': False, 'contains(began)': False, 'contains(lord)': False, 'contains(folks)': False, 'contains(mediocre)': False, 'contains(bar)': False, 'contains(surface)': False, 'contains(super)': False, 'contains(failure)': False, 'contains(6)': False, 'contains(acted)': False, 'contains(quiet)': False, 'contains(laughable)': False, 'contains(sheer)': False, 'contains(security)': True, 'contains(emotionally)': False, 'contains(season)': False, 'contains(stuart)': False, 'contains(jail)': True, 'contains(deals)': False, 'contains(cheesy)': False, 'contains(court)': False, 'contains(beach)': False, 'contains(austin)': False, 'contains(model)': False, 'contains(outstanding)': False, 'contains(substance)': False, 'contains(nudity)': False, 'contains(slapstick)': False, 'contains(joan)': False, 'contains(reveal)': False, 'contains(placed)': False, 'contains(check)': False, 'contains(beast)': False, 'contains(hurt)': False, 'contains(bloody)': False, 'contains(acts)': False, 'contains(fame)': False, 'contains(meeting)': False, 'contains(nuclear)': False, 'contains(1996)': False, 'contains(strength)': False, 'contains(center)': False, 'contains(funniest)': False, 'contains(standing)': True, 'contains(damon)': False, 'contains(clich)': False, 'contains(position)': False, 'contains(desire)': False, 'contains(driven)': False, 'contains(seat)': False, 'contains(stock)': False, 'contains(wondering)': True, 'contains(realizes)': False, 'contains(dealing)': False, 'contains(taste)': False, 'contains(routine)': False, 'contains(comparison)': False, 'contains(cinematographer)': False, 'contains(seconds)': False, 'contains(singing)': False, 'contains(gangster)': True, 'contains(responsible)': False, 'contains(football)': False, 'contains(remarkable)': False, 'contains(hunting)': False, 'contains(adams)': False, 'contains(fly)': False, 'contains(suspects)': False, 'contains(treat)': False, 'contains(hopes)': False, 'contains(heaven)': False, 'contains(myers)': False, 'contains(struggle)': False, 'contains(costumes)': False, 'contains(beat)': False, 'contains(happening)': False, 'contains(skills)': False, 'contains(ugly)': False, 'contains(figures)': False, 'contains(thoroughly)': False, 'contains(ill)': False, 'contains(surprises)': False, 'contains(player)': False, 'contains(rival)': False, 'contains(guard)': True, 'contains(anthony)': False, 'contains(strike)': False, 'contains(community)': False, 'contains(streets)': False, 'contains(hopkins)': False, 'contains(ended)': False, 'contains(originally)': False, 'contains(sarah)': False, 'contains(creative)': False, 'contains(characterization)': False, 'contains(thankfully)': False, 'contains(growing)': False, 'contains(sharp)': False, 'contains(williamson)': False, 'contains(eccentric)': False, 'contains(explained)': False, 'contains(hey)': False, 'contains(claire)': False, 'contains(steal)': False, 'contains(inevitable)': False, 'contains(joel)': False, 'contains(core)': False, 'contains(weren)': False, 'contains(sorry)': False, 'contains(built)': False, 'contains(anne)': False, 'contains(breaking)': False, 'contains(villains)': False, 'contains(critic)': False, 'contains(lets)': False, 'contains(visit)': False, 'contains(followed)': False}\n"
          ],
          "name": "stdout"
        }
      ]
    },
    {
      "cell_type": "markdown",
      "metadata": {
        "id": "T6SwETS0ewgK"
      },
      "source": [
        "Now that we've defined our feature extractor, we can use it to train a classifier to label new movie reviews."
      ]
    },
    {
      "cell_type": "code",
      "metadata": {
        "id": "KKPrGRy5exFN"
      },
      "source": [
        "featuresets = [(document_features(d), c) for (d,c) in documents]\n",
        "train_set, test_set = featuresets[100:], featuresets[:100]\n",
        "classifier = nltk.NaiveBayesClassifier.train(train_set)"
      ],
      "execution_count": null,
      "outputs": []
    },
    {
      "cell_type": "markdown",
      "metadata": {
        "id": "786mWwbgqxCs"
      },
      "source": [
        "To check how reliable the resulting classifier is, we compute its accuracy on the test set. "
      ]
    },
    {
      "cell_type": "code",
      "metadata": {
        "id": "1UpUPCADe2Gu",
        "tags": [],
        "outputId": "82b3c13a-7add-4d26-b93e-afc234e80016"
      },
      "source": [
        "print(nltk.classify.accuracy(classifier, test_set))"
      ],
      "execution_count": null,
      "outputs": [
        {
          "output_type": "stream",
          "text": [
            "0.81\n"
          ],
          "name": "stdout"
        }
      ]
    },
    {
      "cell_type": "markdown",
      "metadata": {
        "id": "WUSJiIFSozFO"
      },
      "source": [
        "Again, we can use `show_most_informative_features()` to find out which features the classifier found to be most informative."
      ]
    },
    {
      "cell_type": "code",
      "metadata": {
        "id": "-Ud0HnLcoxz1",
        "tags": [],
        "outputId": "19a0f94f-59bb-4fc5-fd00-3c8bfe7afb0c"
      },
      "source": [
        "classifier.show_most_informative_features()"
      ],
      "execution_count": null,
      "outputs": [
        {
          "output_type": "stream",
          "text": [
            "Most Informative Features\n",
            "   contains(outstanding) = True              pos : neg    =     10.9 : 1.0\n",
            "        contains(seagal) = True              neg : pos    =      8.2 : 1.0\n",
            "         contains(mulan) = True              pos : neg    =      7.7 : 1.0\n",
            "         contains(damon) = True              pos : neg    =      7.6 : 1.0\n",
            "   contains(wonderfully) = True              pos : neg    =      7.3 : 1.0\n",
            "        contains(wasted) = True              neg : pos    =      6.1 : 1.0\n",
            "          contains(lame) = True              neg : pos    =      5.2 : 1.0\n",
            "        contains(poorly) = True              neg : pos    =      5.2 : 1.0\n",
            "         contains(awful) = True              neg : pos    =      5.1 : 1.0\n",
            "    contains(ridiculous) = True              neg : pos    =      5.1 : 1.0\n"
          ],
          "name": "stdout"
        }
      ]
    },
    {
      "cell_type": "markdown",
      "metadata": {
        "id": "0EEmNWr_rrgP"
      },
      "source": [
        "Apparently in this corpus, a review that mentions **lame** is almost 5.2 times more likely to be negative than positive, while a review that mentions **mulan** is about 7.7 times more likely to be positive."
      ]
    },
    {
      "cell_type": "markdown",
      "metadata": {
        "id": "sC-3PYuqrcEH"
      },
      "source": [
        "## **Task 2**\n",
        "\n",
        "The document feature extractor checks whether each word is present in a given document. Can you create other feature extractors as defined below?: \n",
        "\n",
        "1. `document_features2()`: uses the word frequency counts (and not their presence) as features.\n",
        "\n",
        "2. `document_features3()`: extracts and uses the bigrams present in the document as features\n",
        "\n",
        "3. `document_features4()`: combine the unigrams (words) and bigram presence as features\n",
        "\n",
        "Test your results with these and share your observation"
      ]
    },
    {
      "cell_type": "code",
      "metadata": {
        "id": "TwCQD2GutFMq"
      },
      "source": [
        "# Create the train and test documents\n",
        "train_documents, test_documents = documents[100:], documents[:100]\n",
        "# Pre-Process the documents by lower casing them\n",
        "train_documents = [([word.lower() for word in words], label) \n",
        "                   for words, label in train_documents]\n",
        "test_documents = [([word.lower() for word in words], label) \n",
        "                  for words, label in test_documents]\n",
        "\n",
        "def most_n_frequent_grams(train_dataset: List[Tuple[List[str], str]],\n",
        "                          min_n_gram: int, \n",
        "                          max_n_gram: int,\n",
        "                          n: int) -> List[Tuple]:\n",
        "    '''\n",
        "    :param train_dataset: A list of documents represented by a Tuple of:\n",
        "                          (List of words/tokens, label).\n",
        "    :param min_n_gram: The minimum size n_gram to produce.\n",
        "    :param max_n_gram: The maximum size n_gram to produce.\n",
        "    :param n: Defines how many frequent n grams to return.\n",
        "    :returns: The top n most frequent n-grams. Whereby the list is \n",
        "              made up of Tuples as it can be n-grams e.g. a list of \n",
        "              most frequent tri-grams will contains a list of tuples \n",
        "              of size 3. Where as uni-grams will be a Tuple of size \n",
        "              1.\n",
        "              \n",
        "    \n",
        "    The min_n_gram should be <= max_n_gram and always > 0.\n",
        "    '''\n",
        "    all_words = [word for words, _ in train_dataset for word in words]\n",
        "    n_grams = nltk.everygrams(all_words, min_len=min_n_gram, max_len=max_n_gram)\n",
        "    return list(nltk.FreqDist(n_grams))[:n]\n",
        "\n",
        "# Only going to use the top 2000 most frequent uni-grams\n",
        "most_frequent_uni_grams = most_n_frequent_grams(train_documents, 1, 1, 2000)\n",
        "\n",
        "# Using Counter is quicker than using the count function on a list.\n",
        "from collections import Counter\n",
        "def document_features2(document: List[str]) -> Dict[str, Any]:\n",
        "    feature_set = {}\n",
        "    word_counts = Counter(document)\n",
        "    for word in most_frequent_uni_grams:\n",
        "        word = word[0]\n",
        "        feature_set[f'count({word})'] = word_counts.get(word, 0)\n",
        "    return feature_set\n",
        "\n",
        "# Only going to use the top 2000 most frequent bi-grams\n",
        "most_frequent_bi_grams = most_n_frequent_grams(train_documents, 2, 2, 2000)\n",
        "def document_features3(document: List[str]) -> Dict[str, Any]:\n",
        "    feature_set = {}\n",
        "    document_words = set(nltk.everygrams((word for word in document), 2,2))\n",
        "    for word in most_frequent_bi_grams:\n",
        "        feature_set[f'contains({word})'] = word in document_words\n",
        "    return feature_set\n",
        "\n",
        "# Only going to use the top 2000 most frequent uni and bi grams\n",
        "most_frequent_uni_bi_grams = most_n_frequent_grams(train_documents, 1, 2, 2000)\n",
        "def document_features4(document: List[str]) -> Dict[str, Any]:\n",
        "    feature_set = {}\n",
        "    document_words = set(nltk.everygrams((word for word in document), 1,2))\n",
        "    for word in most_frequent_uni_bi_grams:\n",
        "        feature_set[f'contains({word})'] = word in document_words\n",
        "    return feature_set"
      ],
      "execution_count": null,
      "outputs": []
    },
    {
      "cell_type": "code",
      "metadata": {
        "tags": [],
        "id": "GKiN1wF6tFMq",
        "outputId": "ef1cacfd-0fbc-4719-8bad-76e74ea414db"
      },
      "source": [
        "# Evaluate all the document features:\n",
        "document_feature_callables = [document_features, document_features2, document_features3, document_features4]\n",
        "\n",
        "for index, feature_set_callable in enumerate(document_feature_callables):\n",
        "    print(f'Feature set {index + 1}')\n",
        "    trained_classifier = train_classifier(feature_set_callable, train_documents)\n",
        "    test_accuracy, _ = evaluate_classifier(trained_classifier, \n",
        "                                           feature_set_callable, \n",
        "                                           test_documents)\n",
        "    print(f'Test accuracy: {test_accuracy}')\n",
        "    print(trained_classifier.show_most_informative_features(10))"
      ],
      "execution_count": null,
      "outputs": [
        {
          "output_type": "stream",
          "text": [
            "Feature set 1\n",
            "Test accuracy: 0.81\n",
            "Most Informative Features\n",
            "   contains(outstanding) = True              pos : neg    =     10.9 : 1.0\n",
            "        contains(seagal) = True              neg : pos    =      8.2 : 1.0\n",
            "         contains(mulan) = True              pos : neg    =      7.7 : 1.0\n",
            "         contains(damon) = True              pos : neg    =      7.6 : 1.0\n",
            "   contains(wonderfully) = True              pos : neg    =      7.3 : 1.0\n",
            "        contains(wasted) = True              neg : pos    =      6.1 : 1.0\n",
            "          contains(lame) = True              neg : pos    =      5.2 : 1.0\n",
            "        contains(poorly) = True              neg : pos    =      5.2 : 1.0\n",
            "         contains(awful) = True              neg : pos    =      5.1 : 1.0\n",
            "    contains(ridiculous) = True              neg : pos    =      5.1 : 1.0\n",
            "None\n",
            "Feature set 2\n",
            "Test accuracy: 0.79\n",
            "Most Informative Features\n",
            "           count(stupid) = 2                 neg : pos    =     12.1 : 1.0\n",
            "           count(boring) = 2                 neg : pos    =     11.8 : 1.0\n",
            "              count(bad) = 5                 neg : pos    =     11.6 : 1.0\n",
            "             count(best) = 4                 pos : neg    =     11.0 : 1.0\n",
            "      count(outstanding) = 1                 pos : neg    =     10.0 : 1.0\n",
            "               count(we) = 8                 pos : neg    =      8.4 : 1.0\n",
            "              count(bad) = 6                 neg : pos    =      8.3 : 1.0\n",
            "           count(anyway) = 2                 neg : pos    =      8.3 : 1.0\n",
            "             count(most) = 6                 pos : neg    =      7.8 : 1.0\n",
            "          count(country) = 2                 pos : neg    =      7.7 : 1.0\n",
            "None\n",
            "Feature set 3\n",
            "Test accuracy: 0.73\n",
            "Most Informative Features\n",
            "contains(('waste', 'of')) = True              neg : pos    =      8.2 : 1.0\n",
            "contains(('bad', 'movie')) = True              neg : pos    =      6.2 : 1.0\n",
            "contains(('portrayal', 'of')) = True              pos : neg    =      4.8 : 1.0\n",
            "contains(('too', 'bad')) = True              neg : pos    =      4.6 : 1.0\n",
            "    contains(('?', 's')) = True              neg : pos    =      4.2 : 1.0\n",
            " contains(('s', 'life')) = True              pos : neg    =      3.9 : 1.0\n",
            "contains(('only', 'thing')) = True              neg : pos    =      3.7 : 1.0\n",
            "contains(('the', 'worst')) = True              neg : pos    =      3.6 : 1.0\n",
            "contains(('is', 'supposed')) = True              neg : pos    =      3.2 : 1.0\n",
            "  contains(('.', 'why')) = True              neg : pos    =      3.1 : 1.0\n",
            "None\n",
            "Feature set 4\n",
            "Test accuracy: 0.79\n",
            "Most Informative Features\n",
            "    contains(('awful',)) = True              neg : pos    =      5.1 : 1.0\n",
            "contains(('ridiculous',)) = True              neg : pos    =      5.1 : 1.0\n",
            "    contains(('waste',)) = True              neg : pos    =      4.8 : 1.0\n",
            "   contains(('stupid',)) = True              neg : pos    =      4.2 : 1.0\n",
            "    contains(('worst',)) = True              neg : pos    =      4.2 : 1.0\n",
            "     contains(('mess',)) = True              neg : pos    =      3.9 : 1.0\n",
            "contains(('memorable',)) = True              pos : neg    =      3.9 : 1.0\n",
            "     contains(('dull',)) = True              neg : pos    =      3.8 : 1.0\n",
            "   contains(('boring',)) = True              neg : pos    =      3.4 : 1.0\n",
            " contains(('terrible',)) = True              neg : pos    =      3.4 : 1.0\n",
            "None\n"
          ],
          "name": "stdout"
        }
      ]
    },
    {
      "cell_type": "markdown",
      "metadata": {
        "id": "9Sp-mG8LtFMr"
      },
      "source": [
        "As we can see the least feature engineerd result was the best (`document_features`) using only the presence of uni-grams. Showing that we can over engineer our features, thus getting worse results."
      ]
    }
  ]
}