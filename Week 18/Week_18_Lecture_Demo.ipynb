{
  "nbformat": 4,
  "nbformat_minor": 0,
  "metadata": {
    "kernelspec": {
      "display_name": "Python 3",
      "language": "python",
      "name": "python3"
    },
    "language_info": {
      "codemirror_mode": {
        "name": "ipython",
        "version": 3
      },
      "file_extension": ".py",
      "mimetype": "text/x-python",
      "name": "python",
      "nbconvert_exporter": "python",
      "pygments_lexer": "ipython3",
      "version": "3.6.12"
    },
    "colab": {
      "name": "Week 18 Lecture Demo.ipynb",
      "provenance": [],
      "include_colab_link": true
    }
  },
  "cells": [
    {
      "cell_type": "markdown",
      "metadata": {
        "id": "view-in-github",
        "colab_type": "text"
      },
      "source": [
        "<a href=\"https://colab.research.google.com/github/IgnatiusEzeani/NLP-Lecture/blob/main/Week_18_Lecture_Demo.ipynb\" target=\"_parent\"><img src=\"https://colab.research.google.com/assets/colab-badge.svg\" alt=\"Open In Colab\"/></a>"
      ]
    },
    {
      "cell_type": "markdown",
      "metadata": {
        "id": "fKQmUn2SI24p"
      },
      "source": [
        "## Gender Identification\r\n",
        "\r\n",
        "**Credit**: The example code below were taken from [Chapters 6 of the NLTK book](https://www.nltk.org/book/ch06.html).\r\n",
        "\r\n",
        "NLTK has a wordlist corpus, `Names`, containing 8,000 first names categorized by gender. The male and female names are stored in separate files. Let's find names which appear in both files, i.e. names that are ambiguous for gender:"
      ]
    },
    {
      "cell_type": "markdown",
      "metadata": {
        "id": "L6-fTmlcsxy5"
      },
      "source": [
        "###**Import `nltk` and download the `name` corpus**"
      ]
    },
    {
      "cell_type": "code",
      "metadata": {
        "id": "jdIPt9_3KaTm"
      },
      "source": [
        "import nltk\r\n",
        "import random\r\n",
        "nltk.download('names')\r\n",
        "names = nltk.corpus.names "
      ],
      "execution_count": null,
      "outputs": []
    },
    {
      "cell_type": "markdown",
      "metadata": {
        "id": "-oxQp3aktOUa"
      },
      "source": [
        "###**Names in both male and female list**"
      ]
    },
    {
      "cell_type": "code",
      "metadata": {
        "id": "L-PEqqK-P1U0"
      },
      "source": [
        "print(names.fileids())\r\n",
        "male_names = names.words('male.txt')\r\n",
        "female_names = names.words('female.txt')\r\n",
        "male_female = [w for w in male_names if w in female_names]\r\n",
        "print(len(male_female))\r\n",
        "for name in male_female[:20]:\r\n",
        "  print(name)"
      ],
      "execution_count": null,
      "outputs": []
    },
    {
      "cell_type": "markdown",
      "metadata": {
        "id": "WlXanISitogQ"
      },
      "source": [
        "\r\n",
        "###**Distribution of last letters**\r\n",
        "According to [NLTK](https://www.nltk.org/book/ch02.html#sec-lexical-resources) suggests that male and female names have some distinctive characteristics. Names ending in `a`, `e` and `i` are likely to be female, while names ending in `k`, `o`, `r`, `s` and `t` are likely to be male. Let's see..."
      ]
    },
    {
      "cell_type": "code",
      "metadata": {
        "id": "IJxOj6IAiCwV"
      },
      "source": [
        "cfd = nltk.ConditionalFreqDist(\r\n",
        "    (fileid, name[-1])\r\n",
        "    for fileid in names.fileids()\r\n",
        "    for name in names.words(fileid))\r\n",
        "cfd.plot()"
      ],
      "execution_count": null,
      "outputs": []
    },
    {
      "cell_type": "markdown",
      "metadata": {
        "id": "GKTCnXVtulTM"
      },
      "source": [
        "###**Feature extractor functions**\r\n",
        "Let's build a classifier to model these differences more precisely. The first step in creating a classifier is deciding what features of the input are relevant, and how to encode those features. For this example, we'll start by just looking at the final letter of a given name.\r\n",
        "\r\n",
        "The following feature extractors function builds a dictionary containing relevant information about a given name"
      ]
    },
    {
      "cell_type": "code",
      "metadata": {
        "id": "XkqwZA97-kco"
      },
      "source": [
        "# feature extractor 1\r\n",
        "def gender_features(word):\r\n",
        "  return {'last_letter': word[-1]}\r\n",
        "\r\n",
        "# feature extractor 2\r\n",
        "def gender_features2(name):\r\n",
        "    features = {}\r\n",
        "    features[\"first_letter\"] = name[0].lower()\r\n",
        "    features[\"last_letter\"] = name[-1].lower()\r\n",
        "    for letter in 'abcdefghijklmnopqrstuvwxyz':\r\n",
        "        features[\"count({})\".format(letter)] = name.lower().count(letter)\r\n",
        "        features[\"has({})\".format(letter)] = (letter in name.lower())\r\n",
        "    return features\r\n",
        "\r\n",
        "# feature extractor 3\r\n",
        "def gender_features3(word):\r\n",
        "  return {'suffix1': word[-1:], 'suffix2': word[-2:]}"
      ],
      "execution_count": null,
      "outputs": []
    },
    {
      "cell_type": "markdown",
      "metadata": {
        "id": "mG4qDaRuLg04"
      },
      "source": [
        "###**Compiling the training instances**"
      ]
    },
    {
      "cell_type": "code",
      "metadata": {
        "id": "tkva_riO-kZh"
      },
      "source": [
        "# Building the training instances\r\n",
        "labeled_names = ([(name, 'male') for name in names.words('male.txt')] \r\n",
        "                 + [(name, 'female') for name in names.words('female.txt')])\r\n",
        "random.shuffle(labeled_names)\r\n",
        "# len(labeled_names)"
      ],
      "execution_count": null,
      "outputs": []
    },
    {
      "cell_type": "markdown",
      "metadata": {
        "id": "o6O8QNZlKnLl"
      },
      "source": [
        "###**Train-DevTest-Test Split**"
      ]
    },
    {
      "cell_type": "code",
      "metadata": {
        "id": "M51A2vI48Mj3"
      },
      "source": [
        "# train-devtest-test split\r\n",
        "train_names = labeled_names[1500:]\r\n",
        "devtest_names = labeled_names[500:1500]\r\n",
        "test_names = labeled_names[:500]\r\n",
        "print(len(train_names), len(devtest_names), len(test_names))"
      ],
      "execution_count": null,
      "outputs": []
    },
    {
      "cell_type": "markdown",
      "metadata": {
        "id": "JLRZLY_mKbcB"
      },
      "source": [
        "###**Extracting the features**"
      ]
    },
    {
      "cell_type": "code",
      "metadata": {
        "id": "_CxljUFP9LgE"
      },
      "source": [
        "# Extracting the features\r\n",
        "train_set = [(gender_features(n), gender) for (n, gender) in train_names]\r\n",
        "devtest_set = [(gender_features(n), gender) for (n, gender) in devtest_names]\r\n",
        "test_set = [(gender_features(n), gender) for (n, gender) in test_names]"
      ],
      "execution_count": null,
      "outputs": []
    },
    {
      "cell_type": "markdown",
      "metadata": {
        "id": "2bEVZPNBKOat"
      },
      "source": [
        "###**Training and Testing the Classifier**"
      ]
    },
    {
      "cell_type": "code",
      "metadata": {
        "id": "B9_KWPJQ6JHI"
      },
      "source": [
        "# Training the classifier\r\n",
        "classifier = nltk.NaiveBayesClassifier.train(train_set)\r\n",
        "\r\n",
        "# apply the classifier to the development test\r\n",
        "print(nltk.classify.accuracy(classifier, devtest_set))"
      ],
      "execution_count": null,
      "outputs": []
    },
    {
      "cell_type": "markdown",
      "metadata": {
        "id": "AN8fWZAtHbh4"
      },
      "source": [
        "###**Building the Error List**"
      ]
    },
    {
      "cell_type": "code",
      "metadata": {
        "id": "sn3_5EZr90tR"
      },
      "source": [
        "# error analysis\r\n",
        "errors = []\r\n",
        "for (name, tag) in devtest_names:\r\n",
        "  guess = classifier.classify(gender_features(name))\r\n",
        "  if guess != tag:\r\n",
        "    errors.append((tag, guess, name))"
      ],
      "execution_count": null,
      "outputs": []
    },
    {
      "cell_type": "markdown",
      "metadata": {
        "id": "MnD217e5HKMA"
      },
      "source": [
        "###**Show errors**"
      ]
    },
    {
      "cell_type": "code",
      "metadata": {
        "id": "-N_Md01I-ZNK"
      },
      "source": [
        "# Error list\r\n",
        "print(\"Errors:\", len(errors))\r\n",
        "for (tag, guess, name) in sorted(errors[:20]):\r\n",
        "  print('correct={:<8} guess={:<8s} name={:<30}'.format(tag, guess, name))"
      ],
      "execution_count": null,
      "outputs": []
    },
    {
      "cell_type": "markdown",
      "metadata": {
        "id": "GQlZcaUpGrBd"
      },
      "source": [
        "###**Most informative features**"
      ]
    },
    {
      "cell_type": "code",
      "metadata": {
        "id": "MRZxc8u7-hOX"
      },
      "source": [
        "# Most informative features\r\n",
        "classifier.show_most_informative_features(10)"
      ],
      "execution_count": null,
      "outputs": []
    },
    {
      "cell_type": "markdown",
      "metadata": {
        "id": "hFRN2Gf_GQPM"
      },
      "source": [
        "###**Classifying other names**"
      ]
    },
    {
      "cell_type": "code",
      "metadata": {
        "id": "K3dAeUx_-kTe"
      },
      "source": [
        "print(classifier.classify(gender_features('Neo')))\r\n",
        "# Output: 'male'\r\n",
        "print(classifier.classify(gender_features('Trinity')))\r\n",
        "# Output: 'female'"
      ],
      "execution_count": null,
      "outputs": []
    },
    {
      "cell_type": "markdown",
      "metadata": {
        "id": "0O9VhNdMFM0o"
      },
      "source": [
        "###**Classifying your name**"
      ]
    },
    {
      "cell_type": "code",
      "metadata": {
        "id": "Et4DTQyRFN9F"
      },
      "source": [
        "## Uncomment and modify below to classify your name with your best classifier\r\n",
        "# print(classifier.classify(gender_features(<your name>))) #remember to change your "
      ],
      "execution_count": null,
      "outputs": []
    },
    {
      "cell_type": "markdown",
      "metadata": {
        "id": "R-6SwAlzXzJH"
      },
      "source": [
        "###**Using other extractors**\r\n",
        "\r\n",
        "You can use the other two feature extractor functions `gender_features2()` and `gender_features3()`.\r\n",
        "\r\n",
        "1. Which performed better and why?\r\n",
        "\r\n",
        "2. Can you think of any other way to modify the feature extractor function? Apply it and test your result. "
      ]
    },
    {
      "cell_type": "code",
      "metadata": {
        "id": "FVGFx12KbM8-"
      },
      "source": [
        "## Your code here"
      ],
      "execution_count": null,
      "outputs": []
    }
  ]
}